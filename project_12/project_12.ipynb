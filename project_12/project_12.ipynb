{
 "cells": [
  {
   "cell_type": "markdown",
   "metadata": {},
   "source": [
    "# Introduccion\n",
    "\n",
    "Rusty Bargain, empresa dedicada a la venta de carros usados, se encuentra desarrollando una app para atraer nuevos clientes, lo que hace atractiva la app es que pueda averiguar rápidamente el valor de mercado del coche del cliente. \n",
    "\n",
    "# Recursos\n",
    "\n",
    "La compañia proporciona la siguiente información:\n",
    "\n",
    "     - especificaciones técnicas\n",
    "     - versiones de equipamiento\n",
    "     - precios\n",
    "\n",
    "# Objetivo\n",
    "\n",
    "Crear un modelo que determine el valor de mercado de los vehiculos de los clientes. El modelo debe complir con los siguientes requerimientos:\n",
    "\n",
    "    - la calidad de la predicción\n",
    "    - la velocidad de la predicción\n",
    "    - el tiempo requerido para el entrenamiento"
   ]
  },
  {
   "cell_type": "markdown",
   "metadata": {},
   "source": [
    "## Preparación de datos"
   ]
  },
  {
   "cell_type": "markdown",
   "metadata": {},
   "source": [
    "Importación de librerias"
   ]
  },
  {
   "cell_type": "code",
   "execution_count": 1,
   "metadata": {},
   "outputs": [],
   "source": [
    "import pandas as pd \n",
    "import numpy as np\n",
    "import re\n",
    "import time\n",
    "import matplotlib.pyplot as plt\n",
    "import seaborn as sns\n",
    "\n",
    "import lightgbm as ltb \n",
    "\n",
    "from sklearn.model_selection import train_test_split, GridSearchCV\n",
    "from sklearn.metrics import mean_squared_error \n",
    "from sklearn.preprocessing import MinMaxScaler, OneHotEncoder, StandardScaler\n",
    "from sklearn.tree import DecisionTreeRegressor\n",
    "from sklearn.ensemble import RandomForestRegressor\n",
    "from sklearn.linear_model import LinearRegression, SGDRegressor\n",
    "from sklearn.impute import KNNImputer\n",
    "from sklearn.pipeline import make_pipeline\n",
    "\n",
    "from catboost import CatBoostRegressor, Pool\n",
    "from time import time\n"
   ]
  },
  {
   "cell_type": "code",
   "execution_count": 2,
   "metadata": {},
   "outputs": [],
   "source": [
    "df  = pd.read_csv(\"/datasets/car_data.csv\")"
   ]
  },
  {
   "cell_type": "code",
   "execution_count": 3,
   "metadata": {},
   "outputs": [
    {
     "name": "stdout",
     "output_type": "stream",
     "text": [
      "<class 'pandas.core.frame.DataFrame'>\n",
      "RangeIndex: 354369 entries, 0 to 354368\n",
      "Data columns (total 16 columns):\n",
      " #   Column             Non-Null Count   Dtype \n",
      "---  ------             --------------   ----- \n",
      " 0   DateCrawled        354369 non-null  object\n",
      " 1   Price              354369 non-null  int64 \n",
      " 2   VehicleType        316879 non-null  object\n",
      " 3   RegistrationYear   354369 non-null  int64 \n",
      " 4   Gearbox            334536 non-null  object\n",
      " 5   Power              354369 non-null  int64 \n",
      " 6   Model              334664 non-null  object\n",
      " 7   Mileage            354369 non-null  int64 \n",
      " 8   RegistrationMonth  354369 non-null  int64 \n",
      " 9   FuelType           321474 non-null  object\n",
      " 10  Brand              354369 non-null  object\n",
      " 11  NotRepaired        283215 non-null  object\n",
      " 12  DateCreated        354369 non-null  object\n",
      " 13  NumberOfPictures   354369 non-null  int64 \n",
      " 14  PostalCode         354369 non-null  int64 \n",
      " 15  LastSeen           354369 non-null  object\n",
      "dtypes: int64(7), object(9)\n",
      "memory usage: 43.3+ MB\n"
     ]
    }
   ],
   "source": [
    "df.info()"
   ]
  },
  {
   "cell_type": "code",
   "execution_count": 4,
   "metadata": {},
   "outputs": [
    {
     "data": {
      "text/html": [
       "<div>\n",
       "<style scoped>\n",
       "    .dataframe tbody tr th:only-of-type {\n",
       "        vertical-align: middle;\n",
       "    }\n",
       "\n",
       "    .dataframe tbody tr th {\n",
       "        vertical-align: top;\n",
       "    }\n",
       "\n",
       "    .dataframe thead th {\n",
       "        text-align: right;\n",
       "    }\n",
       "</style>\n",
       "<table border=\"1\" class=\"dataframe\">\n",
       "  <thead>\n",
       "    <tr style=\"text-align: right;\">\n",
       "      <th></th>\n",
       "      <th>DateCrawled</th>\n",
       "      <th>Price</th>\n",
       "      <th>VehicleType</th>\n",
       "      <th>RegistrationYear</th>\n",
       "      <th>Gearbox</th>\n",
       "      <th>Power</th>\n",
       "      <th>Model</th>\n",
       "      <th>Mileage</th>\n",
       "      <th>RegistrationMonth</th>\n",
       "      <th>FuelType</th>\n",
       "      <th>Brand</th>\n",
       "      <th>NotRepaired</th>\n",
       "      <th>DateCreated</th>\n",
       "      <th>NumberOfPictures</th>\n",
       "      <th>PostalCode</th>\n",
       "      <th>LastSeen</th>\n",
       "    </tr>\n",
       "  </thead>\n",
       "  <tbody>\n",
       "    <tr>\n",
       "      <th>0</th>\n",
       "      <td>24/03/2016 11:52</td>\n",
       "      <td>480</td>\n",
       "      <td>NaN</td>\n",
       "      <td>1993</td>\n",
       "      <td>manual</td>\n",
       "      <td>0</td>\n",
       "      <td>golf</td>\n",
       "      <td>150000</td>\n",
       "      <td>0</td>\n",
       "      <td>petrol</td>\n",
       "      <td>volkswagen</td>\n",
       "      <td>NaN</td>\n",
       "      <td>24/03/2016 00:00</td>\n",
       "      <td>0</td>\n",
       "      <td>70435</td>\n",
       "      <td>07/04/2016 03:16</td>\n",
       "    </tr>\n",
       "    <tr>\n",
       "      <th>1</th>\n",
       "      <td>24/03/2016 10:58</td>\n",
       "      <td>18300</td>\n",
       "      <td>coupe</td>\n",
       "      <td>2011</td>\n",
       "      <td>manual</td>\n",
       "      <td>190</td>\n",
       "      <td>NaN</td>\n",
       "      <td>125000</td>\n",
       "      <td>5</td>\n",
       "      <td>gasoline</td>\n",
       "      <td>audi</td>\n",
       "      <td>yes</td>\n",
       "      <td>24/03/2016 00:00</td>\n",
       "      <td>0</td>\n",
       "      <td>66954</td>\n",
       "      <td>07/04/2016 01:46</td>\n",
       "    </tr>\n",
       "    <tr>\n",
       "      <th>2</th>\n",
       "      <td>14/03/2016 12:52</td>\n",
       "      <td>9800</td>\n",
       "      <td>suv</td>\n",
       "      <td>2004</td>\n",
       "      <td>auto</td>\n",
       "      <td>163</td>\n",
       "      <td>grand</td>\n",
       "      <td>125000</td>\n",
       "      <td>8</td>\n",
       "      <td>gasoline</td>\n",
       "      <td>jeep</td>\n",
       "      <td>NaN</td>\n",
       "      <td>14/03/2016 00:00</td>\n",
       "      <td>0</td>\n",
       "      <td>90480</td>\n",
       "      <td>05/04/2016 12:47</td>\n",
       "    </tr>\n",
       "    <tr>\n",
       "      <th>3</th>\n",
       "      <td>17/03/2016 16:54</td>\n",
       "      <td>1500</td>\n",
       "      <td>small</td>\n",
       "      <td>2001</td>\n",
       "      <td>manual</td>\n",
       "      <td>75</td>\n",
       "      <td>golf</td>\n",
       "      <td>150000</td>\n",
       "      <td>6</td>\n",
       "      <td>petrol</td>\n",
       "      <td>volkswagen</td>\n",
       "      <td>no</td>\n",
       "      <td>17/03/2016 00:00</td>\n",
       "      <td>0</td>\n",
       "      <td>91074</td>\n",
       "      <td>17/03/2016 17:40</td>\n",
       "    </tr>\n",
       "    <tr>\n",
       "      <th>4</th>\n",
       "      <td>31/03/2016 17:25</td>\n",
       "      <td>3600</td>\n",
       "      <td>small</td>\n",
       "      <td>2008</td>\n",
       "      <td>manual</td>\n",
       "      <td>69</td>\n",
       "      <td>fabia</td>\n",
       "      <td>90000</td>\n",
       "      <td>7</td>\n",
       "      <td>gasoline</td>\n",
       "      <td>skoda</td>\n",
       "      <td>no</td>\n",
       "      <td>31/03/2016 00:00</td>\n",
       "      <td>0</td>\n",
       "      <td>60437</td>\n",
       "      <td>06/04/2016 10:17</td>\n",
       "    </tr>\n",
       "    <tr>\n",
       "      <th>...</th>\n",
       "      <td>...</td>\n",
       "      <td>...</td>\n",
       "      <td>...</td>\n",
       "      <td>...</td>\n",
       "      <td>...</td>\n",
       "      <td>...</td>\n",
       "      <td>...</td>\n",
       "      <td>...</td>\n",
       "      <td>...</td>\n",
       "      <td>...</td>\n",
       "      <td>...</td>\n",
       "      <td>...</td>\n",
       "      <td>...</td>\n",
       "      <td>...</td>\n",
       "      <td>...</td>\n",
       "      <td>...</td>\n",
       "    </tr>\n",
       "    <tr>\n",
       "      <th>354364</th>\n",
       "      <td>21/03/2016 09:50</td>\n",
       "      <td>0</td>\n",
       "      <td>NaN</td>\n",
       "      <td>2005</td>\n",
       "      <td>manual</td>\n",
       "      <td>0</td>\n",
       "      <td>colt</td>\n",
       "      <td>150000</td>\n",
       "      <td>7</td>\n",
       "      <td>petrol</td>\n",
       "      <td>mitsubishi</td>\n",
       "      <td>yes</td>\n",
       "      <td>21/03/2016 00:00</td>\n",
       "      <td>0</td>\n",
       "      <td>2694</td>\n",
       "      <td>21/03/2016 10:42</td>\n",
       "    </tr>\n",
       "    <tr>\n",
       "      <th>354365</th>\n",
       "      <td>14/03/2016 17:48</td>\n",
       "      <td>2200</td>\n",
       "      <td>NaN</td>\n",
       "      <td>2005</td>\n",
       "      <td>NaN</td>\n",
       "      <td>0</td>\n",
       "      <td>NaN</td>\n",
       "      <td>20000</td>\n",
       "      <td>1</td>\n",
       "      <td>NaN</td>\n",
       "      <td>sonstige_autos</td>\n",
       "      <td>NaN</td>\n",
       "      <td>14/03/2016 00:00</td>\n",
       "      <td>0</td>\n",
       "      <td>39576</td>\n",
       "      <td>06/04/2016 00:46</td>\n",
       "    </tr>\n",
       "    <tr>\n",
       "      <th>354366</th>\n",
       "      <td>05/03/2016 19:56</td>\n",
       "      <td>1199</td>\n",
       "      <td>convertible</td>\n",
       "      <td>2000</td>\n",
       "      <td>auto</td>\n",
       "      <td>101</td>\n",
       "      <td>fortwo</td>\n",
       "      <td>125000</td>\n",
       "      <td>3</td>\n",
       "      <td>petrol</td>\n",
       "      <td>smart</td>\n",
       "      <td>no</td>\n",
       "      <td>05/03/2016 00:00</td>\n",
       "      <td>0</td>\n",
       "      <td>26135</td>\n",
       "      <td>11/03/2016 18:17</td>\n",
       "    </tr>\n",
       "    <tr>\n",
       "      <th>354367</th>\n",
       "      <td>19/03/2016 18:57</td>\n",
       "      <td>9200</td>\n",
       "      <td>bus</td>\n",
       "      <td>1996</td>\n",
       "      <td>manual</td>\n",
       "      <td>102</td>\n",
       "      <td>transporter</td>\n",
       "      <td>150000</td>\n",
       "      <td>3</td>\n",
       "      <td>gasoline</td>\n",
       "      <td>volkswagen</td>\n",
       "      <td>no</td>\n",
       "      <td>19/03/2016 00:00</td>\n",
       "      <td>0</td>\n",
       "      <td>87439</td>\n",
       "      <td>07/04/2016 07:15</td>\n",
       "    </tr>\n",
       "    <tr>\n",
       "      <th>354368</th>\n",
       "      <td>20/03/2016 19:41</td>\n",
       "      <td>3400</td>\n",
       "      <td>wagon</td>\n",
       "      <td>2002</td>\n",
       "      <td>manual</td>\n",
       "      <td>100</td>\n",
       "      <td>golf</td>\n",
       "      <td>150000</td>\n",
       "      <td>6</td>\n",
       "      <td>gasoline</td>\n",
       "      <td>volkswagen</td>\n",
       "      <td>NaN</td>\n",
       "      <td>20/03/2016 00:00</td>\n",
       "      <td>0</td>\n",
       "      <td>40764</td>\n",
       "      <td>24/03/2016 12:45</td>\n",
       "    </tr>\n",
       "  </tbody>\n",
       "</table>\n",
       "<p>354369 rows × 16 columns</p>\n",
       "</div>"
      ],
      "text/plain": [
       "             DateCrawled  Price  VehicleType  RegistrationYear Gearbox  Power  \\\n",
       "0       24/03/2016 11:52    480          NaN              1993  manual      0   \n",
       "1       24/03/2016 10:58  18300        coupe              2011  manual    190   \n",
       "2       14/03/2016 12:52   9800          suv              2004    auto    163   \n",
       "3       17/03/2016 16:54   1500        small              2001  manual     75   \n",
       "4       31/03/2016 17:25   3600        small              2008  manual     69   \n",
       "...                  ...    ...          ...               ...     ...    ...   \n",
       "354364  21/03/2016 09:50      0          NaN              2005  manual      0   \n",
       "354365  14/03/2016 17:48   2200          NaN              2005     NaN      0   \n",
       "354366  05/03/2016 19:56   1199  convertible              2000    auto    101   \n",
       "354367  19/03/2016 18:57   9200          bus              1996  manual    102   \n",
       "354368  20/03/2016 19:41   3400        wagon              2002  manual    100   \n",
       "\n",
       "              Model  Mileage  RegistrationMonth  FuelType           Brand  \\\n",
       "0              golf   150000                  0    petrol      volkswagen   \n",
       "1               NaN   125000                  5  gasoline            audi   \n",
       "2             grand   125000                  8  gasoline            jeep   \n",
       "3              golf   150000                  6    petrol      volkswagen   \n",
       "4             fabia    90000                  7  gasoline           skoda   \n",
       "...             ...      ...                ...       ...             ...   \n",
       "354364         colt   150000                  7    petrol      mitsubishi   \n",
       "354365          NaN    20000                  1       NaN  sonstige_autos   \n",
       "354366       fortwo   125000                  3    petrol           smart   \n",
       "354367  transporter   150000                  3  gasoline      volkswagen   \n",
       "354368         golf   150000                  6  gasoline      volkswagen   \n",
       "\n",
       "       NotRepaired       DateCreated  NumberOfPictures  PostalCode  \\\n",
       "0              NaN  24/03/2016 00:00                 0       70435   \n",
       "1              yes  24/03/2016 00:00                 0       66954   \n",
       "2              NaN  14/03/2016 00:00                 0       90480   \n",
       "3               no  17/03/2016 00:00                 0       91074   \n",
       "4               no  31/03/2016 00:00                 0       60437   \n",
       "...            ...               ...               ...         ...   \n",
       "354364         yes  21/03/2016 00:00                 0        2694   \n",
       "354365         NaN  14/03/2016 00:00                 0       39576   \n",
       "354366          no  05/03/2016 00:00                 0       26135   \n",
       "354367          no  19/03/2016 00:00                 0       87439   \n",
       "354368         NaN  20/03/2016 00:00                 0       40764   \n",
       "\n",
       "                LastSeen  \n",
       "0       07/04/2016 03:16  \n",
       "1       07/04/2016 01:46  \n",
       "2       05/04/2016 12:47  \n",
       "3       17/03/2016 17:40  \n",
       "4       06/04/2016 10:17  \n",
       "...                  ...  \n",
       "354364  21/03/2016 10:42  \n",
       "354365  06/04/2016 00:46  \n",
       "354366  11/03/2016 18:17  \n",
       "354367  07/04/2016 07:15  \n",
       "354368  24/03/2016 12:45  \n",
       "\n",
       "[354369 rows x 16 columns]"
      ]
     },
     "metadata": {},
     "output_type": "display_data"
    }
   ],
   "source": [
    "display(df) "
   ]
  },
  {
   "cell_type": "code",
   "execution_count": 5,
   "metadata": {},
   "outputs": [
    {
     "data": {
      "text/plain": [
       "DateCrawled              0\n",
       "Price                    0\n",
       "VehicleType          37490\n",
       "RegistrationYear         0\n",
       "Gearbox              19833\n",
       "Power                    0\n",
       "Model                19705\n",
       "Mileage                  0\n",
       "RegistrationMonth        0\n",
       "FuelType             32895\n",
       "Brand                    0\n",
       "NotRepaired          71154\n",
       "DateCreated              0\n",
       "NumberOfPictures         0\n",
       "PostalCode               0\n",
       "LastSeen                 0\n",
       "dtype: int64"
      ]
     },
     "execution_count": 5,
     "metadata": {},
     "output_type": "execute_result"
    }
   ],
   "source": [
    "df.isnull().sum()"
   ]
  },
  {
   "cell_type": "code",
   "execution_count": 6,
   "metadata": {},
   "outputs": [
    {
     "name": "stdout",
     "output_type": "stream",
     "text": [
      "El número total de filas duplicadas en este archivo es de 262 filas.\n"
     ]
    }
   ],
   "source": [
    "print(f'El número total de filas duplicadas en este archivo es de {df.duplicated().sum()} filas.')"
   ]
  },
  {
   "cell_type": "code",
   "execution_count": 7,
   "metadata": {},
   "outputs": [
    {
     "name": "stdout",
     "output_type": "stream",
     "text": [
      "             DateCrawled  Price  VehicleType  RegistrationYear Gearbox  Power  \\\n",
      "14266   21/03/2016 19:06   5999        small              2009  manual     80   \n",
      "27568   23/03/2016 10:38  12200          bus              2011  manual    125   \n",
      "31599   03/04/2016 20:41   4950        wagon              2003    auto    170   \n",
      "33138   07/03/2016 20:45  10900  convertible              2005    auto    163   \n",
      "43656   13/03/2016 20:48   4200        sedan              2003  manual    105   \n",
      "...                  ...    ...          ...               ...     ...    ...   \n",
      "349709  03/04/2016 20:52    700        small              1999  manual     60   \n",
      "351555  26/03/2016 16:54   3150          bus              2003  manual     86   \n",
      "352384  15/03/2016 21:54   5900        wagon              2006  manual    129   \n",
      "353057  05/03/2016 14:16   9500        small              2013  manual    105   \n",
      "353727  20/03/2016 17:56      1          NaN              2000     NaN      0   \n",
      "\n",
      "           Model  Mileage  RegistrationMonth  FuelType          Brand  \\\n",
      "14266       polo   125000                  5    petrol     volkswagen   \n",
      "27568     zafira    40000                 10  gasoline           opel   \n",
      "31599   e_klasse   150000                  4  gasoline  mercedes_benz   \n",
      "33138        clk   125000                  5    petrol  mercedes_benz   \n",
      "43656       golf   150000                 10  gasoline     volkswagen   \n",
      "...          ...      ...                ...       ...            ...   \n",
      "349709     ibiza   150000                 12    petrol           seat   \n",
      "351555   transit   150000                 11  gasoline           ford   \n",
      "352384       3er   150000                 12    petrol            bmw   \n",
      "353057     ibiza    40000                  5    petrol           seat   \n",
      "353727       NaN   150000                  0       NaN            bmw   \n",
      "\n",
      "       NotRepaired       DateCreated  NumberOfPictures  PostalCode  \\\n",
      "14266           no  21/03/2016 00:00                 0       65529   \n",
      "27568           no  23/03/2016 00:00                 0       26629   \n",
      "31599           no  03/04/2016 00:00                 0       48432   \n",
      "33138           no  07/03/2016 00:00                 0       61200   \n",
      "43656           no  13/03/2016 00:00                 0       14482   \n",
      "...            ...               ...               ...         ...   \n",
      "349709         yes  03/04/2016 00:00                 0        6268   \n",
      "351555          no  26/03/2016 00:00                 0       96148   \n",
      "352384          no  15/03/2016 00:00                 0       92526   \n",
      "353057          no  04/03/2016 00:00                 0       61381   \n",
      "353727         NaN  20/03/2016 00:00                 0       42329   \n",
      "\n",
      "                LastSeen  \n",
      "14266   05/04/2016 20:47  \n",
      "27568   05/04/2016 07:44  \n",
      "31599   05/04/2016 21:17  \n",
      "33138   21/03/2016 03:45  \n",
      "43656   13/03/2016 20:48  \n",
      "...                  ...  \n",
      "349709  05/04/2016 21:47  \n",
      "351555  02/04/2016 07:47  \n",
      "352384  20/03/2016 21:17  \n",
      "353057  05/04/2016 19:18  \n",
      "353727  07/04/2016 00:46  \n",
      "\n",
      "[262 rows x 16 columns]\n"
     ]
    }
   ],
   "source": [
    "duplicates = df[df.duplicated()]\n",
    "print(duplicates)"
   ]
  },
  {
   "cell_type": "code",
   "execution_count": 8,
   "metadata": {},
   "outputs": [
    {
     "data": {
      "text/html": [
       "<div>\n",
       "<style scoped>\n",
       "    .dataframe tbody tr th:only-of-type {\n",
       "        vertical-align: middle;\n",
       "    }\n",
       "\n",
       "    .dataframe tbody tr th {\n",
       "        vertical-align: top;\n",
       "    }\n",
       "\n",
       "    .dataframe thead th {\n",
       "        text-align: right;\n",
       "    }\n",
       "</style>\n",
       "<table border=\"1\" class=\"dataframe\">\n",
       "  <thead>\n",
       "    <tr style=\"text-align: right;\">\n",
       "      <th></th>\n",
       "      <th>Price</th>\n",
       "      <th>RegistrationYear</th>\n",
       "      <th>Power</th>\n",
       "      <th>Mileage</th>\n",
       "      <th>RegistrationMonth</th>\n",
       "      <th>NumberOfPictures</th>\n",
       "      <th>PostalCode</th>\n",
       "    </tr>\n",
       "  </thead>\n",
       "  <tbody>\n",
       "    <tr>\n",
       "      <th>count</th>\n",
       "      <td>354369.000000</td>\n",
       "      <td>354369.000000</td>\n",
       "      <td>354369.000000</td>\n",
       "      <td>354369.000000</td>\n",
       "      <td>354369.000000</td>\n",
       "      <td>354369.0</td>\n",
       "      <td>354369.000000</td>\n",
       "    </tr>\n",
       "    <tr>\n",
       "      <th>mean</th>\n",
       "      <td>4416.656776</td>\n",
       "      <td>2004.234448</td>\n",
       "      <td>110.094337</td>\n",
       "      <td>128211.172535</td>\n",
       "      <td>5.714645</td>\n",
       "      <td>0.0</td>\n",
       "      <td>50508.689087</td>\n",
       "    </tr>\n",
       "    <tr>\n",
       "      <th>std</th>\n",
       "      <td>4514.158514</td>\n",
       "      <td>90.227958</td>\n",
       "      <td>189.850405</td>\n",
       "      <td>37905.341530</td>\n",
       "      <td>3.726421</td>\n",
       "      <td>0.0</td>\n",
       "      <td>25783.096248</td>\n",
       "    </tr>\n",
       "    <tr>\n",
       "      <th>min</th>\n",
       "      <td>0.000000</td>\n",
       "      <td>1000.000000</td>\n",
       "      <td>0.000000</td>\n",
       "      <td>5000.000000</td>\n",
       "      <td>0.000000</td>\n",
       "      <td>0.0</td>\n",
       "      <td>1067.000000</td>\n",
       "    </tr>\n",
       "    <tr>\n",
       "      <th>25%</th>\n",
       "      <td>1050.000000</td>\n",
       "      <td>1999.000000</td>\n",
       "      <td>69.000000</td>\n",
       "      <td>125000.000000</td>\n",
       "      <td>3.000000</td>\n",
       "      <td>0.0</td>\n",
       "      <td>30165.000000</td>\n",
       "    </tr>\n",
       "    <tr>\n",
       "      <th>50%</th>\n",
       "      <td>2700.000000</td>\n",
       "      <td>2003.000000</td>\n",
       "      <td>105.000000</td>\n",
       "      <td>150000.000000</td>\n",
       "      <td>6.000000</td>\n",
       "      <td>0.0</td>\n",
       "      <td>49413.000000</td>\n",
       "    </tr>\n",
       "    <tr>\n",
       "      <th>75%</th>\n",
       "      <td>6400.000000</td>\n",
       "      <td>2008.000000</td>\n",
       "      <td>143.000000</td>\n",
       "      <td>150000.000000</td>\n",
       "      <td>9.000000</td>\n",
       "      <td>0.0</td>\n",
       "      <td>71083.000000</td>\n",
       "    </tr>\n",
       "    <tr>\n",
       "      <th>max</th>\n",
       "      <td>20000.000000</td>\n",
       "      <td>9999.000000</td>\n",
       "      <td>20000.000000</td>\n",
       "      <td>150000.000000</td>\n",
       "      <td>12.000000</td>\n",
       "      <td>0.0</td>\n",
       "      <td>99998.000000</td>\n",
       "    </tr>\n",
       "  </tbody>\n",
       "</table>\n",
       "</div>"
      ],
      "text/plain": [
       "               Price  RegistrationYear          Power        Mileage  \\\n",
       "count  354369.000000     354369.000000  354369.000000  354369.000000   \n",
       "mean     4416.656776       2004.234448     110.094337  128211.172535   \n",
       "std      4514.158514         90.227958     189.850405   37905.341530   \n",
       "min         0.000000       1000.000000       0.000000    5000.000000   \n",
       "25%      1050.000000       1999.000000      69.000000  125000.000000   \n",
       "50%      2700.000000       2003.000000     105.000000  150000.000000   \n",
       "75%      6400.000000       2008.000000     143.000000  150000.000000   \n",
       "max     20000.000000       9999.000000   20000.000000  150000.000000   \n",
       "\n",
       "       RegistrationMonth  NumberOfPictures     PostalCode  \n",
       "count      354369.000000          354369.0  354369.000000  \n",
       "mean            5.714645               0.0   50508.689087  \n",
       "std             3.726421               0.0   25783.096248  \n",
       "min             0.000000               0.0    1067.000000  \n",
       "25%             3.000000               0.0   30165.000000  \n",
       "50%             6.000000               0.0   49413.000000  \n",
       "75%             9.000000               0.0   71083.000000  \n",
       "max            12.000000               0.0   99998.000000  "
      ]
     },
     "execution_count": 8,
     "metadata": {},
     "output_type": "execute_result"
    }
   ],
   "source": [
    "df.describe()"
   ]
  },
  {
   "cell_type": "markdown",
   "metadata": {},
   "source": [
    "### Descripción de los datos\n",
    "\n",
    "El dataset proporcionado  cuenta con un total de registros de 354,369 y 16 columnas, de las cuales tenemos la siguiente información:\n",
    "\n",
    "| Nombre de columna | Característica | Tipo de dato | Datos Nulos |\n",
    "|-------------------|----------------|--------------|-------------|\n",
    "| DateCrawled | Fecha en la que se descargó el perfil de la base de datos | object | 0 |\n",
    "| Price | Precio | int64 | 0 |\n",
    "| VehicleType | Tipo de carrocería del vehículo | object | 37,490 |\n",
    "| RegistrationYear | Año de matriculación del vehículo | int64 | 0 |\n",
    "| Gearbox | Tipo de caja de cambios | object | 19,833 |\n",
    "| Power | Potencia (CV) | int64 | 0 |\n",
    "| Model | Modelo del vehículo | object | 19,705 |\n",
    "| Mileage | Kilometraje (medido en km de acuerdo con las especificidades regionales del conjunto de datos) | int64 | 0 |\n",
    "| RegistrationMonth | Mes de matriculación del vehículo | int64 | 0 |\n",
    "| FuelType | Tipo de combustible | object | 32,895 |\n",
    "| Brand | Marca del vehículo | object | 0 |\n",
    "| NotRepaired | Vehículo con o sin reparación | object | 71,154 |\n",
    "| DateCreated | Fecha de creación del perfil | object | 0 |\n",
    "| NumberOfPictures | Número de fotos del vehículo | int64 | 0 |\n",
    "| PostalCode | Código postal del propietario del perfil (usuario) | int64 | 0 |\n",
    "| LastSeen | Fecha de la última vez que el usuario estuvo activo | object | 0 |\n",
    "\n",
    "Las columnas con fechas serán cambiados su tipo de datos: \n",
    "\n",
    "    - Solo se dejará año\n",
    "        DateCrawled\n",
    "        DateCreated\n",
    "        LastSeen\n",
    "\n",
    "\n",
    "Se tiene este total de valores asentes:\n",
    "\n",
    "    VehicleType          37490 object 10.58%\n",
    "    Gearbox              19833 object 5.6%\n",
    "    Model                19705 object 5.6%\n",
    "    FuelType             32895 object 9.28%\n",
    "    NotRepaired          71154 object 20.08%\n",
    "\n",
    "Los primeros 4 tipos de datos se pueden intentar llenar con kNN vecinos.\n",
    "NotRepaired se rellanará con datos NaN.\n",
    "\n",
    "Se observa que las columnas 'Price', 'Power' y tienen celdas con valores en 0, lo que podría ser anormal.\n",
    "\n",
    "Los datos en la columna 'RegistrationYear' tiene un rango de años estraño que va del 1000 al 9999.\n",
    "Se desconoce la razón por la cual la columna 'NumberOfPictures' presenta sus datos en 0.\n",
    "\n",
    "El número total de filas duplicadas en este archivo es de 262 filas, mismas que se procederan a eliminarse, debido a que son muy pocos registro, que hay duplicados en filas que incluyen fecha y hora exacta y que no se puede investigar la razón de su probable duplicidad."
   ]
  },
  {
   "cell_type": "code",
   "execution_count": 9,
   "metadata": {},
   "outputs": [],
   "source": [
    "df = df.drop_duplicates()"
   ]
  },
  {
   "cell_type": "code",
   "execution_count": 10,
   "metadata": {},
   "outputs": [
    {
     "name": "stdout",
     "output_type": "stream",
     "text": [
      "El número total de filas duplicadas en este archivo es de 0 filas.\n"
     ]
    }
   ],
   "source": [
    "print(f'El número total de filas duplicadas en este archivo es de {df.duplicated().sum()} filas.')"
   ]
  },
  {
   "cell_type": "markdown",
   "metadata": {},
   "source": [
    "Cambio de nombre de las columnas a snake case!"
   ]
  },
  {
   "cell_type": "code",
   "execution_count": 11,
   "metadata": {},
   "outputs": [],
   "source": [
    "def to_snake_case(name):\n",
    "    s1 = re.sub('(.)([A-Z][a-z]+)', r'\\1_\\2', name)\n",
    "    return re.sub('([a-z0-9])([A-Z])', r'\\1_\\2', s1).lower()"
   ]
  },
  {
   "cell_type": "code",
   "execution_count": 12,
   "metadata": {},
   "outputs": [],
   "source": [
    "df.columns = [to_snake_case(col) for col in df.columns]"
   ]
  },
  {
   "cell_type": "code",
   "execution_count": 13,
   "metadata": {},
   "outputs": [
    {
     "data": {
      "text/html": [
       "<div>\n",
       "<style scoped>\n",
       "    .dataframe tbody tr th:only-of-type {\n",
       "        vertical-align: middle;\n",
       "    }\n",
       "\n",
       "    .dataframe tbody tr th {\n",
       "        vertical-align: top;\n",
       "    }\n",
       "\n",
       "    .dataframe thead th {\n",
       "        text-align: right;\n",
       "    }\n",
       "</style>\n",
       "<table border=\"1\" class=\"dataframe\">\n",
       "  <thead>\n",
       "    <tr style=\"text-align: right;\">\n",
       "      <th></th>\n",
       "      <th>date_crawled</th>\n",
       "      <th>price</th>\n",
       "      <th>vehicle_type</th>\n",
       "      <th>registration_year</th>\n",
       "      <th>gearbox</th>\n",
       "      <th>power</th>\n",
       "      <th>model</th>\n",
       "      <th>mileage</th>\n",
       "      <th>registration_month</th>\n",
       "      <th>fuel_type</th>\n",
       "      <th>brand</th>\n",
       "      <th>not_repaired</th>\n",
       "      <th>date_created</th>\n",
       "      <th>number_of_pictures</th>\n",
       "      <th>postal_code</th>\n",
       "      <th>last_seen</th>\n",
       "    </tr>\n",
       "  </thead>\n",
       "  <tbody>\n",
       "    <tr>\n",
       "      <th>0</th>\n",
       "      <td>24/03/2016 11:52</td>\n",
       "      <td>480</td>\n",
       "      <td>NaN</td>\n",
       "      <td>1993</td>\n",
       "      <td>manual</td>\n",
       "      <td>0</td>\n",
       "      <td>golf</td>\n",
       "      <td>150000</td>\n",
       "      <td>0</td>\n",
       "      <td>petrol</td>\n",
       "      <td>volkswagen</td>\n",
       "      <td>NaN</td>\n",
       "      <td>24/03/2016 00:00</td>\n",
       "      <td>0</td>\n",
       "      <td>70435</td>\n",
       "      <td>07/04/2016 03:16</td>\n",
       "    </tr>\n",
       "    <tr>\n",
       "      <th>1</th>\n",
       "      <td>24/03/2016 10:58</td>\n",
       "      <td>18300</td>\n",
       "      <td>coupe</td>\n",
       "      <td>2011</td>\n",
       "      <td>manual</td>\n",
       "      <td>190</td>\n",
       "      <td>NaN</td>\n",
       "      <td>125000</td>\n",
       "      <td>5</td>\n",
       "      <td>gasoline</td>\n",
       "      <td>audi</td>\n",
       "      <td>yes</td>\n",
       "      <td>24/03/2016 00:00</td>\n",
       "      <td>0</td>\n",
       "      <td>66954</td>\n",
       "      <td>07/04/2016 01:46</td>\n",
       "    </tr>\n",
       "    <tr>\n",
       "      <th>2</th>\n",
       "      <td>14/03/2016 12:52</td>\n",
       "      <td>9800</td>\n",
       "      <td>suv</td>\n",
       "      <td>2004</td>\n",
       "      <td>auto</td>\n",
       "      <td>163</td>\n",
       "      <td>grand</td>\n",
       "      <td>125000</td>\n",
       "      <td>8</td>\n",
       "      <td>gasoline</td>\n",
       "      <td>jeep</td>\n",
       "      <td>NaN</td>\n",
       "      <td>14/03/2016 00:00</td>\n",
       "      <td>0</td>\n",
       "      <td>90480</td>\n",
       "      <td>05/04/2016 12:47</td>\n",
       "    </tr>\n",
       "    <tr>\n",
       "      <th>3</th>\n",
       "      <td>17/03/2016 16:54</td>\n",
       "      <td>1500</td>\n",
       "      <td>small</td>\n",
       "      <td>2001</td>\n",
       "      <td>manual</td>\n",
       "      <td>75</td>\n",
       "      <td>golf</td>\n",
       "      <td>150000</td>\n",
       "      <td>6</td>\n",
       "      <td>petrol</td>\n",
       "      <td>volkswagen</td>\n",
       "      <td>no</td>\n",
       "      <td>17/03/2016 00:00</td>\n",
       "      <td>0</td>\n",
       "      <td>91074</td>\n",
       "      <td>17/03/2016 17:40</td>\n",
       "    </tr>\n",
       "    <tr>\n",
       "      <th>4</th>\n",
       "      <td>31/03/2016 17:25</td>\n",
       "      <td>3600</td>\n",
       "      <td>small</td>\n",
       "      <td>2008</td>\n",
       "      <td>manual</td>\n",
       "      <td>69</td>\n",
       "      <td>fabia</td>\n",
       "      <td>90000</td>\n",
       "      <td>7</td>\n",
       "      <td>gasoline</td>\n",
       "      <td>skoda</td>\n",
       "      <td>no</td>\n",
       "      <td>31/03/2016 00:00</td>\n",
       "      <td>0</td>\n",
       "      <td>60437</td>\n",
       "      <td>06/04/2016 10:17</td>\n",
       "    </tr>\n",
       "    <tr>\n",
       "      <th>...</th>\n",
       "      <td>...</td>\n",
       "      <td>...</td>\n",
       "      <td>...</td>\n",
       "      <td>...</td>\n",
       "      <td>...</td>\n",
       "      <td>...</td>\n",
       "      <td>...</td>\n",
       "      <td>...</td>\n",
       "      <td>...</td>\n",
       "      <td>...</td>\n",
       "      <td>...</td>\n",
       "      <td>...</td>\n",
       "      <td>...</td>\n",
       "      <td>...</td>\n",
       "      <td>...</td>\n",
       "      <td>...</td>\n",
       "    </tr>\n",
       "    <tr>\n",
       "      <th>354364</th>\n",
       "      <td>21/03/2016 09:50</td>\n",
       "      <td>0</td>\n",
       "      <td>NaN</td>\n",
       "      <td>2005</td>\n",
       "      <td>manual</td>\n",
       "      <td>0</td>\n",
       "      <td>colt</td>\n",
       "      <td>150000</td>\n",
       "      <td>7</td>\n",
       "      <td>petrol</td>\n",
       "      <td>mitsubishi</td>\n",
       "      <td>yes</td>\n",
       "      <td>21/03/2016 00:00</td>\n",
       "      <td>0</td>\n",
       "      <td>2694</td>\n",
       "      <td>21/03/2016 10:42</td>\n",
       "    </tr>\n",
       "    <tr>\n",
       "      <th>354365</th>\n",
       "      <td>14/03/2016 17:48</td>\n",
       "      <td>2200</td>\n",
       "      <td>NaN</td>\n",
       "      <td>2005</td>\n",
       "      <td>NaN</td>\n",
       "      <td>0</td>\n",
       "      <td>NaN</td>\n",
       "      <td>20000</td>\n",
       "      <td>1</td>\n",
       "      <td>NaN</td>\n",
       "      <td>sonstige_autos</td>\n",
       "      <td>NaN</td>\n",
       "      <td>14/03/2016 00:00</td>\n",
       "      <td>0</td>\n",
       "      <td>39576</td>\n",
       "      <td>06/04/2016 00:46</td>\n",
       "    </tr>\n",
       "    <tr>\n",
       "      <th>354366</th>\n",
       "      <td>05/03/2016 19:56</td>\n",
       "      <td>1199</td>\n",
       "      <td>convertible</td>\n",
       "      <td>2000</td>\n",
       "      <td>auto</td>\n",
       "      <td>101</td>\n",
       "      <td>fortwo</td>\n",
       "      <td>125000</td>\n",
       "      <td>3</td>\n",
       "      <td>petrol</td>\n",
       "      <td>smart</td>\n",
       "      <td>no</td>\n",
       "      <td>05/03/2016 00:00</td>\n",
       "      <td>0</td>\n",
       "      <td>26135</td>\n",
       "      <td>11/03/2016 18:17</td>\n",
       "    </tr>\n",
       "    <tr>\n",
       "      <th>354367</th>\n",
       "      <td>19/03/2016 18:57</td>\n",
       "      <td>9200</td>\n",
       "      <td>bus</td>\n",
       "      <td>1996</td>\n",
       "      <td>manual</td>\n",
       "      <td>102</td>\n",
       "      <td>transporter</td>\n",
       "      <td>150000</td>\n",
       "      <td>3</td>\n",
       "      <td>gasoline</td>\n",
       "      <td>volkswagen</td>\n",
       "      <td>no</td>\n",
       "      <td>19/03/2016 00:00</td>\n",
       "      <td>0</td>\n",
       "      <td>87439</td>\n",
       "      <td>07/04/2016 07:15</td>\n",
       "    </tr>\n",
       "    <tr>\n",
       "      <th>354368</th>\n",
       "      <td>20/03/2016 19:41</td>\n",
       "      <td>3400</td>\n",
       "      <td>wagon</td>\n",
       "      <td>2002</td>\n",
       "      <td>manual</td>\n",
       "      <td>100</td>\n",
       "      <td>golf</td>\n",
       "      <td>150000</td>\n",
       "      <td>6</td>\n",
       "      <td>gasoline</td>\n",
       "      <td>volkswagen</td>\n",
       "      <td>NaN</td>\n",
       "      <td>20/03/2016 00:00</td>\n",
       "      <td>0</td>\n",
       "      <td>40764</td>\n",
       "      <td>24/03/2016 12:45</td>\n",
       "    </tr>\n",
       "  </tbody>\n",
       "</table>\n",
       "<p>354107 rows × 16 columns</p>\n",
       "</div>"
      ],
      "text/plain": [
       "            date_crawled  price vehicle_type  registration_year gearbox  \\\n",
       "0       24/03/2016 11:52    480          NaN               1993  manual   \n",
       "1       24/03/2016 10:58  18300        coupe               2011  manual   \n",
       "2       14/03/2016 12:52   9800          suv               2004    auto   \n",
       "3       17/03/2016 16:54   1500        small               2001  manual   \n",
       "4       31/03/2016 17:25   3600        small               2008  manual   \n",
       "...                  ...    ...          ...                ...     ...   \n",
       "354364  21/03/2016 09:50      0          NaN               2005  manual   \n",
       "354365  14/03/2016 17:48   2200          NaN               2005     NaN   \n",
       "354366  05/03/2016 19:56   1199  convertible               2000    auto   \n",
       "354367  19/03/2016 18:57   9200          bus               1996  manual   \n",
       "354368  20/03/2016 19:41   3400        wagon               2002  manual   \n",
       "\n",
       "        power        model  mileage  registration_month fuel_type  \\\n",
       "0           0         golf   150000                   0    petrol   \n",
       "1         190          NaN   125000                   5  gasoline   \n",
       "2         163        grand   125000                   8  gasoline   \n",
       "3          75         golf   150000                   6    petrol   \n",
       "4          69        fabia    90000                   7  gasoline   \n",
       "...       ...          ...      ...                 ...       ...   \n",
       "354364      0         colt   150000                   7    petrol   \n",
       "354365      0          NaN    20000                   1       NaN   \n",
       "354366    101       fortwo   125000                   3    petrol   \n",
       "354367    102  transporter   150000                   3  gasoline   \n",
       "354368    100         golf   150000                   6  gasoline   \n",
       "\n",
       "                 brand not_repaired      date_created  number_of_pictures  \\\n",
       "0           volkswagen          NaN  24/03/2016 00:00                   0   \n",
       "1                 audi          yes  24/03/2016 00:00                   0   \n",
       "2                 jeep          NaN  14/03/2016 00:00                   0   \n",
       "3           volkswagen           no  17/03/2016 00:00                   0   \n",
       "4                skoda           no  31/03/2016 00:00                   0   \n",
       "...                ...          ...               ...                 ...   \n",
       "354364      mitsubishi          yes  21/03/2016 00:00                   0   \n",
       "354365  sonstige_autos          NaN  14/03/2016 00:00                   0   \n",
       "354366           smart           no  05/03/2016 00:00                   0   \n",
       "354367      volkswagen           no  19/03/2016 00:00                   0   \n",
       "354368      volkswagen          NaN  20/03/2016 00:00                   0   \n",
       "\n",
       "        postal_code         last_seen  \n",
       "0             70435  07/04/2016 03:16  \n",
       "1             66954  07/04/2016 01:46  \n",
       "2             90480  05/04/2016 12:47  \n",
       "3             91074  17/03/2016 17:40  \n",
       "4             60437  06/04/2016 10:17  \n",
       "...             ...               ...  \n",
       "354364         2694  21/03/2016 10:42  \n",
       "354365        39576  06/04/2016 00:46  \n",
       "354366        26135  11/03/2016 18:17  \n",
       "354367        87439  07/04/2016 07:15  \n",
       "354368        40764  24/03/2016 12:45  \n",
       "\n",
       "[354107 rows x 16 columns]"
      ]
     },
     "metadata": {},
     "output_type": "display_data"
    }
   ],
   "source": [
    "display(df)"
   ]
  },
  {
   "cell_type": "markdown",
   "metadata": {},
   "source": [
    "Cambio de tipo de dato a las columnas con fecha"
   ]
  },
  {
   "cell_type": "code",
   "execution_count": 14,
   "metadata": {},
   "outputs": [],
   "source": [
    "columns_date = ['date_crawled', 'date_created', 'last_seen']"
   ]
  },
  {
   "cell_type": "code",
   "execution_count": 15,
   "metadata": {},
   "outputs": [],
   "source": [
    "for columns in columns_date:\n",
    "    df[columns] = pd.to_datetime(df[columns], infer_datetime_format=True)"
   ]
  },
  {
   "cell_type": "code",
   "execution_count": 16,
   "metadata": {},
   "outputs": [
    {
     "data": {
      "text/html": [
       "<div>\n",
       "<style scoped>\n",
       "    .dataframe tbody tr th:only-of-type {\n",
       "        vertical-align: middle;\n",
       "    }\n",
       "\n",
       "    .dataframe tbody tr th {\n",
       "        vertical-align: top;\n",
       "    }\n",
       "\n",
       "    .dataframe thead th {\n",
       "        text-align: right;\n",
       "    }\n",
       "</style>\n",
       "<table border=\"1\" class=\"dataframe\">\n",
       "  <thead>\n",
       "    <tr style=\"text-align: right;\">\n",
       "      <th></th>\n",
       "      <th>date_crawled</th>\n",
       "      <th>price</th>\n",
       "      <th>vehicle_type</th>\n",
       "      <th>registration_year</th>\n",
       "      <th>gearbox</th>\n",
       "      <th>power</th>\n",
       "      <th>model</th>\n",
       "      <th>mileage</th>\n",
       "      <th>registration_month</th>\n",
       "      <th>fuel_type</th>\n",
       "      <th>brand</th>\n",
       "      <th>not_repaired</th>\n",
       "      <th>date_created</th>\n",
       "      <th>number_of_pictures</th>\n",
       "      <th>postal_code</th>\n",
       "      <th>last_seen</th>\n",
       "    </tr>\n",
       "  </thead>\n",
       "  <tbody>\n",
       "    <tr>\n",
       "      <th>0</th>\n",
       "      <td>2016</td>\n",
       "      <td>480</td>\n",
       "      <td>NaN</td>\n",
       "      <td>1993</td>\n",
       "      <td>manual</td>\n",
       "      <td>0</td>\n",
       "      <td>golf</td>\n",
       "      <td>150000</td>\n",
       "      <td>0</td>\n",
       "      <td>petrol</td>\n",
       "      <td>volkswagen</td>\n",
       "      <td>NaN</td>\n",
       "      <td>2016</td>\n",
       "      <td>0</td>\n",
       "      <td>70435</td>\n",
       "      <td>2016</td>\n",
       "    </tr>\n",
       "    <tr>\n",
       "      <th>1</th>\n",
       "      <td>2016</td>\n",
       "      <td>18300</td>\n",
       "      <td>coupe</td>\n",
       "      <td>2011</td>\n",
       "      <td>manual</td>\n",
       "      <td>190</td>\n",
       "      <td>NaN</td>\n",
       "      <td>125000</td>\n",
       "      <td>5</td>\n",
       "      <td>gasoline</td>\n",
       "      <td>audi</td>\n",
       "      <td>yes</td>\n",
       "      <td>2016</td>\n",
       "      <td>0</td>\n",
       "      <td>66954</td>\n",
       "      <td>2016</td>\n",
       "    </tr>\n",
       "    <tr>\n",
       "      <th>2</th>\n",
       "      <td>2016</td>\n",
       "      <td>9800</td>\n",
       "      <td>suv</td>\n",
       "      <td>2004</td>\n",
       "      <td>auto</td>\n",
       "      <td>163</td>\n",
       "      <td>grand</td>\n",
       "      <td>125000</td>\n",
       "      <td>8</td>\n",
       "      <td>gasoline</td>\n",
       "      <td>jeep</td>\n",
       "      <td>NaN</td>\n",
       "      <td>2016</td>\n",
       "      <td>0</td>\n",
       "      <td>90480</td>\n",
       "      <td>2016</td>\n",
       "    </tr>\n",
       "    <tr>\n",
       "      <th>3</th>\n",
       "      <td>2016</td>\n",
       "      <td>1500</td>\n",
       "      <td>small</td>\n",
       "      <td>2001</td>\n",
       "      <td>manual</td>\n",
       "      <td>75</td>\n",
       "      <td>golf</td>\n",
       "      <td>150000</td>\n",
       "      <td>6</td>\n",
       "      <td>petrol</td>\n",
       "      <td>volkswagen</td>\n",
       "      <td>no</td>\n",
       "      <td>2016</td>\n",
       "      <td>0</td>\n",
       "      <td>91074</td>\n",
       "      <td>2016</td>\n",
       "    </tr>\n",
       "    <tr>\n",
       "      <th>4</th>\n",
       "      <td>2016</td>\n",
       "      <td>3600</td>\n",
       "      <td>small</td>\n",
       "      <td>2008</td>\n",
       "      <td>manual</td>\n",
       "      <td>69</td>\n",
       "      <td>fabia</td>\n",
       "      <td>90000</td>\n",
       "      <td>7</td>\n",
       "      <td>gasoline</td>\n",
       "      <td>skoda</td>\n",
       "      <td>no</td>\n",
       "      <td>2016</td>\n",
       "      <td>0</td>\n",
       "      <td>60437</td>\n",
       "      <td>2016</td>\n",
       "    </tr>\n",
       "    <tr>\n",
       "      <th>...</th>\n",
       "      <td>...</td>\n",
       "      <td>...</td>\n",
       "      <td>...</td>\n",
       "      <td>...</td>\n",
       "      <td>...</td>\n",
       "      <td>...</td>\n",
       "      <td>...</td>\n",
       "      <td>...</td>\n",
       "      <td>...</td>\n",
       "      <td>...</td>\n",
       "      <td>...</td>\n",
       "      <td>...</td>\n",
       "      <td>...</td>\n",
       "      <td>...</td>\n",
       "      <td>...</td>\n",
       "      <td>...</td>\n",
       "    </tr>\n",
       "    <tr>\n",
       "      <th>354364</th>\n",
       "      <td>2016</td>\n",
       "      <td>0</td>\n",
       "      <td>NaN</td>\n",
       "      <td>2005</td>\n",
       "      <td>manual</td>\n",
       "      <td>0</td>\n",
       "      <td>colt</td>\n",
       "      <td>150000</td>\n",
       "      <td>7</td>\n",
       "      <td>petrol</td>\n",
       "      <td>mitsubishi</td>\n",
       "      <td>yes</td>\n",
       "      <td>2016</td>\n",
       "      <td>0</td>\n",
       "      <td>2694</td>\n",
       "      <td>2016</td>\n",
       "    </tr>\n",
       "    <tr>\n",
       "      <th>354365</th>\n",
       "      <td>2016</td>\n",
       "      <td>2200</td>\n",
       "      <td>NaN</td>\n",
       "      <td>2005</td>\n",
       "      <td>NaN</td>\n",
       "      <td>0</td>\n",
       "      <td>NaN</td>\n",
       "      <td>20000</td>\n",
       "      <td>1</td>\n",
       "      <td>NaN</td>\n",
       "      <td>sonstige_autos</td>\n",
       "      <td>NaN</td>\n",
       "      <td>2016</td>\n",
       "      <td>0</td>\n",
       "      <td>39576</td>\n",
       "      <td>2016</td>\n",
       "    </tr>\n",
       "    <tr>\n",
       "      <th>354366</th>\n",
       "      <td>2016</td>\n",
       "      <td>1199</td>\n",
       "      <td>convertible</td>\n",
       "      <td>2000</td>\n",
       "      <td>auto</td>\n",
       "      <td>101</td>\n",
       "      <td>fortwo</td>\n",
       "      <td>125000</td>\n",
       "      <td>3</td>\n",
       "      <td>petrol</td>\n",
       "      <td>smart</td>\n",
       "      <td>no</td>\n",
       "      <td>2016</td>\n",
       "      <td>0</td>\n",
       "      <td>26135</td>\n",
       "      <td>2016</td>\n",
       "    </tr>\n",
       "    <tr>\n",
       "      <th>354367</th>\n",
       "      <td>2016</td>\n",
       "      <td>9200</td>\n",
       "      <td>bus</td>\n",
       "      <td>1996</td>\n",
       "      <td>manual</td>\n",
       "      <td>102</td>\n",
       "      <td>transporter</td>\n",
       "      <td>150000</td>\n",
       "      <td>3</td>\n",
       "      <td>gasoline</td>\n",
       "      <td>volkswagen</td>\n",
       "      <td>no</td>\n",
       "      <td>2016</td>\n",
       "      <td>0</td>\n",
       "      <td>87439</td>\n",
       "      <td>2016</td>\n",
       "    </tr>\n",
       "    <tr>\n",
       "      <th>354368</th>\n",
       "      <td>2016</td>\n",
       "      <td>3400</td>\n",
       "      <td>wagon</td>\n",
       "      <td>2002</td>\n",
       "      <td>manual</td>\n",
       "      <td>100</td>\n",
       "      <td>golf</td>\n",
       "      <td>150000</td>\n",
       "      <td>6</td>\n",
       "      <td>gasoline</td>\n",
       "      <td>volkswagen</td>\n",
       "      <td>NaN</td>\n",
       "      <td>2016</td>\n",
       "      <td>0</td>\n",
       "      <td>40764</td>\n",
       "      <td>2016</td>\n",
       "    </tr>\n",
       "  </tbody>\n",
       "</table>\n",
       "<p>354107 rows × 16 columns</p>\n",
       "</div>"
      ],
      "text/plain": [
       "        date_crawled  price vehicle_type  registration_year gearbox  power  \\\n",
       "0               2016    480          NaN               1993  manual      0   \n",
       "1               2016  18300        coupe               2011  manual    190   \n",
       "2               2016   9800          suv               2004    auto    163   \n",
       "3               2016   1500        small               2001  manual     75   \n",
       "4               2016   3600        small               2008  manual     69   \n",
       "...              ...    ...          ...                ...     ...    ...   \n",
       "354364          2016      0          NaN               2005  manual      0   \n",
       "354365          2016   2200          NaN               2005     NaN      0   \n",
       "354366          2016   1199  convertible               2000    auto    101   \n",
       "354367          2016   9200          bus               1996  manual    102   \n",
       "354368          2016   3400        wagon               2002  manual    100   \n",
       "\n",
       "              model  mileage  registration_month fuel_type           brand  \\\n",
       "0              golf   150000                   0    petrol      volkswagen   \n",
       "1               NaN   125000                   5  gasoline            audi   \n",
       "2             grand   125000                   8  gasoline            jeep   \n",
       "3              golf   150000                   6    petrol      volkswagen   \n",
       "4             fabia    90000                   7  gasoline           skoda   \n",
       "...             ...      ...                 ...       ...             ...   \n",
       "354364         colt   150000                   7    petrol      mitsubishi   \n",
       "354365          NaN    20000                   1       NaN  sonstige_autos   \n",
       "354366       fortwo   125000                   3    petrol           smart   \n",
       "354367  transporter   150000                   3  gasoline      volkswagen   \n",
       "354368         golf   150000                   6  gasoline      volkswagen   \n",
       "\n",
       "       not_repaired  date_created  number_of_pictures  postal_code  last_seen  \n",
       "0               NaN          2016                   0        70435       2016  \n",
       "1               yes          2016                   0        66954       2016  \n",
       "2               NaN          2016                   0        90480       2016  \n",
       "3                no          2016                   0        91074       2016  \n",
       "4                no          2016                   0        60437       2016  \n",
       "...             ...           ...                 ...          ...        ...  \n",
       "354364          yes          2016                   0         2694       2016  \n",
       "354365          NaN          2016                   0        39576       2016  \n",
       "354366           no          2016                   0        26135       2016  \n",
       "354367           no          2016                   0        87439       2016  \n",
       "354368          NaN          2016                   0        40764       2016  \n",
       "\n",
       "[354107 rows x 16 columns]"
      ]
     },
     "metadata": {},
     "output_type": "display_data"
    }
   ],
   "source": [
    "for columns in columns_date:\n",
    "    df[columns] = pd.DatetimeIndex(df[columns]).year \n",
    "\n",
    "display(df)"
   ]
  },
  {
   "cell_type": "markdown",
   "metadata": {},
   "source": [
    "Ya con los datos duplicados eliminados, y las fechas ya adaptadas se procede a revisar lo antes indicado.\n",
    "\n",
    "Se revisa profundamente las columnas 'Price', 'Power'y  'RegistrationYear'"
   ]
  },
  {
   "cell_type": "code",
   "execution_count": 17,
   "metadata": {},
   "outputs": [
    {
     "data": {
      "text/html": [
       "<div>\n",
       "<style scoped>\n",
       "    .dataframe tbody tr th:only-of-type {\n",
       "        vertical-align: middle;\n",
       "    }\n",
       "\n",
       "    .dataframe tbody tr th {\n",
       "        vertical-align: top;\n",
       "    }\n",
       "\n",
       "    .dataframe thead th {\n",
       "        text-align: right;\n",
       "    }\n",
       "</style>\n",
       "<table border=\"1\" class=\"dataframe\">\n",
       "  <thead>\n",
       "    <tr style=\"text-align: right;\">\n",
       "      <th></th>\n",
       "      <th>price</th>\n",
       "      <th>power</th>\n",
       "      <th>registration_year</th>\n",
       "    </tr>\n",
       "  </thead>\n",
       "  <tbody>\n",
       "    <tr>\n",
       "      <th>count</th>\n",
       "      <td>354107.000000</td>\n",
       "      <td>354107.000000</td>\n",
       "      <td>354107.000000</td>\n",
       "    </tr>\n",
       "    <tr>\n",
       "      <th>mean</th>\n",
       "      <td>4416.433287</td>\n",
       "      <td>110.089651</td>\n",
       "      <td>2004.235355</td>\n",
       "    </tr>\n",
       "    <tr>\n",
       "      <th>std</th>\n",
       "      <td>4514.338584</td>\n",
       "      <td>189.914972</td>\n",
       "      <td>90.261168</td>\n",
       "    </tr>\n",
       "    <tr>\n",
       "      <th>min</th>\n",
       "      <td>0.000000</td>\n",
       "      <td>0.000000</td>\n",
       "      <td>1000.000000</td>\n",
       "    </tr>\n",
       "    <tr>\n",
       "      <th>25%</th>\n",
       "      <td>1050.000000</td>\n",
       "      <td>69.000000</td>\n",
       "      <td>1999.000000</td>\n",
       "    </tr>\n",
       "    <tr>\n",
       "      <th>50%</th>\n",
       "      <td>2700.000000</td>\n",
       "      <td>105.000000</td>\n",
       "      <td>2003.000000</td>\n",
       "    </tr>\n",
       "    <tr>\n",
       "      <th>75%</th>\n",
       "      <td>6400.000000</td>\n",
       "      <td>143.000000</td>\n",
       "      <td>2008.000000</td>\n",
       "    </tr>\n",
       "    <tr>\n",
       "      <th>max</th>\n",
       "      <td>20000.000000</td>\n",
       "      <td>20000.000000</td>\n",
       "      <td>9999.000000</td>\n",
       "    </tr>\n",
       "  </tbody>\n",
       "</table>\n",
       "</div>"
      ],
      "text/plain": [
       "               price          power  registration_year\n",
       "count  354107.000000  354107.000000      354107.000000\n",
       "mean     4416.433287     110.089651        2004.235355\n",
       "std      4514.338584     189.914972          90.261168\n",
       "min         0.000000       0.000000        1000.000000\n",
       "25%      1050.000000      69.000000        1999.000000\n",
       "50%      2700.000000     105.000000        2003.000000\n",
       "75%      6400.000000     143.000000        2008.000000\n",
       "max     20000.000000   20000.000000        9999.000000"
      ]
     },
     "execution_count": 17,
     "metadata": {},
     "output_type": "execute_result"
    }
   ],
   "source": [
    "df.loc[:,['price', 'power', 'registration_year']].describe()"
   ]
  },
  {
   "cell_type": "markdown",
   "metadata": {},
   "source": [
    "Se elimina la columna 'number_of_pictures' dado que todos sus valores estan en 0"
   ]
  },
  {
   "cell_type": "code",
   "execution_count": 18,
   "metadata": {},
   "outputs": [],
   "source": [
    "df = df.drop('number_of_pictures',axis=1)"
   ]
  },
  {
   "cell_type": "markdown",
   "metadata": {},
   "source": [
    "La composición de los datos ausentes es de la siguiente forma:\n",
    "\n",
    "    NotRepaired          71154 object 20.08%\n",
    "    VehicleType          37490 object 10.58%\n",
    "    FuelType             32895 object 9.28%\n",
    "    Gearbox              19833 object 5.6%\n",
    "    Model                19705 object 5.6%\n",
    "\n",
    "Se buscan las frecuencias relativas de estas columnas:"
   ]
  },
  {
   "cell_type": "code",
   "execution_count": 19,
   "metadata": {},
   "outputs": [],
   "source": [
    "def category_distribution(df, column):\n",
    "    \n",
    "    print(f'Distribution for {column}')\n",
    "    print(df[column].value_counts(normalize=True, dropna=False))\n",
    "    print()\n"
   ]
  },
  {
   "cell_type": "code",
   "execution_count": 20,
   "metadata": {},
   "outputs": [
    {
     "name": "stdout",
     "output_type": "stream",
     "text": [
      "Distribution for not_repaired\n",
      "no     0.697323\n",
      "NaN    0.200914\n",
      "yes    0.101763\n",
      "Name: not_repaired, dtype: float64\n",
      "\n",
      "Distribution for vehicle_type\n",
      "sedan          0.258111\n",
      "small          0.225223\n",
      "wagon          0.183885\n",
      "NaN            0.105855\n",
      "bus            0.081196\n",
      "convertible    0.056988\n",
      "coupe          0.045599\n",
      "suv            0.033863\n",
      "other          0.009280\n",
      "Name: vehicle_type, dtype: float64\n",
      "\n",
      "Distribution for fuel_type\n",
      "petrol      0.610440\n",
      "gasoline    0.278611\n",
      "NaN         0.092879\n",
      "lpg         0.014987\n",
      "cng         0.001596\n",
      "hybrid      0.000658\n",
      "other       0.000576\n",
      "electric    0.000254\n",
      "Name: fuel_type, dtype: float64\n",
      "\n",
      "Distribution for gearbox\n",
      "manual    0.756929\n",
      "auto      0.187071\n",
      "NaN       0.056000\n",
      "Name: gearbox, dtype: float64\n",
      "\n",
      "Distribution for model\n",
      "golf                  0.082503\n",
      "other                 0.068911\n",
      "3er                   0.055757\n",
      "NaN                   0.055636\n",
      "polo                  0.036873\n",
      "                        ...   \n",
      "serie_2               0.000023\n",
      "rangerover            0.000011\n",
      "serie_3               0.000011\n",
      "serie_1               0.000006\n",
      "range_rover_evoque    0.000006\n",
      "Name: model, Length: 251, dtype: float64\n",
      "\n"
     ]
    }
   ],
   "source": [
    "cat_cols = ['not_repaired', 'vehicle_type', 'fuel_type', 'gearbox', 'model']\n",
    "for col in cat_cols:\n",
    "    category_distribution(df, col)"
   ]
  },
  {
   "cell_type": "markdown",
   "metadata": {},
   "source": [
    "Para la columna 'not_repaired' no se tiene información suficiente para realizar imputación de datos, por lo que se opta por colocar en los datos ausentes la palabra 'unknown'."
   ]
  },
  {
   "cell_type": "code",
   "execution_count": 21,
   "metadata": {},
   "outputs": [],
   "source": [
    "df['not_repaired'].fillna('unknown', inplace=True)"
   ]
  },
  {
   "cell_type": "markdown",
   "metadata": {},
   "source": [
    "En el caso de 'gearbox' se trabaja una moda condiconal, tomando como referencia la columna 'brand'. Se crea una función que tome como entrada un conjunto de columnas y devuelve el valor más frecuente en cada columna."
   ]
  },
  {
   "cell_type": "code",
   "execution_count": 22,
   "metadata": {},
   "outputs": [],
   "source": [
    "def replace_null(cols):\n",
    "    return cols.astype(str).mode(dropna=False).iloc[0]"
   ]
  },
  {
   "cell_type": "markdown",
   "metadata": {},
   "source": [
    "Se aplica a 'gearbox'"
   ]
  },
  {
   "cell_type": "code",
   "execution_count": 23,
   "metadata": {},
   "outputs": [],
   "source": [
    "conditional_gearbox = df.groupby(['brand'])['gearbox'] \\\n",
    "         .transform(replace_null)\n",
    "\n",
    "df['gearbox'] = df['gearbox'].fillna(conditional_gearbox)"
   ]
  },
  {
   "cell_type": "code",
   "execution_count": 24,
   "metadata": {},
   "outputs": [
    {
     "name": "stdout",
     "output_type": "stream",
     "text": [
      "Distribution for gearbox\n",
      "manual    0.806287\n",
      "auto      0.193713\n",
      "Name: gearbox, dtype: float64\n",
      "\n"
     ]
    }
   ],
   "source": [
    "category_distribution(df, 'gearbox')"
   ]
  },
  {
   "cell_type": "markdown",
   "metadata": {},
   "source": [
    "De esta manera se asigna un valor adecuado a los datos ausentes. "
   ]
  },
  {
   "cell_type": "markdown",
   "metadata": {},
   "source": [
    "Para 'vehicle_type', 'fuel_type', 'model' revisa más a fondo para rellenar los NaN con datos más especificos. Se revisan sus frecuencias relativas."
   ]
  },
  {
   "cell_type": "code",
   "execution_count": 25,
   "metadata": {},
   "outputs": [
    {
     "name": "stdout",
     "output_type": "stream",
     "text": [
      "Distribution for registration_year\n",
      "2000    0.069120\n",
      "1999    0.064113\n",
      "2005    0.062394\n",
      "2001    0.056782\n",
      "2006    0.056124\n",
      "          ...   \n",
      "4100    0.000003\n",
      "1200    0.000003\n",
      "5300    0.000003\n",
      "8888    0.000003\n",
      "2290    0.000003\n",
      "Name: registration_year, Length: 151, dtype: float64\n",
      "\n",
      "Distribution for power\n",
      "0        0.113576\n",
      "75       0.067779\n",
      "60       0.044842\n",
      "150      0.041149\n",
      "101      0.037520\n",
      "           ...   \n",
      "323      0.000003\n",
      "3454     0.000003\n",
      "1056     0.000003\n",
      "13636    0.000003\n",
      "1158     0.000003\n",
      "Name: power, Length: 712, dtype: float64\n",
      "\n",
      "Distribution for brand\n",
      "volkswagen        0.217335\n",
      "opel              0.112683\n",
      "bmw               0.104152\n",
      "mercedes_benz     0.090439\n",
      "audi              0.083136\n",
      "ford              0.071060\n",
      "renault           0.050592\n",
      "peugeot           0.031030\n",
      "fiat              0.027206\n",
      "seat              0.019488\n",
      "mazda             0.015845\n",
      "skoda             0.015504\n",
      "smart             0.014801\n",
      "citroen           0.014524\n",
      "nissan            0.013939\n",
      "toyota            0.012993\n",
      "hyundai           0.010118\n",
      "sonstige_autos    0.009525\n",
      "volvo             0.009057\n",
      "mini              0.009040\n",
      "mitsubishi        0.008534\n",
      "honda             0.007955\n",
      "kia               0.006956\n",
      "suzuki            0.006552\n",
      "alfa_romeo        0.006526\n",
      "chevrolet         0.004945\n",
      "chrysler          0.004064\n",
      "dacia             0.002536\n",
      "daihatsu          0.002276\n",
      "subaru            0.002152\n",
      "porsche           0.002141\n",
      "jeep              0.001912\n",
      "trabant           0.001663\n",
      "land_rover        0.001539\n",
      "daewoo            0.001531\n",
      "saab              0.001485\n",
      "jaguar            0.001426\n",
      "rover             0.001372\n",
      "lancia            0.001330\n",
      "lada              0.000635\n",
      "Name: brand, dtype: float64\n",
      "\n"
     ]
    }
   ],
   "source": [
    "opt_cols = ['registration_year', 'power', 'brand']\n",
    "for col in opt_cols:\n",
    "    category_distribution(df, col)"
   ]
  },
  {
   "cell_type": "code",
   "execution_count": 26,
   "metadata": {},
   "outputs": [
    {
     "data": {
      "text/plain": [
       "array([1000, 1001, 1039, 1111, 1200, 1234, 1253, 1255, 1300, 1400, 1500,\n",
       "       1600, 1602, 1688, 1800, 1910, 1915, 1919, 1920, 1923, 1925, 1927,\n",
       "       1928, 1929, 1930, 1931, 1932, 1933, 1934, 1935, 1936, 1937, 1938,\n",
       "       1940, 1941, 1942, 1943, 1944, 1945, 1946, 1947, 1948, 1949, 1950,\n",
       "       1951, 1952, 1953, 1954, 1955, 1956, 1957, 1958, 1959, 1960, 1961,\n",
       "       1962, 1963, 1964, 1965, 1966, 1967, 1968, 1969, 1970, 1971, 1972,\n",
       "       1973, 1974, 1975, 1976, 1977, 1978, 1979, 1980, 1981, 1982, 1983,\n",
       "       1984, 1985, 1986, 1987, 1988, 1989, 1990, 1991, 1992, 1993, 1994,\n",
       "       1995, 1996, 1997, 1998, 1999, 2000, 2001, 2002, 2003, 2004, 2005,\n",
       "       2006, 2007, 2008, 2009, 2010, 2011, 2012, 2013, 2014, 2015, 2016,\n",
       "       2017, 2018, 2019, 2066, 2200, 2222, 2290, 2500, 2800, 2900, 3000,\n",
       "       3200, 3500, 3700, 3800, 4000, 4100, 4500, 4800, 5000, 5300, 5555,\n",
       "       5600, 5900, 5911, 6000, 6500, 7000, 7100, 7500, 7800, 8000, 8200,\n",
       "       8455, 8500, 8888, 9000, 9229, 9450, 9996, 9999])"
      ]
     },
     "execution_count": 26,
     "metadata": {},
     "output_type": "execute_result"
    }
   ],
   "source": [
    "df['registration_year'].sort_values().unique()"
   ]
  },
  {
   "cell_type": "markdown",
   "metadata": {},
   "source": [
    "En 'registration_year' se tienen datos incoherentes y se decide quitar estos datos"
   ]
  },
  {
   "cell_type": "code",
   "execution_count": 27,
   "metadata": {},
   "outputs": [
    {
     "name": "stdout",
     "output_type": "stream",
     "text": [
      "[1910 1915 1919 1920 1923 1925 1927 1928 1929 1930 1931 1932 1933 1934\n",
      " 1935 1936 1937 1938 1940 1941 1942 1943 1944 1945 1946 1947 1948 1949\n",
      " 1950 1951 1952 1953 1954 1955 1956 1957 1958 1959 1960 1961 1962 1963\n",
      " 1964 1965 1966 1967 1968 1969 1970 1971 1972 1973 1974 1975 1976 1977\n",
      " 1978 1979 1980 1981 1982 1983 1984 1985 1986 1987 1988 1989 1990 1991\n",
      " 1992 1993 1994 1995 1996 1997 1998 1999 2000 2001 2002 2003 2004 2005\n",
      " 2006 2007 2008 2009 2010 2011 2012 2013 2014 2015 2016 2017 2018 2019]\n"
     ]
    }
   ],
   "source": [
    "df = df.loc[~((df['registration_year'] <= 1800) | (df['registration_year'] >= 2066)), :]\n",
    "\n",
    "print(df['registration_year'].sort_values().unique())"
   ]
  },
  {
   "cell_type": "code",
   "execution_count": 28,
   "metadata": {},
   "outputs": [
    {
     "name": "stdout",
     "output_type": "stream",
     "text": [
      "<class 'pandas.core.frame.DataFrame'>\n",
      "Int64Index: 353936 entries, 0 to 354368\n",
      "Data columns (total 15 columns):\n",
      " #   Column              Non-Null Count   Dtype \n",
      "---  ------              --------------   ----- \n",
      " 0   date_crawled        353936 non-null  int64 \n",
      " 1   price               353936 non-null  int64 \n",
      " 2   vehicle_type        316623 non-null  object\n",
      " 3   registration_year   353936 non-null  int64 \n",
      " 4   gearbox             353936 non-null  object\n",
      " 5   power               353936 non-null  int64 \n",
      " 6   model               334310 non-null  object\n",
      " 7   mileage             353936 non-null  int64 \n",
      " 8   registration_month  353936 non-null  int64 \n",
      " 9   fuel_type           321175 non-null  object\n",
      " 10  brand               353936 non-null  object\n",
      " 11  not_repaired        353936 non-null  object\n",
      " 12  date_created        353936 non-null  int64 \n",
      " 13  postal_code         353936 non-null  int64 \n",
      " 14  last_seen           353936 non-null  int64 \n",
      "dtypes: int64(9), object(6)\n",
      "memory usage: 43.2+ MB\n"
     ]
    }
   ],
   "source": [
    "df.info()"
   ]
  },
  {
   "cell_type": "markdown",
   "metadata": {},
   "source": [
    "La eliminación de esta información no fue significativa para el dataset completo..\n",
    "\n",
    "Con los datos finales se revisa el tipo de vehículos que se tienen y la cantidad que hay por tipo. El objetivo es llenar los datos ausentes con el tipo de vehículo más significativo por modelo.\n",
    "\n",
    "Para ello, se buscará los modelos con mayor cantidad de datos ausentes y se les imputará la moda."
   ]
  },
  {
   "cell_type": "code",
   "execution_count": 29,
   "metadata": {},
   "outputs": [
    {
     "data": {
      "text/plain": [
       "golf           0.183948\n",
       "other          0.084195\n",
       "polo           0.073076\n",
       "corsa          0.071840\n",
       "3er            0.059806\n",
       "astra          0.054269\n",
       "a3             0.035508\n",
       "twingo         0.032534\n",
       "passat         0.030933\n",
       "fiesta         0.028645\n",
       "a_klasse       0.025945\n",
       "focus          0.024252\n",
       "punto          0.021964\n",
       "a4             0.021415\n",
       "vectra         0.020317\n",
       "c_klasse       0.018715\n",
       "transporter    0.018349\n",
       "clio           0.017937\n",
       "touran         0.017434\n",
       "5er            0.016153\n",
       "ka             0.015970\n",
       "zafira         0.015832\n",
       "e_klasse       0.015649\n",
       "3_reihe        0.014322\n",
       "ibiza          0.014094\n",
       "fortwo         0.014002\n",
       "megane         0.013956\n",
       "lupo           0.013133\n",
       "a6             0.012950\n",
       "2_reihe        0.012858\n",
       "Name: model, dtype: float64"
      ]
     },
     "execution_count": 29,
     "metadata": {},
     "output_type": "execute_result"
    }
   ],
   "source": [
    "nan_counts = df[df['vehicle_type'].isna()]['model'].value_counts().head(30)\n",
    "relative_frequency = nan_counts / nan_counts.sum()\n",
    "\n",
    "relative_frequency"
   ]
  },
  {
   "cell_type": "markdown",
   "metadata": {},
   "source": [
    "Se decide trabajar con los primeros 18 registros, que representan el 80% de los datos. "
   ]
  },
  {
   "cell_type": "code",
   "execution_count": 30,
   "metadata": {},
   "outputs": [
    {
     "data": {
      "text/plain": [
       "model\n",
       "100              sedan\n",
       "145              small\n",
       "147              sedan\n",
       "156              wagon\n",
       "159              wagon\n",
       "              ...     \n",
       "yaris            small\n",
       "yeti               suv\n",
       "ypsilon          small\n",
       "z_reihe    convertible\n",
       "zafira             bus\n",
       "Name: vehicle_type, Length: 250, dtype: object"
      ]
     },
     "execution_count": 30,
     "metadata": {},
     "output_type": "execute_result"
    }
   ],
   "source": [
    "model_mode = df.groupby('model')['vehicle_type'].agg(pd.Series.mode)\n",
    "model_mode"
   ]
  },
  {
   "cell_type": "code",
   "execution_count": 31,
   "metadata": {},
   "outputs": [],
   "source": [
    "models = ['golf', 'other', 'polo', 'corsa', '3er', 'astra', 'a3', 'twingo', \n",
    "          'passat', 'fiesta', 'a_klasse', 'focus', 'punto', 'a4', 'vectra', \n",
    "          'c_klasse', 'transporter', 'clio']"
   ]
  },
  {
   "cell_type": "code",
   "execution_count": 32,
   "metadata": {},
   "outputs": [
    {
     "name": "stdout",
     "output_type": "stream",
     "text": [
      "golf : sedan\n",
      "other : sedan\n",
      "polo : small\n",
      "corsa : small\n",
      "3er : sedan\n",
      "astra : sedan\n",
      "a3 : sedan\n",
      "twingo : small\n",
      "passat : wagon\n",
      "fiesta : small\n",
      "a_klasse : sedan\n",
      "focus : wagon\n",
      "punto : small\n",
      "a4 : wagon\n",
      "vectra : sedan\n",
      "c_klasse : sedan\n",
      "transporter : bus\n",
      "clio : small\n"
     ]
    }
   ],
   "source": [
    "for v_type in models:\n",
    "    print (v_type,':',model_mode[v_type])"
   ]
  },
  {
   "cell_type": "code",
   "execution_count": 33,
   "metadata": {},
   "outputs": [],
   "source": [
    "df['vehicle_type'] = np.where(\n",
    "    (df['vehicle_type'].isna()==True) & (df['model'].isin(['golf', 'other ', '3er', 'astra', 'a3', 'a_klasse', 'vectra', 'c_klasse'])), 'sedan',\n",
    "    np.where((df['vehicle_type'].isna()==True) & (df['model'].isin(['polo', 'corsa', 'twingo', 'fiesta', 'punto', 'clio'])), 'small',\n",
    "    np.where((df['vehicle_type'].isna()==True) & (df['model'].isin(['passat', 'focus', 'a4'])), 'wagon',\n",
    "    np.where((df['vehicle_type'].isna()==True) & (df['model'] == 'transporter'), 'bus', df['vehicle_type']))))\n",
    "\n",
    "df.dropna(subset=['vehicle_type'], inplace=True)"
   ]
  },
  {
   "cell_type": "markdown",
   "metadata": {},
   "source": [
    "Se sigue sigue el mismo patrón anterior para los datos ausentes de 'fuel_type'."
   ]
  },
  {
   "cell_type": "code",
   "execution_count": 34,
   "metadata": {},
   "outputs": [
    {
     "name": "stdout",
     "output_type": "stream",
     "text": [
      "vehicle_type\n",
      "bus            gasoline\n",
      "convertible      petrol\n",
      "coupe            petrol\n",
      "other          gasoline\n",
      "sedan            petrol\n",
      "small            petrol\n",
      "suv            gasoline\n",
      "wagon          gasoline\n",
      "Name: fuel_type, dtype: object\n"
     ]
    }
   ],
   "source": [
    "fuel_mode = df.groupby('vehicle_type')['fuel_type'].agg(pd.Series.mode)\n",
    "print(fuel_mode)"
   ]
  },
  {
   "cell_type": "code",
   "execution_count": 35,
   "metadata": {},
   "outputs": [],
   "source": [
    "for vehicle_type, fuel in fuel_mode.items():\n",
    "    df.loc[df['vehicle_type'] == vehicle_type, 'fuel_type'] = df.loc[df['vehicle_type'] == vehicle_type, 'fuel_type'].fillna(fuel)\n"
   ]
  },
  {
   "cell_type": "code",
   "execution_count": 36,
   "metadata": {},
   "outputs": [
    {
     "name": "stdout",
     "output_type": "stream",
     "text": [
      "<class 'pandas.core.frame.DataFrame'>\n",
      "Int64Index: 332783 entries, 0 to 354368\n",
      "Data columns (total 15 columns):\n",
      " #   Column              Non-Null Count   Dtype \n",
      "---  ------              --------------   ----- \n",
      " 0   date_crawled        332783 non-null  int64 \n",
      " 1   price               332783 non-null  int64 \n",
      " 2   vehicle_type        332783 non-null  object\n",
      " 3   registration_year   332783 non-null  int64 \n",
      " 4   gearbox             332783 non-null  object\n",
      " 5   power               332783 non-null  int64 \n",
      " 6   model               319909 non-null  object\n",
      " 7   mileage             332783 non-null  int64 \n",
      " 8   registration_month  332783 non-null  int64 \n",
      " 9   fuel_type           332783 non-null  object\n",
      " 10  brand               332783 non-null  object\n",
      " 11  not_repaired        332783 non-null  object\n",
      " 12  date_created        332783 non-null  int64 \n",
      " 13  postal_code         332783 non-null  int64 \n",
      " 14  last_seen           332783 non-null  int64 \n",
      "dtypes: int64(9), object(6)\n",
      "memory usage: 40.6+ MB\n"
     ]
    }
   ],
   "source": [
    "df.info()"
   ]
  },
  {
   "cell_type": "markdown",
   "metadata": {},
   "source": [
    "Por ultimo, se utiliza la función previamente creada para el calculo de la moda de la columna 'model' para cada combinación única de 'brand' y 'registration_year' y que reemplace los valores faltantes en 'model' con estas modas calculadas."
   ]
  },
  {
   "cell_type": "code",
   "execution_count": 37,
   "metadata": {},
   "outputs": [],
   "source": [
    "conditional_model = df.groupby(['brand', 'registration_year'])['model'] \\\n",
    "         .transform(replace_null)\n",
    "\n",
    "df['model'] = df['model'].fillna(conditional_model)"
   ]
  },
  {
   "cell_type": "code",
   "execution_count": 38,
   "metadata": {},
   "outputs": [
    {
     "name": "stdout",
     "output_type": "stream",
     "text": [
      "<class 'pandas.core.frame.DataFrame'>\n",
      "Int64Index: 332783 entries, 0 to 354368\n",
      "Data columns (total 15 columns):\n",
      " #   Column              Non-Null Count   Dtype \n",
      "---  ------              --------------   ----- \n",
      " 0   date_crawled        332783 non-null  int64 \n",
      " 1   price               332783 non-null  int64 \n",
      " 2   vehicle_type        332783 non-null  object\n",
      " 3   registration_year   332783 non-null  int64 \n",
      " 4   gearbox             332783 non-null  object\n",
      " 5   power               332783 non-null  int64 \n",
      " 6   model               332783 non-null  object\n",
      " 7   mileage             332783 non-null  int64 \n",
      " 8   registration_month  332783 non-null  int64 \n",
      " 9   fuel_type           332783 non-null  object\n",
      " 10  brand               332783 non-null  object\n",
      " 11  not_repaired        332783 non-null  object\n",
      " 12  date_created        332783 non-null  int64 \n",
      " 13  postal_code         332783 non-null  int64 \n",
      " 14  last_seen           332783 non-null  int64 \n",
      "dtypes: int64(9), object(6)\n",
      "memory usage: 40.6+ MB\n"
     ]
    }
   ],
   "source": [
    "df.info()"
   ]
  },
  {
   "cell_type": "code",
   "execution_count": 39,
   "metadata": {},
   "outputs": [
    {
     "name": "stdout",
     "output_type": "stream",
     "text": [
      "Cantidad de 'nan' en la columna 'model': 2378\n"
     ]
    }
   ],
   "source": [
    "nan_count_model = df['model'].value_counts()['nan']\n",
    "print(\"Cantidad de 'nan' en la columna 'model':\", nan_count_model)"
   ]
  },
  {
   "cell_type": "markdown",
   "metadata": {},
   "source": [
    "Algunos datos que quedaban ausentes, se quedarán como datos desconocidos con el nombr de 'nan'"
   ]
  },
  {
   "cell_type": "markdown",
   "metadata": {},
   "source": [
    "Para terminar la preparación de datos, se revisa el tema de los datos mínimos de la columna 'price'y 'power'."
   ]
  },
  {
   "cell_type": "code",
   "execution_count": 40,
   "metadata": {},
   "outputs": [
    {
     "name": "stdout",
     "output_type": "stream",
     "text": [
      "\n",
      " price\n",
      "[    0     1     2 ... 19998 19999 20000]\n",
      "\n",
      " power\n",
      "[    0     1     2     3     4     5     6     7     8     9    10    11\n",
      "    12    13    14    15    16    17    18    19    20    21    22    23\n",
      "    24    25    26    27    28    29    30    31    32    33    34    35\n",
      "    36    37    38    39    40    41    42    43    44    45    46    47\n",
      "    48    49    50    51    52    53    54    55    56    57    58    59\n",
      "    60    61    62    63    64    65    66    67    68    69    70    71\n",
      "    72    73    74    75    76    77    78    79    80    81    82    83\n",
      "    84    85    86    87    88    89    90    91    92    93    94    95\n",
      "    96    97    98    99   100   101   102   103   104   105   106   107\n",
      "   108   109   110   111   112   113   114   115   116   117   118   119\n",
      "   120   121   122   123   124   125   126   127   128   129   130   131\n",
      "   132   133   134   135   136   137   138   139   140   141   142   143\n",
      "   144   145   146   147   148   149   150   151   152   153   154   155\n",
      "   156   157   158   159   160   161   162   163   164   165   166   167\n",
      "   168   169   170   171   172   173   174   175   176   177   178   179\n",
      "   180   181   182   183   184   185   186   187   188   189   190   191\n",
      "   192   193   194   195   196   197   198   199   200   201   202   203\n",
      "   204   205   206   207   208   209   210   211   212   213   214   215\n",
      "   216   217   218   219   220   221   222   223   224   225   226   227\n",
      "   228   229   230   231   232   233   234   235   236   237   238   239\n",
      "   240   241   242   243   244   245   246   247   248   249   250   251\n",
      "   252   253   254   255   256   257   258   259   260   261   262   264\n",
      "   265   266   267   268   269   270   271   272   273   274   275   276\n",
      "   277   278   279   280   281   282   283   284   285   286   287   288\n",
      "   289   290   292   293   294   295   296   297   298   299   300   301\n",
      "   303   304   305   306   307   308   309   310   311   313   314   315\n",
      "   316   317   318   320   321   322   324   325   326   327   328   329\n",
      "   330   331   332   333   334   335   336   337   338   339   340   341\n",
      "   343   344   345   346   347   348   349   350   351   352   353   354\n",
      "   355   356   357   358   360   361   362   363   364   365   367   368\n",
      "   370   371   374   375   376   377   379   380   381   382   385   386\n",
      "   387   388   390   392   394   396   398   399   400   401   405   408\n",
      "   409   411   416   420   421   425   426   428   430   431   435   440\n",
      "   442   445   449   450   454   457   460   475   476   485   487   489\n",
      "   490   500   504   505   507   508   510   514   515   517   519   520\n",
      "   521   525   540   541   544   550   551   553   560   572   574   579\n",
      "   580   584   585   599   600   601   602   603   604   606   607   620\n",
      "   640   645   650   651   671   678   682   685   700   702   703   732\n",
      "   743   750   751   754   771   776   800   805   808   850   851   871\n",
      "   900   903   907   909   950   952   953   960   998   999  1000  1001\n",
      "  1002  1003  1004  1005  1011  1012  1016  1017  1021  1024  1054  1055\n",
      "  1056  1062  1079  1082  1090  1100  1102  1103  1105  1115  1120  1149\n",
      "  1151  1158  1160  1162  1164  1199  1200  1202  1221  1223  1230  1239\n",
      "  1240  1241  1250  1252  1256  1275  1288  1299  1300  1312  1317  1324\n",
      "  1339  1360  1362  1363  1367  1390  1398  1399  1400  1401  1403  1405\n",
      "  1416  1432  1433  1436  1500  1501  1502  1503  1506  1521  1548  1595\n",
      "  1596  1597  1598  1600  1625  1631  1653  1659  1689  1700  1701  1703\n",
      "  1704  1707  1753  1771  1780  1781  1783  1793  1796  1799  1800  1801\n",
      "  1870  1895  1896  1900  1910  1920  1922  1933  1937  1968  1988  1992\n",
      "  1993  1995  1998  1999  2000  2005  2007  2009  2016  2017  2018  2172\n",
      "  2200  2201  2331  2340  2389  2402  2461  2598  2729  2789  2792  2799\n",
      "  3199  3454  3500  3750  4400  4507  4700  5000  5411  5420  5575  5809\n",
      "  5815  5867  6006  6010  6011  6012  6018  6045  6062  6226  6512  6920\n",
      "  7508  7511  7512  7515  7518  7529  7544  8011  8259  8404  8500  9007\n",
      "  9011  9012  9013  9710 10000 10110 10218 10317 10520 10522 10710 10910\n",
      " 10912 11011 11025 11111 11509 11530 11635 12012 12510 12512 12684 13636\n",
      " 14009 15001 15017 15020 15033 16051 16311 16312 17011 17019 17410 17700\n",
      " 17932 19208 19211 19312 20000]\n"
     ]
    }
   ],
   "source": [
    "columns_interest = ['price', 'power']\n",
    "\n",
    "for col in columns_interest:\n",
    "    print('\\n',col)\n",
    "    print(df[col].sort_values().unique())"
   ]
  },
  {
   "cell_type": "code",
   "execution_count": 41,
   "metadata": {},
   "outputs": [
    {
     "data": {
      "image/png": "[encoded data removed]",
      "text/plain": [
       "<Figure size 720x432 with 1 Axes>"
      ]
     },
     "metadata": {
      "needs_background": "light"
     },
     "output_type": "display_data"
    }
   ],
   "source": [
    "df_filtered_power = df[(df['power'] >= 0) & (df['power'] <= 100)]\n",
    "\n",
    "value_frequency_2 = df_filtered_power['power'].value_counts().sort_index()\n",
    "\n",
    "plt.figure(figsize=(10, 6))\n",
    "plt.plot(value_frequency_2.index, value_frequency_2.values, marker='o', linestyle='-')\n",
    "plt.xlabel('Power')\n",
    "plt.ylabel('Frequency')\n",
    "plt.title('Frequency of registrations')\n",
    "plt.grid(True)\n",
    "plt.show()"
   ]
  },
  {
   "cell_type": "code",
   "execution_count": 42,
   "metadata": {},
   "outputs": [
    {
     "data": {
      "image/png": "[encoded data removed]",
      "text/plain": [
       "<Figure size 720x432 with 1 Axes>"
      ]
     },
     "metadata": {
      "needs_background": "light"
     },
     "output_type": "display_data"
    }
   ],
   "source": [
    "df_filtered_price = df[(df['price'] >= 0) & (df['price'] <= 100)]\n",
    "\n",
    "value_frequency_3 = df_filtered_price['price'].value_counts().sort_index()\n",
    "\n",
    "plt.figure(figsize=(10, 6))\n",
    "plt.plot(value_frequency_3.index, value_frequency_3.values, marker='o', linestyle='-')\n",
    "plt.xlabel('Price')\n",
    "plt.ylabel('Frequency')\n",
    "plt.title('Frequency of registrations')\n",
    "plt.grid(True)\n",
    "plt.show()"
   ]
  },
  {
   "cell_type": "markdown",
   "metadata": {},
   "source": [
    "Se decide observar el comportamiento de los datos para considerar los datos que se conservarán.\n",
    "\n",
    "        Para Power a partir de 40\n",
    "        Para Price a partir de 50"
   ]
  },
  {
   "cell_type": "code",
   "execution_count": 43,
   "metadata": {},
   "outputs": [],
   "source": [
    "df = df.loc[(df['power'] >= 40) & (df['price'] >= 50)]"
   ]
  },
  {
   "cell_type": "code",
   "execution_count": 44,
   "metadata": {},
   "outputs": [],
   "source": [
    "df = df.reset_index(drop=True)"
   ]
  },
  {
   "cell_type": "code",
   "execution_count": 45,
   "metadata": {},
   "outputs": [
    {
     "data": {
      "text/html": [
       "<div>\n",
       "<style scoped>\n",
       "    .dataframe tbody tr th:only-of-type {\n",
       "        vertical-align: middle;\n",
       "    }\n",
       "\n",
       "    .dataframe tbody tr th {\n",
       "        vertical-align: top;\n",
       "    }\n",
       "\n",
       "    .dataframe thead th {\n",
       "        text-align: right;\n",
       "    }\n",
       "</style>\n",
       "<table border=\"1\" class=\"dataframe\">\n",
       "  <thead>\n",
       "    <tr style=\"text-align: right;\">\n",
       "      <th></th>\n",
       "      <th>date_crawled</th>\n",
       "      <th>price</th>\n",
       "      <th>vehicle_type</th>\n",
       "      <th>registration_year</th>\n",
       "      <th>gearbox</th>\n",
       "      <th>power</th>\n",
       "      <th>model</th>\n",
       "      <th>mileage</th>\n",
       "      <th>registration_month</th>\n",
       "      <th>fuel_type</th>\n",
       "      <th>brand</th>\n",
       "      <th>not_repaired</th>\n",
       "      <th>date_created</th>\n",
       "      <th>postal_code</th>\n",
       "      <th>last_seen</th>\n",
       "    </tr>\n",
       "  </thead>\n",
       "  <tbody>\n",
       "    <tr>\n",
       "      <th>0</th>\n",
       "      <td>2016</td>\n",
       "      <td>18300</td>\n",
       "      <td>coupe</td>\n",
       "      <td>2011</td>\n",
       "      <td>manual</td>\n",
       "      <td>190</td>\n",
       "      <td>a4</td>\n",
       "      <td>125000</td>\n",
       "      <td>5</td>\n",
       "      <td>gasoline</td>\n",
       "      <td>audi</td>\n",
       "      <td>yes</td>\n",
       "      <td>2016</td>\n",
       "      <td>66954</td>\n",
       "      <td>2016</td>\n",
       "    </tr>\n",
       "    <tr>\n",
       "      <th>1</th>\n",
       "      <td>2016</td>\n",
       "      <td>9800</td>\n",
       "      <td>suv</td>\n",
       "      <td>2004</td>\n",
       "      <td>auto</td>\n",
       "      <td>163</td>\n",
       "      <td>grand</td>\n",
       "      <td>125000</td>\n",
       "      <td>8</td>\n",
       "      <td>gasoline</td>\n",
       "      <td>jeep</td>\n",
       "      <td>unknown</td>\n",
       "      <td>2016</td>\n",
       "      <td>90480</td>\n",
       "      <td>2016</td>\n",
       "    </tr>\n",
       "    <tr>\n",
       "      <th>2</th>\n",
       "      <td>2016</td>\n",
       "      <td>1500</td>\n",
       "      <td>small</td>\n",
       "      <td>2001</td>\n",
       "      <td>manual</td>\n",
       "      <td>75</td>\n",
       "      <td>golf</td>\n",
       "      <td>150000</td>\n",
       "      <td>6</td>\n",
       "      <td>petrol</td>\n",
       "      <td>volkswagen</td>\n",
       "      <td>no</td>\n",
       "      <td>2016</td>\n",
       "      <td>91074</td>\n",
       "      <td>2016</td>\n",
       "    </tr>\n",
       "    <tr>\n",
       "      <th>3</th>\n",
       "      <td>2016</td>\n",
       "      <td>3600</td>\n",
       "      <td>small</td>\n",
       "      <td>2008</td>\n",
       "      <td>manual</td>\n",
       "      <td>69</td>\n",
       "      <td>fabia</td>\n",
       "      <td>90000</td>\n",
       "      <td>7</td>\n",
       "      <td>gasoline</td>\n",
       "      <td>skoda</td>\n",
       "      <td>no</td>\n",
       "      <td>2016</td>\n",
       "      <td>60437</td>\n",
       "      <td>2016</td>\n",
       "    </tr>\n",
       "    <tr>\n",
       "      <th>4</th>\n",
       "      <td>2016</td>\n",
       "      <td>650</td>\n",
       "      <td>sedan</td>\n",
       "      <td>1995</td>\n",
       "      <td>manual</td>\n",
       "      <td>102</td>\n",
       "      <td>3er</td>\n",
       "      <td>150000</td>\n",
       "      <td>10</td>\n",
       "      <td>petrol</td>\n",
       "      <td>bmw</td>\n",
       "      <td>yes</td>\n",
       "      <td>2016</td>\n",
       "      <td>33775</td>\n",
       "      <td>2016</td>\n",
       "    </tr>\n",
       "    <tr>\n",
       "      <th>...</th>\n",
       "      <td>...</td>\n",
       "      <td>...</td>\n",
       "      <td>...</td>\n",
       "      <td>...</td>\n",
       "      <td>...</td>\n",
       "      <td>...</td>\n",
       "      <td>...</td>\n",
       "      <td>...</td>\n",
       "      <td>...</td>\n",
       "      <td>...</td>\n",
       "      <td>...</td>\n",
       "      <td>...</td>\n",
       "      <td>...</td>\n",
       "      <td>...</td>\n",
       "      <td>...</td>\n",
       "    </tr>\n",
       "    <tr>\n",
       "      <th>293814</th>\n",
       "      <td>2016</td>\n",
       "      <td>7900</td>\n",
       "      <td>sedan</td>\n",
       "      <td>2010</td>\n",
       "      <td>manual</td>\n",
       "      <td>140</td>\n",
       "      <td>golf</td>\n",
       "      <td>150000</td>\n",
       "      <td>7</td>\n",
       "      <td>gasoline</td>\n",
       "      <td>volkswagen</td>\n",
       "      <td>no</td>\n",
       "      <td>2016</td>\n",
       "      <td>75223</td>\n",
       "      <td>2016</td>\n",
       "    </tr>\n",
       "    <tr>\n",
       "      <th>293815</th>\n",
       "      <td>2016</td>\n",
       "      <td>3200</td>\n",
       "      <td>sedan</td>\n",
       "      <td>2004</td>\n",
       "      <td>manual</td>\n",
       "      <td>225</td>\n",
       "      <td>leon</td>\n",
       "      <td>150000</td>\n",
       "      <td>5</td>\n",
       "      <td>petrol</td>\n",
       "      <td>seat</td>\n",
       "      <td>yes</td>\n",
       "      <td>2016</td>\n",
       "      <td>96465</td>\n",
       "      <td>2016</td>\n",
       "    </tr>\n",
       "    <tr>\n",
       "      <th>293816</th>\n",
       "      <td>2016</td>\n",
       "      <td>1199</td>\n",
       "      <td>convertible</td>\n",
       "      <td>2000</td>\n",
       "      <td>auto</td>\n",
       "      <td>101</td>\n",
       "      <td>fortwo</td>\n",
       "      <td>125000</td>\n",
       "      <td>3</td>\n",
       "      <td>petrol</td>\n",
       "      <td>smart</td>\n",
       "      <td>no</td>\n",
       "      <td>2016</td>\n",
       "      <td>26135</td>\n",
       "      <td>2016</td>\n",
       "    </tr>\n",
       "    <tr>\n",
       "      <th>293817</th>\n",
       "      <td>2016</td>\n",
       "      <td>9200</td>\n",
       "      <td>bus</td>\n",
       "      <td>1996</td>\n",
       "      <td>manual</td>\n",
       "      <td>102</td>\n",
       "      <td>transporter</td>\n",
       "      <td>150000</td>\n",
       "      <td>3</td>\n",
       "      <td>gasoline</td>\n",
       "      <td>volkswagen</td>\n",
       "      <td>no</td>\n",
       "      <td>2016</td>\n",
       "      <td>87439</td>\n",
       "      <td>2016</td>\n",
       "    </tr>\n",
       "    <tr>\n",
       "      <th>293818</th>\n",
       "      <td>2016</td>\n",
       "      <td>3400</td>\n",
       "      <td>wagon</td>\n",
       "      <td>2002</td>\n",
       "      <td>manual</td>\n",
       "      <td>100</td>\n",
       "      <td>golf</td>\n",
       "      <td>150000</td>\n",
       "      <td>6</td>\n",
       "      <td>gasoline</td>\n",
       "      <td>volkswagen</td>\n",
       "      <td>unknown</td>\n",
       "      <td>2016</td>\n",
       "      <td>40764</td>\n",
       "      <td>2016</td>\n",
       "    </tr>\n",
       "  </tbody>\n",
       "</table>\n",
       "<p>293819 rows × 15 columns</p>\n",
       "</div>"
      ],
      "text/plain": [
       "        date_crawled  price vehicle_type  registration_year gearbox  power  \\\n",
       "0               2016  18300        coupe               2011  manual    190   \n",
       "1               2016   9800          suv               2004    auto    163   \n",
       "2               2016   1500        small               2001  manual     75   \n",
       "3               2016   3600        small               2008  manual     69   \n",
       "4               2016    650        sedan               1995  manual    102   \n",
       "...              ...    ...          ...                ...     ...    ...   \n",
       "293814          2016   7900        sedan               2010  manual    140   \n",
       "293815          2016   3200        sedan               2004  manual    225   \n",
       "293816          2016   1199  convertible               2000    auto    101   \n",
       "293817          2016   9200          bus               1996  manual    102   \n",
       "293818          2016   3400        wagon               2002  manual    100   \n",
       "\n",
       "              model  mileage  registration_month fuel_type       brand  \\\n",
       "0                a4   125000                   5  gasoline        audi   \n",
       "1             grand   125000                   8  gasoline        jeep   \n",
       "2              golf   150000                   6    petrol  volkswagen   \n",
       "3             fabia    90000                   7  gasoline       skoda   \n",
       "4               3er   150000                  10    petrol         bmw   \n",
       "...             ...      ...                 ...       ...         ...   \n",
       "293814         golf   150000                   7  gasoline  volkswagen   \n",
       "293815         leon   150000                   5    petrol        seat   \n",
       "293816       fortwo   125000                   3    petrol       smart   \n",
       "293817  transporter   150000                   3  gasoline  volkswagen   \n",
       "293818         golf   150000                   6  gasoline  volkswagen   \n",
       "\n",
       "       not_repaired  date_created  postal_code  last_seen  \n",
       "0               yes          2016        66954       2016  \n",
       "1           unknown          2016        90480       2016  \n",
       "2                no          2016        91074       2016  \n",
       "3                no          2016        60437       2016  \n",
       "4               yes          2016        33775       2016  \n",
       "...             ...           ...          ...        ...  \n",
       "293814           no          2016        75223       2016  \n",
       "293815          yes          2016        96465       2016  \n",
       "293816           no          2016        26135       2016  \n",
       "293817           no          2016        87439       2016  \n",
       "293818      unknown          2016        40764       2016  \n",
       "\n",
       "[293819 rows x 15 columns]"
      ]
     },
     "metadata": {},
     "output_type": "display_data"
    }
   ],
   "source": [
    "display(df)"
   ]
  },
  {
   "cell_type": "markdown",
   "metadata": {},
   "source": [
    "El total de observaciones originales era de 354369 y después de la preparación ya decuación de los datos, se trabajará con un total de 293819 observaciones. La limpieza supuso una pérdida del 17.09% de los datos.\n",
    "\n",
    "\n",
    "Por último, para determinar con qué columnas trabajar, se revisa la correlación de las variables"
   ]
  },
  {
   "cell_type": "code",
   "execution_count": 46,
   "metadata": {},
   "outputs": [
    {
     "data": {
      "image/png": "[encoded data removed]",
      "text/plain": [
       "<Figure size 800x800 with 2 Axes>"
      ]
     },
     "metadata": {
      "needs_background": "light"
     },
     "output_type": "display_data"
    }
   ],
   "source": [
    "plt.figure(figsize=(10, 10), dpi=80)\n",
    "sns.heatmap(df.corr(), annot=True, cmap=\"RdYlGn\", fmt=\".2f\")\n",
    "plt.show()"
   ]
  },
  {
   "cell_type": "markdown",
   "metadata": {},
   "source": [
    "La matriz de correlación muestra que no hay relación entre el precio y las columnas: 'date_crawled', 'registration_month', 'date_created', 'postal_code' y 'last_seen'.\n",
    "\n",
    "Por lo cual se dejarán fuera de los modelos. Por lo que la información con la que se trabajará será el siguiente:\n",
    "\n",
    "Columna objetivo\n",
    "\n",
    "    price - precio al que se vende el vehículo\n",
    "\n",
    "Columnas características\n",
    "\n",
    "    vehicle_type - tipo de carrocería del vehículo\n",
    "    registration_year - año de matriculación del vehículo\n",
    "    gearbox - tipo de caja de cambios\n",
    "    power - potencia (CV)\n",
    "    model - modelo\n",
    "    mileage - kilometraje (Km)\n",
    "    fuel_type - tipo de combustible\n",
    "    brand - marca del vehículo\n",
    "    not_repaired - vehículo con o sin reparación"
   ]
  },
  {
   "cell_type": "markdown",
   "metadata": {},
   "source": [
    "## Entrenamiento del modelo "
   ]
  },
  {
   "cell_type": "markdown",
   "metadata": {},
   "source": [
    "Se entrena diferentes modelos con varios hiperparámetros con el objetivo de comparar la métrica raíz del error cuadrático medio (RECM).\n",
    "\n",
    "Se ejecutarán las siguientes modelos:\n",
    "\n",
    "    - Modelo de regresión lineal (como prueba de cordura)\n",
    "    - Modelo árbol de decision\n",
    "    - Modelo bosque aleatorio\n",
    "    - LightGBM"
   ]
  },
  {
   "cell_type": "markdown",
   "metadata": {},
   "source": [
    "### Separación y división de datos\n",
    "\n",
    "Eliminamos las columnas que ya no se necesitan"
   ]
  },
  {
   "cell_type": "code",
   "execution_count": 47,
   "metadata": {},
   "outputs": [],
   "source": [
    "df = df.drop(['date_crawled', 'registration_month', 'date_created', 'postal_code', 'last_seen'],axis=1)"
   ]
  },
  {
   "cell_type": "markdown",
   "metadata": {},
   "source": [
    "Se aplica  la codificación one-hot a las variables categóricas"
   ]
  },
  {
   "cell_type": "code",
   "execution_count": 48,
   "metadata": {},
   "outputs": [],
   "source": [
    "df = pd.get_dummies(df, drop_first=True)"
   ]
  },
  {
   "cell_type": "markdown",
   "metadata": {},
   "source": [
    "Se separan el conjunto de price 75% entrenamiento, 25% de validación"
   ]
  },
  {
   "cell_type": "code",
   "execution_count": 49,
   "metadata": {},
   "outputs": [],
   "source": [
    "target = df['price']\n",
    "features = df.drop('price', axis=1)\n",
    "features_train, features_valid, target_train, target_valid = train_test_split(\n",
    "    features, target, test_size=0.25, random_state=12345)"
   ]
  },
  {
   "cell_type": "markdown",
   "metadata": {},
   "source": [
    "Se realiza el escalado de los datos númericos"
   ]
  },
  {
   "cell_type": "code",
   "execution_count": 50,
   "metadata": {},
   "outputs": [],
   "source": [
    "numeric_features_train = features_train.select_dtypes(include=['number'])\n",
    "numeric_features_valid = features_valid.select_dtypes(include=['number'])\n",
    "scaler = StandardScaler()\n",
    "numeric_features_train_scaled = scaler.fit_transform(numeric_features_train)\n",
    "numeric_features_valid_scaled = scaler.transform(numeric_features_valid)\n",
    "\n",
    "\n",
    "categorical_features_train = features_train.select_dtypes(exclude=['number'])\n",
    "categorical_features_valid = features_valid.select_dtypes(exclude=['number'])\n",
    "\n",
    "\n",
    "features_train_complete = np.hstack((numeric_features_train_scaled, categorical_features_train))\n",
    "features_valid_complete = np.hstack((numeric_features_valid_scaled, categorical_features_valid))"
   ]
  },
  {
   "cell_type": "markdown",
   "metadata": {},
   "source": [
    "Se crea la función que nos ayudará al calculo de los tiempos de entrenamiento y validación"
   ]
  },
  {
   "cell_type": "code",
   "execution_count": 51,
   "metadata": {},
   "outputs": [],
   "source": [
    "def train_and_pred_time(model, features_train, target_train, features_valid):\n",
    "    start_time1 = time()\n",
    "    train = model.fit(features_train, target_train)\n",
    "    end_time1 = time()\n",
    "    train_time = end_time1 - start_time1\n",
    "    \n",
    "    start_time2 = time()\n",
    "    predictions = model.predict(features_valid)\n",
    "    end_time2 = time()\n",
    "    pred_time = end_time2 - start_time2\n",
    "    \n",
    "    return train_time, pred_time, predictions"
   ]
  },
  {
   "cell_type": "markdown",
   "metadata": {},
   "source": [
    "### Modelos"
   ]
  },
  {
   "cell_type": "markdown",
   "metadata": {},
   "source": [
    "*Regresión Lineal*"
   ]
  },
  {
   "cell_type": "code",
   "execution_count": 52,
   "metadata": {},
   "outputs": [],
   "source": [
    "model_lr = LinearRegression() \n",
    "lr_train_time, lr_pred_time, lr_pred = train_and_pred_time(model_lr, features_train_complete, target_train,\n",
    "                                                           features_valid_complete)"
   ]
  },
  {
   "cell_type": "code",
   "execution_count": 53,
   "metadata": {},
   "outputs": [
    {
     "name": "stdout",
     "output_type": "stream",
     "text": [
      "Valor RMSE para el entrenamiento: 2787.56\n",
      "Valor RMSE para la validation: 2822.19\n",
      "Tiempo de entrenamiento: 17.18407702445984\n",
      "Tiempo de predicción: 0.08789730072021484\n"
     ]
    }
   ],
   "source": [
    "lr_train_rmse = round(mean_squared_error(target_train, model_lr.predict(features_train_complete), squared=False),2)\n",
    "lr_valid_rmse = round(mean_squared_error(target_valid,lr_pred, squared=False),2)\n",
    "\n",
    "print('Valor RMSE para el entrenamiento:', lr_train_rmse) \n",
    "print('Valor RMSE para la validation:', lr_valid_rmse)\n",
    "print('Tiempo de entrenamiento:', lr_train_time)\n",
    "print('Tiempo de predicción:', lr_pred_time)"
   ]
  },
  {
   "cell_type": "markdown",
   "metadata": {},
   "source": [
    "*Regresión lineal con uso de Descenso de Gradientes Estocástico*"
   ]
  },
  {
   "cell_type": "code",
   "execution_count": 54,
   "metadata": {},
   "outputs": [],
   "source": [
    "model_sgd = SGDRegressor(max_iter=1000, tol=1e-3, random_state=12345)\n",
    "sgd_train_time, sgd_pred_time, sgd_pred = train_and_pred_time(model_sgd, features_train_complete, target_train,\n",
    "                                                           features_valid_complete)"
   ]
  },
  {
   "cell_type": "code",
   "execution_count": 55,
   "metadata": {},
   "outputs": [
    {
     "name": "stdout",
     "output_type": "stream",
     "text": [
      "Valor RMSE para el entrenamiento: 85674894844.94\n",
      "Valor RMSE para la validation: 69472856038.69\n",
      "Tiempo de entrenamiento: 24.453850746154785\n",
      "Tiempo de predicción: 0.036748647689819336\n"
     ]
    }
   ],
   "source": [
    "sgd_train_rmse = round(mean_squared_error(target_train, model_sgd.predict(features_train_complete), squared=False),2)\n",
    "sgd_valid_rmse = round(mean_squared_error(target_valid,sgd_pred, squared=False),2)\n",
    "\n",
    "print('Valor RMSE para el entrenamiento:',sgd_train_rmse) \n",
    "print('Valor RMSE para la validation:',sgd_valid_rmse) \n",
    "print('Tiempo de entrenamiento:', sgd_train_time)\n",
    "print('Tiempo de predicción:', sgd_pred_time)"
   ]
  },
  {
   "cell_type": "markdown",
   "metadata": {},
   "source": [
    "*Árbol de desición*\n",
    "\n",
    "Se buscan los mejores hiperparámetros con una grilla, y se implementa el modelo con los mejores hiperparámetros encontrados"
   ]
  },
  {
   "cell_type": "code",
   "execution_count": 56,
   "metadata": {},
   "outputs": [
    {
     "name": "stdout",
     "output_type": "stream",
     "text": [
      "Fitting 5 folds for each of 8 candidates, totalling 40 fits\n",
      "CPU times: user 2min 18s, sys: 4.27 s, total: 2min 22s\n",
      "Wall time: 2min 22s\n",
      "\n",
      "Valor RMSE para el entrenamiento: 1171.93\n",
      "Valor RMSE para la validación: 1794.81\n",
      "Tiempo de entrenamiento: 6.150753974914551\n",
      "Tiempo de predicción: 0.06496429443359375\n"
     ]
    }
   ],
   "source": [
    "param_grid = {'max_depth': [1,2,4,6,8,10,15,20]}\n",
    "tree_reg = DecisionTreeRegressor(random_state=12345)\n",
    "grid_search = GridSearchCV(estimator=tree_reg, param_grid=param_grid, cv=5, verbose=True)\n",
    "%time grid_search.fit(features_train_complete, target_train)\n",
    "best_model_tree_reg = grid_search.best_estimator_\n",
    "\n",
    "dtr_train_time, dtr_pred_time, dtr_pred = train_and_pred_time(best_model_tree_reg, features_train_complete, \n",
    "                                                                                   target_train, features_valid_complete)\n",
    "\n",
    "dtr_train_rmse = round(mean_squared_error(target_train, best_model_tree_reg.predict(features_train_complete), \n",
    "                                                 squared=False), 2)\n",
    "dtr_valid_rmse = round(mean_squared_error(target_valid, dtr_pred, squared=False), 2) \n",
    "\n",
    "print('\\nValor RMSE para el entrenamiento:', dtr_train_rmse) \n",
    "print('Valor RMSE para la validación:', dtr_valid_rmse) \n",
    "print('Tiempo de entrenamiento:', dtr_train_time)\n",
    "print('Tiempo de predicción:', dtr_pred_time)"
   ]
  },
  {
   "cell_type": "markdown",
   "metadata": {},
   "source": [
    "*Random Forest*\n",
    "\n",
    "Igualmente aplicamos grilla en la busqueda de los mejores hiperparámetros y se implementan en el modelo"
   ]
  },
  {
   "cell_type": "code",
   "execution_count": 57,
   "metadata": {},
   "outputs": [
    {
     "data": {
      "text/plain": [
       "GridSearchCV(cv=5, estimator=RandomForestRegressor(random_state=12345),\n",
       "             param_grid={'max_depth': [2, 3, 4, 5, 6, 8, 10],\n",
       "                         'max_features': ['sqrt', 'log2'],\n",
       "                         'n_estimators': [1, 2, 3, 4, 6, 8, 10]})"
      ]
     },
     "execution_count": 57,
     "metadata": {},
     "output_type": "execute_result"
    }
   ],
   "source": [
    "model_rfr =RandomForestRegressor(random_state=12345)\n",
    "param_grid = {'n_estimators': [1,2,3,4,6,8,10],'max_features': [ 'sqrt', 'log2'],'max_depth' : [2,3,4,5,6,8,10]}\n",
    "grid_search_rfr = GridSearchCV(estimator = model_rfr, param_grid = param_grid, cv= 5)\n",
    "grid_search_rfr.fit(features_train_complete, target_train)"
   ]
  },
  {
   "cell_type": "code",
   "execution_count": 59,
   "metadata": {},
   "outputs": [
    {
     "name": "stdout",
     "output_type": "stream",
     "text": [
      "Valor RMSE para el entrenamiento: 2766.22\n",
      "Valor RMSE para la validación: 2800.35\n",
      "Tiempo de entrenamiento: 0.881359338760376\n",
      "Tiempo de predicción: 0.0666193962097168\n"
     ]
    }
   ],
   "source": [
    "best_model_rfr = grid_search_rfr.best_estimator_\n",
    "\n",
    "rfr_train_time, rfr_pred_time, rfr_pred = train_and_pred_time(best_model_rfr, features_train_complete, target_train, features_valid_complete)\n",
    "\n",
    "rfr_train_rmse = round(mean_squared_error(target_train, best_model_rfr.predict(features_train_complete), squared=False), 2)\n",
    "rfr_valid_rmse = round(mean_squared_error(target_valid, rfr_pred, squared=False), 2)\n",
    "\n",
    "print('Valor RMSE para el entrenamiento:', rfr_train_rmse) \n",
    "print('Valor RMSE para la validación:', rfr_valid_rmse) \n",
    "print('Tiempo de entrenamiento:', rfr_train_time)\n",
    "print('Tiempo de predicción:', rfr_pred_time)\n"
   ]
  },
  {
   "cell_type": "markdown",
   "metadata": {},
   "source": [
    "*LightGBM*"
   ]
  },
  {
   "cell_type": "code",
   "execution_count": 60,
   "metadata": {},
   "outputs": [],
   "source": [
    "model_ltb1= ltb.LGBMRegressor(boosting_type='gbdt',num_leaves=31, max_depth=-1, learning_rate=0.1, n_estimators=100)\n",
    "\n",
    "ltb_train_time1, ltb_pred_time1, ltb_pred1 = train_and_pred_time(model_ltb1, features_train_complete, target_train,\n",
    "                                                           features_valid_complete)"
   ]
  },
  {
   "cell_type": "code",
   "execution_count": 61,
   "metadata": {},
   "outputs": [
    {
     "name": "stdout",
     "output_type": "stream",
     "text": [
      "Valor RMSE para el entrenamiento: 1634.28\n",
      "Valor RMSE para la validation: 1665.22\n",
      "Tiempo de entrenamiento: 14.267228603363037\n",
      "Tiempo de predicción: 1.0078754425048828\n"
     ]
    }
   ],
   "source": [
    "ltb1_train_rmse = round(mean_squared_error(target_train, model_ltb1.predict(features_train_complete), squared=False), 2)\n",
    "ltb1_valid_rmse = round(mean_squared_error(target_valid, ltb_pred1, squared=False), 2)\n",
    "\n",
    "print('Valor RMSE para el entrenamiento:',ltb1_train_rmse) \n",
    "print('Valor RMSE para la validation:',ltb1_valid_rmse) \n",
    "print('Tiempo de entrenamiento:', ltb_train_time1)\n",
    "print('Tiempo de predicción:', ltb_pred_time1)"
   ]
  },
  {
   "cell_type": "code",
   "execution_count": 62,
   "metadata": {},
   "outputs": [],
   "source": [
    "model_ltb2=ltb.LGBMRegressor(boosting_type='gbdt',num_leaves=20, max_depth=10, learning_rate=0.05, n_estimators=100)\n",
    "\n",
    "ltb_train_time2, ltb_pred_time2, ltb_pred2 = train_and_pred_time(model_ltb2, features_train_complete, target_train,\n",
    "                                                           features_valid_complete)"
   ]
  },
  {
   "cell_type": "code",
   "execution_count": 63,
   "metadata": {},
   "outputs": [
    {
     "name": "stdout",
     "output_type": "stream",
     "text": [
      "Valor RMSE para el entrenamiento: 1780.13\n",
      "Valor RMSE para la validation: 1800.62\n",
      "Tiempo de entrenamiento: 14.393465280532837\n",
      "Tiempo de predicción: 0.816641092300415\n"
     ]
    }
   ],
   "source": [
    "ltb2_train_rmse = round(mean_squared_error(target_train, model_ltb2.predict(features_train_complete), squared=False),2)\n",
    "ltb2_valid_rmse = round(mean_squared_error(target_valid, ltb_pred2, squared=False),2)\n",
    "\n",
    "\n",
    "print('Valor RMSE para el entrenamiento:',ltb2_train_rmse) \n",
    "print('Valor RMSE para la validation:',ltb2_valid_rmse) \n",
    "print('Tiempo de entrenamiento:', ltb_train_time2)\n",
    "print('Tiempo de predicción:', ltb_pred_time2)"
   ]
  },
  {
   "cell_type": "markdown",
   "metadata": {},
   "source": [
    "## Análisis del modelo"
   ]
  },
  {
   "cell_type": "code",
   "execution_count": 64,
   "metadata": {},
   "outputs": [
    {
     "name": "stdout",
     "output_type": "stream",
     "text": [
      "                                Model          RMSE  Training Time  \\\n",
      "0                    Regresión Lineal  2.822190e+03      17.184077   \n",
      "1  Descenso de Gradientes Estocástico  6.947286e+10      24.453851   \n",
      "2                   Árbol de desición  1.794810e+03       6.150754   \n",
      "3                    Bosque Aleatorio  2.800350e+03       0.881359   \n",
      "4                          LightGBM_1  1.665220e+03      14.267229   \n",
      "5                          LightGBM_2  1.800620e+03      14.393465   \n",
      "\n",
      "   Prediction Time  \n",
      "0         0.087897  \n",
      "1         0.036749  \n",
      "2         0.064964  \n",
      "3         0.066619  \n",
      "4         1.007875  \n",
      "5         0.816641  \n"
     ]
    }
   ],
   "source": [
    "model_names = ['Regresión Lineal', 'Descenso de Gradientes Estocástico', 'Árbol de desición', 'Bosque Aleatorio', 'LightGBM_1', 'LightGBM_2']\n",
    "\n",
    "scores = [lr_valid_rmse, sgd_valid_rmse, dtr_valid_rmse, rfr_valid_rmse, ltb1_valid_rmse, ltb2_valid_rmse]\n",
    "training_times = [lr_train_time, sgd_train_time, dtr_train_time, rfr_train_time, ltb_train_time1, ltb_train_time2]\n",
    "prediction_times = [lr_pred_time, sgd_pred_time, dtr_pred_time, rfr_pred_time, ltb_pred_time1, ltb_pred_time2]\n",
    "\n",
    "\n",
    "models_df = pd.DataFrame({\n",
    "    'Model': model_names,\n",
    "    'RMSE': scores,\n",
    "    'Training Time': training_times,\n",
    "    'Prediction Time': prediction_times\n",
    "})\n",
    "\n",
    "print(models_df)\n"
   ]
  },
  {
   "cell_type": "code",
   "execution_count": 68,
   "metadata": {},
   "outputs": [
    {
     "data": {
      "image/png": "[encoded data removed]",
      "text/plain": [
       "<Figure size 864x576 with 3 Axes>"
      ]
     },
     "metadata": {
      "needs_background": "light"
     },
     "output_type": "display_data"
    }
   ],
   "source": [
    "models_sorted_rmse = models_df.sort_values(by='RMSE')\n",
    "models_sorted_training = models_df.sort_values(by='Training Time')\n",
    "models_sorted_prediction = models_df.sort_values(by='Prediction Time')\n",
    "\n",
    "filtered_df_dge = models_df[models_df['Model'] != 'Descenso de Gradientes Estocástico']\n",
    "filtered_sorted_rmse_dge = filtered_df_dge.sort_values(by='RMSE')\n",
    "\n",
    "fig, axs = plt.subplots(1, 3, figsize=(12, 8))\n",
    "fig.suptitle('Comparación de algoritmos de aprendizaje automático', fontsize=15)\n",
    "\n",
    "\n",
    "axs[0].bar(filtered_sorted_rmse_dge['Model'], filtered_sorted_rmse_dge['RMSE'], color='g')\n",
    "axs[0].set_xticks(np.arange(len(filtered_sorted_rmse_dge['Model'])))\n",
    "axs[0].set_xticklabels(filtered_sorted_rmse_dge['Model'], rotation=90)\n",
    "axs[0].set_title('RMSE score')\n",
    "\n",
    "\n",
    "axs[1].bar(models_sorted_training['Model'], models_sorted_training['Training Time'], color='b')\n",
    "axs[1].set_xticks(np.arange(len(models_sorted_training['Model'])))\n",
    "axs[1].set_xticklabels(models_sorted_training['Model'], rotation= 90)\n",
    "axs[1].set_title('Tiempo de entrenamiento')\n",
    "\n",
    "\n",
    "axs[2].bar(models_sorted_prediction['Model'], models_sorted_prediction['Prediction Time'], color='orange')\n",
    "axs[2].set_xticks(np.arange(len(models_sorted_prediction['Model'])))\n",
    "axs[2].set_xticklabels(models_sorted_prediction['Model'], rotation= 90)\n",
    "axs[2].set_title('Tiempo de Predicción')\n",
    "\n",
    "plt.tight_layout()\n",
    "plt.show()"
   ]
  },
  {
   "cell_type": "markdown",
   "metadata": {},
   "source": [
    "# Concluciones"
   ]
  },
  {
   "cell_type": "markdown",
   "metadata": {},
   "source": [
    "Después de la importanción de datos, se procedió a revisar con qué tipo de datos contabamos y a la misma vez, saber que columnas tenian datos nulos. Se siguieron diferentes estrategias para trabajar los datos nulos, desde la eliminación de columnas que no tenian aportación a la inforación de los datos y a la imputación de los datos a travez de modas condiconales.\n",
    "\n",
    "Una vez con los datos limpios se comienza a trabajar en la implementación de modelos, para ello, se uso la técnica de ONE HOT para datos categoricos y StandarScaler para datos númericos.\n",
    "\n",
    "Se procede a trabajar con los modelos:\n",
    "\n",
    "    - Regresión Lineal \n",
    "    - Descenso de Gradientes Estocástico\n",
    "    - Árbol de desición\n",
    "    - Bosque Aleatorio\n",
    "    - LightGBM\n",
    "\n",
    "donde se calculó el Error Cuadrático Medio (RMSE) y los tiempos de entrenamiento y predicción, donde se puede observar los siguiente:\n",
    "\n",
    "Con base a la observación de resultados el modelo LightGBM_1 parece ser la mejor opción para determinar el valor de mercado de los vehículos de los clientes. Este modelo tiene un RMSE bajo, lo que indica que sus predicciones son precisas, su tiempo de predicción se puede considerar y su  tiempo de entrenamiento es aceptable, considerando la precisión y velocidad del modelo.\n",
    "\n",
    "Observaciones del resto de modelos:\n",
    "\n",
    "Regresión Lineal: Este modelo tiene el segundo mejor RMSE, pero su tiempo de predicción es más lento que el de LightGBM_1.\n",
    "Descenso de Gradientes Estocástico: Este modelo tiene un RMSE muy alto, lo que lo hace inadecuado para esta tarea.\n",
    "Árbol de Decisión: Este modelo tiene un RMSE similar al de LightGBM_1, pero su tiempo de predicción es más lento.\n",
    "Bosque Aleatorio: Este modelo tiene un RMSE similar al de LightGBM_1, pero su tiempo de entrenamiento es más lento.\n",
    "\n",
    "De igual manera, se puede analizar los diferentes resultados y elegir el camino que mejor se adapte a las necesidades del cliete final. "
   ]
  }
 ],
 "metadata": {
  "kernelspec": {
   "display_name": "Python 3 (ipykernel)",
   "language": "python",
   "name": "python3"
  },
  "language_info": {
   "codemirror_mode": {
    "name": "ipython",
    "version": 3
   },
   "file_extension": ".py",
   "mimetype": "text/x-python",
   "name": "python",
   "nbconvert_exporter": "python",
   "pygments_lexer": "ipython3",
   "version": "3.9.5"
  },
  "toc": {
   "base_numbering": 1,
   "nav_menu": {},
   "number_sections": true,
   "sideBar": true,
   "skip_h1_title": true,
   "title_cell": "Table of Contents",
   "title_sidebar": "Contents",
   "toc_cell": false,
   "toc_position": {
    "height": "calc(100% - 180px)",
    "left": "10px",
    "top": "150px",
    "width": "165px"
   },
   "toc_section_display": true,
   "toc_window_display": true
  }
 },
 "nbformat": 4,
 "nbformat_minor": 2
}

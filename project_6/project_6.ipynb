{
 "cells": [
  {
   "cell_type": "markdown",
   "metadata": {},
   "source": [
    "# Proyecto Zuber\n",
    "\n",
    "El presente análisis se realiza para la empresa de viajes compartidos llamada Zuber.\n",
    "\n",
    "## Objetivo\n",
    "El objetivo principal es comprender:\n",
    "- Las preferencias de los pasajeros\n",
    "- El impacto de los fatores externos en los viajes\n",
    "\n",
    "Recursos: \n",
    "Se cuenta con la información en 4 diferentes datasets, que son los siguientes:\n",
    "  - trips\n",
    "  - cabs\n",
    "  - neighborhoods\n",
    "  - weather_records\n",
    "\n",
    "También se trabaja con información localizada en un website.\n",
    "\n",
    "Se realiza un analisis trabajando los datos con SQL y se realiza un análisis exploratorio de los datos con Python."
   ]
  },
  {
   "cell_type": "markdown",
   "metadata": {},
   "source": [
    "## Análisis exploratorio con Python\n",
    "\n",
    "    Se trabaja con 3 archivos csv, en 2 de ellos se realiza un análisis cuyos resultados se demostrarán a continuación, y 1 archivo que servirá para realizar una prueba de hipótesis que se explicará más adelante. \n",
    "\n",
    "Se comienza con el análisis exploratorio de datos"
   ]
  },
  {
   "cell_type": "code",
   "execution_count": 1,
   "metadata": {},
   "outputs": [],
   "source": [
    "import pandas as pd\n",
    "import numpy as np\n",
    "from matplotlib import pyplot as plt\n",
    "from scipy import stats as st"
   ]
  },
  {
   "cell_type": "code",
   "execution_count": 2,
   "metadata": {},
   "outputs": [
    {
     "name": "stdout",
     "output_type": "stream",
     "text": [
      "<class 'pandas.core.frame.DataFrame'>\n",
      "RangeIndex: 64 entries, 0 to 63\n",
      "Data columns (total 2 columns):\n",
      " #   Column        Non-Null Count  Dtype \n",
      "---  ------        --------------  ----- \n",
      " 0   company_name  64 non-null     object\n",
      " 1   trips_amount  64 non-null     int64 \n",
      "dtypes: int64(1), object(1)\n",
      "memory usage: 1.1+ KB\n"
     ]
    },
    {
     "data": {
      "text/html": [
       "<div>\n",
       "<style scoped>\n",
       "    .dataframe tbody tr th:only-of-type {\n",
       "        vertical-align: middle;\n",
       "    }\n",
       "\n",
       "    .dataframe tbody tr th {\n",
       "        vertical-align: top;\n",
       "    }\n",
       "\n",
       "    .dataframe thead th {\n",
       "        text-align: right;\n",
       "    }\n",
       "</style>\n",
       "<table border=\"1\" class=\"dataframe\">\n",
       "  <thead>\n",
       "    <tr style=\"text-align: right;\">\n",
       "      <th></th>\n",
       "      <th>company_name</th>\n",
       "      <th>trips_amount</th>\n",
       "    </tr>\n",
       "  </thead>\n",
       "  <tbody>\n",
       "    <tr>\n",
       "      <th>0</th>\n",
       "      <td>Flash Cab</td>\n",
       "      <td>19558</td>\n",
       "    </tr>\n",
       "    <tr>\n",
       "      <th>1</th>\n",
       "      <td>Taxi Affiliation Services</td>\n",
       "      <td>11422</td>\n",
       "    </tr>\n",
       "    <tr>\n",
       "      <th>2</th>\n",
       "      <td>Medallion Leasing</td>\n",
       "      <td>10367</td>\n",
       "    </tr>\n",
       "    <tr>\n",
       "      <th>3</th>\n",
       "      <td>Yellow Cab</td>\n",
       "      <td>9888</td>\n",
       "    </tr>\n",
       "    <tr>\n",
       "      <th>4</th>\n",
       "      <td>Taxi Affiliation Service Yellow</td>\n",
       "      <td>9299</td>\n",
       "    </tr>\n",
       "    <tr>\n",
       "      <th>...</th>\n",
       "      <td>...</td>\n",
       "      <td>...</td>\n",
       "    </tr>\n",
       "    <tr>\n",
       "      <th>59</th>\n",
       "      <td>4053 - 40193 Adwar H. Nikola</td>\n",
       "      <td>7</td>\n",
       "    </tr>\n",
       "    <tr>\n",
       "      <th>60</th>\n",
       "      <td>2733 - 74600 Benny Jona</td>\n",
       "      <td>7</td>\n",
       "    </tr>\n",
       "    <tr>\n",
       "      <th>61</th>\n",
       "      <td>5874 - 73628 Sergey Cab Corp.</td>\n",
       "      <td>5</td>\n",
       "    </tr>\n",
       "    <tr>\n",
       "      <th>62</th>\n",
       "      <td>2241 - 44667 - Felman Corp</td>\n",
       "      <td>3</td>\n",
       "    </tr>\n",
       "    <tr>\n",
       "      <th>63</th>\n",
       "      <td>3556 - 36214 RC Andrews Cab</td>\n",
       "      <td>2</td>\n",
       "    </tr>\n",
       "  </tbody>\n",
       "</table>\n",
       "<p>64 rows × 2 columns</p>\n",
       "</div>"
      ],
      "text/plain": [
       "                       company_name  trips_amount\n",
       "0                         Flash Cab         19558\n",
       "1         Taxi Affiliation Services         11422\n",
       "2                 Medallion Leasing         10367\n",
       "3                        Yellow Cab          9888\n",
       "4   Taxi Affiliation Service Yellow          9299\n",
       "..                              ...           ...\n",
       "59     4053 - 40193 Adwar H. Nikola             7\n",
       "60          2733 - 74600 Benny Jona             7\n",
       "61    5874 - 73628 Sergey Cab Corp.             5\n",
       "62       2241 - 44667 - Felman Corp             3\n",
       "63      3556 - 36214 RC Andrews Cab             2\n",
       "\n",
       "[64 rows x 2 columns]"
      ]
     },
     "metadata": {},
     "output_type": "display_data"
    },
    {
     "name": "stdout",
     "output_type": "stream",
     "text": [
      "       trips_amount\n",
      "count     64.000000\n",
      "mean    2145.484375\n",
      "std     3812.310186\n",
      "min        2.000000\n",
      "25%       20.750000\n",
      "50%      178.500000\n",
      "75%     2106.500000\n",
      "max    19558.000000\n",
      "El número de registros duplicados es de: 0 filas\n",
      "<class 'pandas.core.frame.DataFrame'>\n",
      "RangeIndex: 94 entries, 0 to 93\n",
      "Data columns (total 2 columns):\n",
      " #   Column                 Non-Null Count  Dtype  \n",
      "---  ------                 --------------  -----  \n",
      " 0   dropoff_location_name  94 non-null     object \n",
      " 1   average_trips          94 non-null     float64\n",
      "dtypes: float64(1), object(1)\n",
      "memory usage: 1.6+ KB\n"
     ]
    },
    {
     "data": {
      "text/html": [
       "<div>\n",
       "<style scoped>\n",
       "    .dataframe tbody tr th:only-of-type {\n",
       "        vertical-align: middle;\n",
       "    }\n",
       "\n",
       "    .dataframe tbody tr th {\n",
       "        vertical-align: top;\n",
       "    }\n",
       "\n",
       "    .dataframe thead th {\n",
       "        text-align: right;\n",
       "    }\n",
       "</style>\n",
       "<table border=\"1\" class=\"dataframe\">\n",
       "  <thead>\n",
       "    <tr style=\"text-align: right;\">\n",
       "      <th></th>\n",
       "      <th>dropoff_location_name</th>\n",
       "      <th>average_trips</th>\n",
       "    </tr>\n",
       "  </thead>\n",
       "  <tbody>\n",
       "    <tr>\n",
       "      <th>0</th>\n",
       "      <td>Loop</td>\n",
       "      <td>10727.466667</td>\n",
       "    </tr>\n",
       "    <tr>\n",
       "      <th>1</th>\n",
       "      <td>River North</td>\n",
       "      <td>9523.666667</td>\n",
       "    </tr>\n",
       "    <tr>\n",
       "      <th>2</th>\n",
       "      <td>Streeterville</td>\n",
       "      <td>6664.666667</td>\n",
       "    </tr>\n",
       "    <tr>\n",
       "      <th>3</th>\n",
       "      <td>West Loop</td>\n",
       "      <td>5163.666667</td>\n",
       "    </tr>\n",
       "    <tr>\n",
       "      <th>4</th>\n",
       "      <td>O'Hare</td>\n",
       "      <td>2546.900000</td>\n",
       "    </tr>\n",
       "    <tr>\n",
       "      <th>...</th>\n",
       "      <td>...</td>\n",
       "      <td>...</td>\n",
       "    </tr>\n",
       "    <tr>\n",
       "      <th>89</th>\n",
       "      <td>Mount Greenwood</td>\n",
       "      <td>3.137931</td>\n",
       "    </tr>\n",
       "    <tr>\n",
       "      <th>90</th>\n",
       "      <td>Hegewisch</td>\n",
       "      <td>3.117647</td>\n",
       "    </tr>\n",
       "    <tr>\n",
       "      <th>91</th>\n",
       "      <td>Burnside</td>\n",
       "      <td>2.333333</td>\n",
       "    </tr>\n",
       "    <tr>\n",
       "      <th>92</th>\n",
       "      <td>East Side</td>\n",
       "      <td>1.961538</td>\n",
       "    </tr>\n",
       "    <tr>\n",
       "      <th>93</th>\n",
       "      <td>Riverdale</td>\n",
       "      <td>1.800000</td>\n",
       "    </tr>\n",
       "  </tbody>\n",
       "</table>\n",
       "<p>94 rows × 2 columns</p>\n",
       "</div>"
      ],
      "text/plain": [
       "   dropoff_location_name  average_trips\n",
       "0                   Loop   10727.466667\n",
       "1            River North    9523.666667\n",
       "2          Streeterville    6664.666667\n",
       "3              West Loop    5163.666667\n",
       "4                 O'Hare    2546.900000\n",
       "..                   ...            ...\n",
       "89       Mount Greenwood       3.137931\n",
       "90             Hegewisch       3.117647\n",
       "91              Burnside       2.333333\n",
       "92             East Side       1.961538\n",
       "93             Riverdale       1.800000\n",
       "\n",
       "[94 rows x 2 columns]"
      ]
     },
     "metadata": {},
     "output_type": "display_data"
    },
    {
     "name": "stdout",
     "output_type": "stream",
     "text": [
      "       average_trips\n",
      "count      94.000000\n",
      "mean      599.953728\n",
      "std      1714.591098\n",
      "min         1.800000\n",
      "25%        14.266667\n",
      "50%        52.016667\n",
      "75%       298.858333\n",
      "max     10727.466667\n",
      "El número de registros duplicados es de: 0 filas\n"
     ]
    }
   ],
   "source": [
    "df_company = pd.read_csv('/datasets/project_sql_result_01.csv')\n",
    "df_trips = pd.read_csv('/datasets/project_sql_result_04.csv')\n",
    "\n",
    "df_company.info()\n",
    "display(df_company)\n",
    "print(df_company.describe())\n",
    "print('El número de registros duplicados es de:' , df_company.duplicated().sum() ,'filas')\n",
    "\n",
    "df_trips.info()\n",
    "display(df_trips)\n",
    "print(df_trips.describe())\n",
    "print('El número de registros duplicados es de:' , df_trips.duplicated().sum() ,'filas')"
   ]
  },
  {
   "cell_type": "markdown",
   "metadata": {},
   "source": [
    "### Primeras Observaciones\n",
    "\n",
    "El primer Dataframe al que he llamado 'df_company' el dataset presenta las siguientes características:\n",
    "  - Registros     64\n",
    "  - Filas         63\n",
    "  - Columnas          2\n",
    "      - Columnas tipo:\n",
    "        - object: debido a que tenemos nombres de compañias\n",
    "        - int64: debido a que tenemos el numero de viajes por compañia \n",
    "  - Columnas sin datos nulos\n",
    "  - No hay filas duplicadas\n",
    "\n",
    "Resalto que en la columna de 'company_name' hay algunos nombres de compañias que comienzan con números.\n",
    "\n",
    "El segundo Dataframe al que he llamado 'df_trips' el dataset presenta las siguientes características:\n",
    "  - Registros     94\n",
    "  - Filas         93\n",
    "  - Columnas          2\n",
    "      - Columnas tipo:\n",
    "        - object: debido a que tenemos nombres de la zona donde el cliente fue dejado \n",
    "        - float64: debido a que tenemos el numero promedio de viajes cuyo drop off es la zona determinada por la columna anterior \n",
    "  - Columnas sin datos nulos\n",
    "  - No hay filas duplicadas\n",
    "\n",
    "Por ultimo, se verifica si existen nombres de compañias o zonas que se encuentren duplicadas."
   ]
  },
  {
   "cell_type": "code",
   "execution_count": 3,
   "metadata": {},
   "outputs": [
    {
     "name": "stdout",
     "output_type": "stream",
     "text": [
      "El número de nombres de compañias duplicados es de: 0\n",
      "El número de nombres de zonas duplicadas es de: 0\n"
     ]
    }
   ],
   "source": [
    "print('El número de nombres de compañias duplicados es de:', df_company['company_name'].duplicated().sum())\n",
    "print('El número de nombres de zonas duplicadas es de:', df_trips['dropoff_location_name'].duplicated().sum())"
   ]
  },
  {
   "cell_type": "markdown",
   "metadata": {},
   "source": [
    "Se verifica que no hay duplicados en los registros de ambos datasets, por lo que podemos confiar en trabajar con estos archivos.\n",
    "\n",
    "Podemos continuar con el análisis de los datos, debido a que la información de los datasets no requiere ningun tipo de ajuste."
   ]
  },
  {
   "cell_type": "markdown",
   "metadata": {},
   "source": [
    "## Análisis de datos\n",
    "\n",
    "A continuación se muestran los 10 principales barrios en términos de finalización del recorrido\n",
    "\n",
    "### 10 principales barrios"
   ]
  },
  {
   "cell_type": "code",
   "execution_count": 4,
   "metadata": {},
   "outputs": [
    {
     "name": "stdout",
     "output_type": "stream",
     "text": [
      "  dropoff_location_name  average_trips\n",
      "0                  Loop   10727.466667\n",
      "1           River North    9523.666667\n",
      "2         Streeterville    6664.666667\n",
      "3             West Loop    5163.666667\n",
      "4                O'Hare    2546.900000\n",
      "5             Lake View    2420.966667\n",
      "6            Grant Park    2068.533333\n",
      "7         Museum Campus    1510.000000\n",
      "8            Gold Coast    1364.233333\n",
      "9    Sheffield & DePaul    1259.766667\n"
     ]
    }
   ],
   "source": [
    "df_trips_sorted = df_trips.sort_values(by='average_trips', ascending=False)\n",
    "print(df_trips_sorted.head(10))"
   ]
  },
  {
   "cell_type": "markdown",
   "metadata": {},
   "source": [
    "Se observa que la mayoría de los drop off se realizan en el barrio de Loop, seguido de River North. \n",
    "\n",
    "### Diferencias Porcentuales\n",
    "\n",
    "Se agregarán 2 columnas que demuestren la diferencia % entre los datos del barrio más solicitado contra los demás barrios para poder visualizar mejor la diferencia. Además de agregar otra columan donde podamos observar el % de diferencia entre promedio de viajes entre el barrio y el inmediato anterior."
   ]
  },
  {
   "cell_type": "code",
   "execution_count": 5,
   "metadata": {},
   "outputs": [
    {
     "data": {
      "text/html": [
       "<div>\n",
       "<style scoped>\n",
       "    .dataframe tbody tr th:only-of-type {\n",
       "        vertical-align: middle;\n",
       "    }\n",
       "\n",
       "    .dataframe tbody tr th {\n",
       "        vertical-align: top;\n",
       "    }\n",
       "\n",
       "    .dataframe thead th {\n",
       "        text-align: right;\n",
       "    }\n",
       "</style>\n",
       "<table border=\"1\" class=\"dataframe\">\n",
       "  <thead>\n",
       "    <tr style=\"text-align: right;\">\n",
       "      <th></th>\n",
       "      <th>dropoff_location_name</th>\n",
       "      <th>average_trips</th>\n",
       "      <th>diff_percent</th>\n",
       "      <th>popular_vs_rest_percent</th>\n",
       "    </tr>\n",
       "  </thead>\n",
       "  <tbody>\n",
       "    <tr>\n",
       "      <th>0</th>\n",
       "      <td>Loop</td>\n",
       "      <td>10727.466667</td>\n",
       "      <td>NaN</td>\n",
       "      <td>0.000000</td>\n",
       "    </tr>\n",
       "    <tr>\n",
       "      <th>1</th>\n",
       "      <td>River North</td>\n",
       "      <td>9523.666667</td>\n",
       "      <td>-11.221662</td>\n",
       "      <td>-11.221662</td>\n",
       "    </tr>\n",
       "    <tr>\n",
       "      <th>2</th>\n",
       "      <td>Streeterville</td>\n",
       "      <td>6664.666667</td>\n",
       "      <td>-30.019950</td>\n",
       "      <td>-37.872875</td>\n",
       "    </tr>\n",
       "    <tr>\n",
       "      <th>3</th>\n",
       "      <td>West Loop</td>\n",
       "      <td>5163.666667</td>\n",
       "      <td>-22.521757</td>\n",
       "      <td>-51.864995</td>\n",
       "    </tr>\n",
       "    <tr>\n",
       "      <th>4</th>\n",
       "      <td>O'Hare</td>\n",
       "      <td>2546.900000</td>\n",
       "      <td>-50.676522</td>\n",
       "      <td>-76.258141</td>\n",
       "    </tr>\n",
       "    <tr>\n",
       "      <th>5</th>\n",
       "      <td>Lake View</td>\n",
       "      <td>2420.966667</td>\n",
       "      <td>-4.944573</td>\n",
       "      <td>-77.432075</td>\n",
       "    </tr>\n",
       "    <tr>\n",
       "      <th>6</th>\n",
       "      <td>Grant Park</td>\n",
       "      <td>2068.533333</td>\n",
       "      <td>-14.557546</td>\n",
       "      <td>-80.717411</td>\n",
       "    </tr>\n",
       "    <tr>\n",
       "      <th>7</th>\n",
       "      <td>Museum Campus</td>\n",
       "      <td>1510.000000</td>\n",
       "      <td>-27.001418</td>\n",
       "      <td>-85.923983</td>\n",
       "    </tr>\n",
       "    <tr>\n",
       "      <th>8</th>\n",
       "      <td>Gold Coast</td>\n",
       "      <td>1364.233333</td>\n",
       "      <td>-9.653422</td>\n",
       "      <td>-87.282801</td>\n",
       "    </tr>\n",
       "    <tr>\n",
       "      <th>9</th>\n",
       "      <td>Sheffield &amp; DePaul</td>\n",
       "      <td>1259.766667</td>\n",
       "      <td>-7.657537</td>\n",
       "      <td>-88.256625</td>\n",
       "    </tr>\n",
       "  </tbody>\n",
       "</table>\n",
       "</div>"
      ],
      "text/plain": [
       "  dropoff_location_name  average_trips  diff_percent  popular_vs_rest_percent\n",
       "0                  Loop   10727.466667           NaN                 0.000000\n",
       "1           River North    9523.666667    -11.221662               -11.221662\n",
       "2         Streeterville    6664.666667    -30.019950               -37.872875\n",
       "3             West Loop    5163.666667    -22.521757               -51.864995\n",
       "4                O'Hare    2546.900000    -50.676522               -76.258141\n",
       "5             Lake View    2420.966667     -4.944573               -77.432075\n",
       "6            Grant Park    2068.533333    -14.557546               -80.717411\n",
       "7         Museum Campus    1510.000000    -27.001418               -85.923983\n",
       "8            Gold Coast    1364.233333     -9.653422               -87.282801\n",
       "9    Sheffield & DePaul    1259.766667     -7.657537               -88.256625"
      ]
     },
     "metadata": {},
     "output_type": "display_data"
    }
   ],
   "source": [
    "df_trips_sorted['diff_percent'] = df_trips_sorted['average_trips'].pct_change() * 100\n",
    "df_trips_sorted['popular_vs_rest_percent'] = ((df_trips_sorted['average_trips'] - df_trips_sorted['average_trips'].iloc[0]) / df_trips_sorted['average_trips'].iloc[0]) * 100\n",
    "\n",
    "df_trips_sorted_10 = df_trips_sorted.head(10)\n",
    "\n",
    "display(df_trips_sorted_10)"
   ]
  },
  {
   "cell_type": "markdown",
   "metadata": {},
   "source": [
    "De entre los primeros 10 barrios más populares podemos que ver la diferencias de su promedio de viajes es muy variante, siendo relativamente más alto, entre más cerca están del top 5.\n",
    "\n",
    "La diferencia porcentual entre el barrio en 10° lugar y el 1° lugar es del 88.25%, lo que nos indica que la mayor cuota de mercado se manejará en los primeros barrios de este listado, inclusive podríamos indicar que el top 4 son lás áreas más preferidas por los usuarios. "
   ]
  },
  {
   "cell_type": "markdown",
   "metadata": {},
   "source": [
    "### Gráficos\n",
    "\n",
    "Se presentan algunos gráficos para una mejor comprensión y visualización de los datos."
   ]
  },
  {
   "cell_type": "code",
   "execution_count": 6,
   "metadata": {},
   "outputs": [
    {
     "data": {
      "image/png": "[encoded data removed]",
      "text/plain": [
       "<Figure size 864x432 with 1 Axes>"
      ]
     },
     "metadata": {
      "needs_background": "light"
     },
     "output_type": "display_data"
    }
   ],
   "source": [
    "plt.figure(figsize=(12, 6))\n",
    "plt.bar(df_trips_sorted_10['dropoff_location_name'], df_trips_sorted_10['average_trips'])\n",
    "plt.xlabel('Neighborhood')\n",
    "plt.ylabel('Average trips')\n",
    "plt.title('Average trips by location')\n",
    "plt.xticks(rotation=90)\n",
    "\n",
    "plt.show()"
   ]
  },
  {
   "cell_type": "markdown",
   "metadata": {},
   "source": [
    "EL objetivo de estos gráficos, es el observar el comportamiento del promedio de los viajes por zona. Se muestra el top 10 de destinos por zona de drop off."
   ]
  },
  {
   "cell_type": "code",
   "execution_count": 7,
   "metadata": {},
   "outputs": [
    {
     "data": {
      "image/png": "[encoded data removed]",
      "text/plain": [
       "<Figure size 864x432 with 1 Axes>"
      ]
     },
     "metadata": {
      "needs_background": "light"
     },
     "output_type": "display_data"
    }
   ],
   "source": [
    "plt.figure(figsize=(12, 6))\n",
    "plt.barh(df_trips_sorted_10['dropoff_location_name'], df_trips_sorted_10['average_trips'])\n",
    "plt.ylabel('Neighborhood')\n",
    "plt.xlabel('Average trips')\n",
    "plt.title('Average trips by location')\n",
    "plt.xticks(rotation=0)\n",
    "\n",
    "plt.show()"
   ]
  },
  {
   "cell_type": "markdown",
   "metadata": {},
   "source": [
    "Con respecto al promedio de viajes por destino, vemos a los primeros 4 destinos separarse del resto de los barrios representados en la gráfica. Indicando así que la mayor parte de los viajes, incluso en el top 10, podría llevarse en el top 4."
   ]
  },
  {
   "cell_type": "code",
   "execution_count": 8,
   "metadata": {},
   "outputs": [
    {
     "data": {
      "image/png": "[encoded data removed]",
      "text/plain": [
       "<Figure size 720x432 with 1 Axes>"
      ]
     },
     "metadata": {
      "needs_background": "light"
     },
     "output_type": "display_data"
    }
   ],
   "source": [
    "plt.figure(figsize=(10, 6))\n",
    "plt.bar(df_trips_sorted_10['dropoff_location_name'], df_trips_sorted_10['diff_percent'], label='percentage difference vs preceding', color = 'blue')\n",
    "plt.bar(df_trips_sorted_10['dropoff_location_name'], df_trips_sorted_10['popular_vs_rest_percent'], label='popular vs the rest', alpha=0.5)\n",
    "plt.xlabel('Neighborhood')\n",
    "plt.ylabel('Percentage')\n",
    "plt.title('Percentage differences between registers by neighborhood')\n",
    "plt.legend()\n",
    "plt.xticks(rotation=45)\n",
    "plt.show()"
   ]
  },
  {
   "cell_type": "markdown",
   "metadata": {},
   "source": [
    "Y confirmamos con este gráfico, que hay una disminución considerable de viajes a partir del registro numero 5, que en este caso es el barrio de O'Hare, barrio que muestra un alto porcentaje de diferencia de viajes ante el barrio anterior más próximo. De igual manera, la diferencia de viajes promedio entre Loop, que es el barrio más popular para drop off, y O'Hare se dispara y se mantiene por una leve diferencia con respecto al resto de los barrios que le suceden. \n",
    "Por último, el tercer barrio Streeterville, es el primero que tiene una diferencia considerable entre su anterior inmediato y el promedio de viajes de Loop. "
   ]
  },
  {
   "cell_type": "markdown",
   "metadata": {},
   "source": [
    "## Prueba de Hipótesis\n",
    "\n",
    "Zuber quiere saber si la duración promedio de los viajes desde el Loop hasta el Aeropuerto Internacional O'Hare cambia los sábados lluviosos.\n",
    "\n",
    "Se me ha proporcionado un dataset que contine la duración primedio de los viajes desde el Loop hasta el Aeropuerto Internacional O'Hare, unicamente los datos que corresponden a los Sábados. \n",
    "\n",
    "Se revisan los datos y se toman las acciones pertinentes para dejar los datos listos para su análisis. "
   ]
  },
  {
   "cell_type": "code",
   "execution_count": 9,
   "metadata": {},
   "outputs": [
    {
     "name": "stdout",
     "output_type": "stream",
     "text": [
      "<class 'pandas.core.frame.DataFrame'>\n",
      "RangeIndex: 1068 entries, 0 to 1067\n",
      "Data columns (total 3 columns):\n",
      " #   Column              Non-Null Count  Dtype  \n",
      "---  ------              --------------  -----  \n",
      " 0   start_ts            1068 non-null   object \n",
      " 1   weather_conditions  1068 non-null   object \n",
      " 2   duration_seconds    1068 non-null   float64\n",
      "dtypes: float64(1), object(2)\n",
      "memory usage: 25.2+ KB\n"
     ]
    },
    {
     "data": {
      "text/html": [
       "<div>\n",
       "<style scoped>\n",
       "    .dataframe tbody tr th:only-of-type {\n",
       "        vertical-align: middle;\n",
       "    }\n",
       "\n",
       "    .dataframe tbody tr th {\n",
       "        vertical-align: top;\n",
       "    }\n",
       "\n",
       "    .dataframe thead th {\n",
       "        text-align: right;\n",
       "    }\n",
       "</style>\n",
       "<table border=\"1\" class=\"dataframe\">\n",
       "  <thead>\n",
       "    <tr style=\"text-align: right;\">\n",
       "      <th></th>\n",
       "      <th>start_ts</th>\n",
       "      <th>weather_conditions</th>\n",
       "      <th>duration_seconds</th>\n",
       "    </tr>\n",
       "  </thead>\n",
       "  <tbody>\n",
       "    <tr>\n",
       "      <th>0</th>\n",
       "      <td>2017-11-25 16:00:00</td>\n",
       "      <td>Good</td>\n",
       "      <td>2410.0</td>\n",
       "    </tr>\n",
       "    <tr>\n",
       "      <th>1</th>\n",
       "      <td>2017-11-25 14:00:00</td>\n",
       "      <td>Good</td>\n",
       "      <td>1920.0</td>\n",
       "    </tr>\n",
       "    <tr>\n",
       "      <th>2</th>\n",
       "      <td>2017-11-25 12:00:00</td>\n",
       "      <td>Good</td>\n",
       "      <td>1543.0</td>\n",
       "    </tr>\n",
       "    <tr>\n",
       "      <th>3</th>\n",
       "      <td>2017-11-04 10:00:00</td>\n",
       "      <td>Good</td>\n",
       "      <td>2512.0</td>\n",
       "    </tr>\n",
       "    <tr>\n",
       "      <th>4</th>\n",
       "      <td>2017-11-11 07:00:00</td>\n",
       "      <td>Good</td>\n",
       "      <td>1440.0</td>\n",
       "    </tr>\n",
       "    <tr>\n",
       "      <th>...</th>\n",
       "      <td>...</td>\n",
       "      <td>...</td>\n",
       "      <td>...</td>\n",
       "    </tr>\n",
       "    <tr>\n",
       "      <th>1063</th>\n",
       "      <td>2017-11-25 11:00:00</td>\n",
       "      <td>Good</td>\n",
       "      <td>0.0</td>\n",
       "    </tr>\n",
       "    <tr>\n",
       "      <th>1064</th>\n",
       "      <td>2017-11-11 10:00:00</td>\n",
       "      <td>Good</td>\n",
       "      <td>1318.0</td>\n",
       "    </tr>\n",
       "    <tr>\n",
       "      <th>1065</th>\n",
       "      <td>2017-11-11 13:00:00</td>\n",
       "      <td>Good</td>\n",
       "      <td>2100.0</td>\n",
       "    </tr>\n",
       "    <tr>\n",
       "      <th>1066</th>\n",
       "      <td>2017-11-11 08:00:00</td>\n",
       "      <td>Good</td>\n",
       "      <td>1380.0</td>\n",
       "    </tr>\n",
       "    <tr>\n",
       "      <th>1067</th>\n",
       "      <td>2017-11-04 16:00:00</td>\n",
       "      <td>Bad</td>\n",
       "      <td>2834.0</td>\n",
       "    </tr>\n",
       "  </tbody>\n",
       "</table>\n",
       "<p>1068 rows × 3 columns</p>\n",
       "</div>"
      ],
      "text/plain": [
       "                 start_ts weather_conditions  duration_seconds\n",
       "0     2017-11-25 16:00:00               Good            2410.0\n",
       "1     2017-11-25 14:00:00               Good            1920.0\n",
       "2     2017-11-25 12:00:00               Good            1543.0\n",
       "3     2017-11-04 10:00:00               Good            2512.0\n",
       "4     2017-11-11 07:00:00               Good            1440.0\n",
       "...                   ...                ...               ...\n",
       "1063  2017-11-25 11:00:00               Good               0.0\n",
       "1064  2017-11-11 10:00:00               Good            1318.0\n",
       "1065  2017-11-11 13:00:00               Good            2100.0\n",
       "1066  2017-11-11 08:00:00               Good            1380.0\n",
       "1067  2017-11-04 16:00:00                Bad            2834.0\n",
       "\n",
       "[1068 rows x 3 columns]"
      ]
     },
     "metadata": {},
     "output_type": "display_data"
    },
    {
     "name": "stdout",
     "output_type": "stream",
     "text": [
      "       duration_seconds\n",
      "count       1068.000000\n",
      "mean        2071.731273\n",
      "std          769.461125\n",
      "min            0.000000\n",
      "25%         1438.250000\n",
      "50%         1980.000000\n",
      "75%         2580.000000\n",
      "max         7440.000000\n",
      "El numéro de filas duplicadas es de:  197 filas\n"
     ]
    }
   ],
   "source": [
    "df = pd.read_csv('/datasets/project_sql_result_07.csv')\n",
    "\n",
    "df.info()\n",
    "display(df)\n",
    "print(df.describe())\n",
    "print('El numéro de filas duplicadas es de: ', df.duplicated().sum(), 'filas')"
   ]
  },
  {
   "cell_type": "markdown",
   "metadata": {},
   "source": [
    "Revisando los datos, se encuentra que hay 197 filas duplicadas. Se podría comprender fecha, hora y estado de clima sean los mismos, no sería raro, pero que la duración del viaje sea exactamente igual, y más cuando hablamos en segundos no parece ser una casualidad. Parece que efectivamente tenemos filas duplicadas. Por esta razón, se decide eliminar los duplicados."
   ]
  },
  {
   "cell_type": "code",
   "execution_count": 10,
   "metadata": {},
   "outputs": [
    {
     "name": "stdout",
     "output_type": "stream",
     "text": [
      "<class 'pandas.core.frame.DataFrame'>\n",
      "Int64Index: 871 entries, 0 to 1067\n",
      "Data columns (total 3 columns):\n",
      " #   Column              Non-Null Count  Dtype  \n",
      "---  ------              --------------  -----  \n",
      " 0   start_ts            871 non-null    object \n",
      " 1   weather_conditions  871 non-null    object \n",
      " 2   duration_seconds    871 non-null    float64\n",
      "dtypes: float64(1), object(2)\n",
      "memory usage: 27.2+ KB\n",
      "['Good' 'Bad']\n"
     ]
    },
    {
     "data": {
      "text/html": [
       "<div>\n",
       "<style scoped>\n",
       "    .dataframe tbody tr th:only-of-type {\n",
       "        vertical-align: middle;\n",
       "    }\n",
       "\n",
       "    .dataframe tbody tr th {\n",
       "        vertical-align: top;\n",
       "    }\n",
       "\n",
       "    .dataframe thead th {\n",
       "        text-align: right;\n",
       "    }\n",
       "</style>\n",
       "<table border=\"1\" class=\"dataframe\">\n",
       "  <thead>\n",
       "    <tr style=\"text-align: right;\">\n",
       "      <th></th>\n",
       "      <th>start_ts</th>\n",
       "      <th>weather_conditions</th>\n",
       "      <th>duration_seconds</th>\n",
       "    </tr>\n",
       "  </thead>\n",
       "  <tbody>\n",
       "    <tr>\n",
       "      <th>0</th>\n",
       "      <td>2017-11-25 16:00:00</td>\n",
       "      <td>Good</td>\n",
       "      <td>2410.0</td>\n",
       "    </tr>\n",
       "    <tr>\n",
       "      <th>1</th>\n",
       "      <td>2017-11-25 14:00:00</td>\n",
       "      <td>Good</td>\n",
       "      <td>1920.0</td>\n",
       "    </tr>\n",
       "    <tr>\n",
       "      <th>2</th>\n",
       "      <td>2017-11-25 12:00:00</td>\n",
       "      <td>Good</td>\n",
       "      <td>1543.0</td>\n",
       "    </tr>\n",
       "    <tr>\n",
       "      <th>3</th>\n",
       "      <td>2017-11-04 10:00:00</td>\n",
       "      <td>Good</td>\n",
       "      <td>2512.0</td>\n",
       "    </tr>\n",
       "    <tr>\n",
       "      <th>4</th>\n",
       "      <td>2017-11-11 07:00:00</td>\n",
       "      <td>Good</td>\n",
       "      <td>1440.0</td>\n",
       "    </tr>\n",
       "    <tr>\n",
       "      <th>...</th>\n",
       "      <td>...</td>\n",
       "      <td>...</td>\n",
       "      <td>...</td>\n",
       "    </tr>\n",
       "    <tr>\n",
       "      <th>1060</th>\n",
       "      <td>2017-11-04 14:00:00</td>\n",
       "      <td>Good</td>\n",
       "      <td>2700.0</td>\n",
       "    </tr>\n",
       "    <tr>\n",
       "      <th>1061</th>\n",
       "      <td>2017-11-18 16:00:00</td>\n",
       "      <td>Bad</td>\n",
       "      <td>2186.0</td>\n",
       "    </tr>\n",
       "    <tr>\n",
       "      <th>1063</th>\n",
       "      <td>2017-11-25 11:00:00</td>\n",
       "      <td>Good</td>\n",
       "      <td>0.0</td>\n",
       "    </tr>\n",
       "    <tr>\n",
       "      <th>1064</th>\n",
       "      <td>2017-11-11 10:00:00</td>\n",
       "      <td>Good</td>\n",
       "      <td>1318.0</td>\n",
       "    </tr>\n",
       "    <tr>\n",
       "      <th>1067</th>\n",
       "      <td>2017-11-04 16:00:00</td>\n",
       "      <td>Bad</td>\n",
       "      <td>2834.0</td>\n",
       "    </tr>\n",
       "  </tbody>\n",
       "</table>\n",
       "<p>871 rows × 3 columns</p>\n",
       "</div>"
      ],
      "text/plain": [
       "                 start_ts weather_conditions  duration_seconds\n",
       "0     2017-11-25 16:00:00               Good            2410.0\n",
       "1     2017-11-25 14:00:00               Good            1920.0\n",
       "2     2017-11-25 12:00:00               Good            1543.0\n",
       "3     2017-11-04 10:00:00               Good            2512.0\n",
       "4     2017-11-11 07:00:00               Good            1440.0\n",
       "...                   ...                ...               ...\n",
       "1060  2017-11-04 14:00:00               Good            2700.0\n",
       "1061  2017-11-18 16:00:00                Bad            2186.0\n",
       "1063  2017-11-25 11:00:00               Good               0.0\n",
       "1064  2017-11-11 10:00:00               Good            1318.0\n",
       "1067  2017-11-04 16:00:00                Bad            2834.0\n",
       "\n",
       "[871 rows x 3 columns]"
      ]
     },
     "metadata": {},
     "output_type": "display_data"
    }
   ],
   "source": [
    "df_no_duplicates = df.drop_duplicates()\n",
    "df_no_duplicates.info()\n",
    "print(df_no_duplicates['weather_conditions'].unique())\n",
    "display(df_no_duplicates)\n"
   ]
  },
  {
   "cell_type": "markdown",
   "metadata": {},
   "source": [
    "Ahora con los datos ya listos, podemos comenzar. Se declaran las hipótesis:\n",
    "\n",
    "Hipótesis nula (H0): \"La duración promedio de los viajes desde el Loop hasta el Aeropuerto Internacional O'Hare NO cambia los sábados lluviosos\". \n",
    "\n",
    "Hipótesis alternativa (H1): \"La duración promedio de los viajes desde el Loop hasta el Aeropuerto Internacional O'Hare CAMBIA los sábados lluviosos\".\n",
    "\n",
    "Como recordatorio, nuestro documenta cuenta con la siguiente información:\n",
    "-   contiene los datos de los viajes de Loop hasta el Aeropuerto Internacional O'Hare del día sábado\n",
    "-   Hay una columan que indica si el día era 'Good' que indica que era un buen día, y que indica 'bad' que indica que era un día con mal clima, en este caso, lluvioso\n",
    "-   Hay una columan que indica la duración de cada viaje, marcado en segundos\n",
    "\n",
    "Con esto, lo que realizaremos será tener 2 dataset, haciendo una separación por estado del clima con el objetivo de revisar el promedio de viajes en el tramo referido dependiendo sí el clima es lluvioso o no. \n",
    "\n",
    "Declararé el nivel de alpha en 0.05, pues debido a la naturaleza del análisis, no parece necesario disminuir el nivel de precisión. Se realizará un prueba de Levene para determina la diferencia de varianzas, que nos ayudará a determinar si son iguales o no para la prueba de hipótesis.\n",
    "\n",
    "### Prueba de Levene"
   ]
  },
  {
   "cell_type": "code",
   "execution_count": 11,
   "metadata": {},
   "outputs": [
    {
     "name": "stdout",
     "output_type": "stream",
     "text": [
      "Se acepta la hipótesis nula: las varianzas de la duración de los viajes no son significativamente diferentes\n"
     ]
    }
   ],
   "source": [
    "df_good_weather = df_no_duplicates[df_no_duplicates['weather_conditions'] == 'Good']['duration_seconds']\n",
    "df_bad_weather = df_no_duplicates[df_no_duplicates['weather_conditions'] == 'Bad']['duration_seconds']\n",
    "\n",
    "levene_test = st.levene(df_good_weather,df_bad_weather)\n",
    "alpha_levene_test = 0.05\n",
    "\n",
    "if (levene_test.pvalue < alpha_levene_test):\n",
    "    print('Se rechaza la hipótesis nula: las varianzas de la duración de los viajes son significativamente diferentes')\n",
    "else:\n",
    "    print('Se acepta la hipótesis nula: las varianzas de la duración de los viajes no son significativamente diferentes')\n"
   ]
  },
  {
   "cell_type": "markdown",
   "metadata": {},
   "source": [
    "### T-test"
   ]
  },
  {
   "cell_type": "code",
   "execution_count": 12,
   "metadata": {},
   "outputs": [
    {
     "name": "stdout",
     "output_type": "stream",
     "text": [
      "Se rechaza la hipótesis nula, hay evidencia suficiente para concluir que la duración promedio de los viajes desde el Loop hasta el Aeropuerto Internacional O'Hare ES DIFERENTE los sábados lluviosos\n"
     ]
    }
   ],
   "source": [
    "hypothesis_results = st.ttest_ind(df_good_weather,df_bad_weather,equal_var=True)\n",
    " \n",
    "alpha_ttest = 0.05\n",
    "\n",
    "if(hypothesis_results.pvalue < alpha_ttest):\n",
    "    print('Se rechaza la hipótesis nula, hay evidencia suficiente para concluir que la duración promedio de los viajes desde el Loop hasta el Aeropuerto Internacional O\\'Hare ES DIFERENTE los sábados lluviosos')\n",
    "else:\n",
    "    print('Se acepta la hipótesis nula, No hay diferencia significativa entre los viajes desde el Loop hasta el Aeropuerto Internacional O\\'Hare entre días lluviosos y no lluviosos')"
   ]
  },
  {
   "cell_type": "markdown",
   "metadata": {},
   "source": [
    "Después de la prueba de hipótesis, podemos indicar que efectivamente el clima es una factor que determina la duración de los viajes para los días sábados en el tramo que comprende el barrio de Loop hacia el Aeropuerto Internacional O'Hare."
   ]
  }
 ],
 "metadata": {
  "kernelspec": {
   "display_name": "Python 3 (ipykernel)",
   "language": "python",
   "name": "python3"
  },
  "language_info": {
   "codemirror_mode": {
    "name": "ipython",
    "version": 3
   },
   "file_extension": ".py",
   "mimetype": "text/x-python",
   "name": "python",
   "nbconvert_exporter": "python",
   "pygments_lexer": "ipython3",
   "version": "3.9.5"
  },
  "toc": {
   "base_numbering": 1,
   "nav_menu": {},
   "number_sections": true,
   "sideBar": true,
   "skip_h1_title": true,
   "title_cell": "Table of Contents",
   "title_sidebar": "Contents",
   "toc_cell": false,
   "toc_position": {},
   "toc_section_display": true,
   "toc_window_display": true
  }
 },
 "nbformat": 4,
 "nbformat_minor": 2
}

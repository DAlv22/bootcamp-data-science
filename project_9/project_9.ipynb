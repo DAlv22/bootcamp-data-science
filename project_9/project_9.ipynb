{
 "cells": [
  {
   "cell_type": "markdown",
   "metadata": {},
   "source": [
    "# Proyecto OilyGiant"
   ]
  },
  {
   "cell_type": "markdown",
   "metadata": {},
   "source": [
    "## Introducción\n",
    "\n",
    "OilyGiant es una compañia de extracción de petróleo que busca seguir expandiendo sus alcances y para ello busca encontrar zonas donde se encuentren los pozos de petroléo que mejor retribución generen."
   ]
  },
  {
   "cell_type": "markdown",
   "metadata": {},
   "source": [
    "## Objetivo del proyecto\n",
    "\n",
    "Encontrar los mejores lugares donde abrir 200 pozos nuevos de petróleo con un presupuesto de 100 millones de dolares."
   ]
  },
  {
   "cell_type": "markdown",
   "metadata": {},
   "source": [
    "### Objetivo específico\n",
    "\n",
    "Se crea un modelo que ayude a elegir la región con el mayor margen de beneficio y se proporciona un análisis de los beneficios y riesgos potenciales."
   ]
  },
  {
   "cell_type": "markdown",
   "metadata": {},
   "source": [
    "## Datos\n",
    "\n",
    "Para trabajar el presente proyecto, OilyGiant proporciona los datos de exploración geológica sobre muestras de crudo de tres regiones con los parámetros de cada pozo petrolero de la región, por lo que se procede a importar esos archivos."
   ]
  },
  {
   "cell_type": "markdown",
   "metadata": {},
   "source": [
    "### Carga de librerias y de datos\n",
    "\n",
    "Ser carga la información proporcionada por OilyGiant.\n",
    "\n",
    "- Se descargan las librerías necesarias para el tratamiento necesarios de los datos"
   ]
  },
  {
   "cell_type": "code",
   "execution_count": 1,
   "metadata": {},
   "outputs": [],
   "source": [
    "import pandas as pd\n",
    "import numpy as np\n",
    "from sklearn.linear_model import LinearRegression\n",
    "from sklearn.model_selection import train_test_split\n",
    "from sklearn.metrics import mean_squared_error\n",
    "from scipy import stats as st\n",
    "import locale"
   ]
  },
  {
   "cell_type": "markdown",
   "metadata": {},
   "source": [
    "- Se importan los datos de las regiones pretolíferas"
   ]
  },
  {
   "cell_type": "code",
   "execution_count": 2,
   "metadata": {},
   "outputs": [],
   "source": [
    "region_0 = pd.read_csv('/datasets/geo_data_0.csv')\n",
    "region_1 = pd.read_csv('/datasets/geo_data_1.csv')\n",
    "region_2 = pd.read_csv('/datasets/geo_data_2.csv')"
   ]
  },
  {
   "cell_type": "markdown",
   "metadata": {},
   "source": [
    "- Se revisan las características generales de los datos"
   ]
  },
  {
   "cell_type": "markdown",
   "metadata": {},
   "source": [
    "Región 0"
   ]
  },
  {
   "cell_type": "code",
   "execution_count": 3,
   "metadata": {},
   "outputs": [
    {
     "name": "stdout",
     "output_type": "stream",
     "text": [
      "(100000, 5)\n",
      "\n",
      "<class 'pandas.core.frame.DataFrame'>\n",
      "RangeIndex: 100000 entries, 0 to 99999\n",
      "Data columns (total 5 columns):\n",
      " #   Column   Non-Null Count   Dtype  \n",
      "---  ------   --------------   -----  \n",
      " 0   id       100000 non-null  object \n",
      " 1   f0       100000 non-null  float64\n",
      " 2   f1       100000 non-null  float64\n",
      " 3   f2       100000 non-null  float64\n",
      " 4   product  100000 non-null  float64\n",
      "dtypes: float64(4), object(1)\n",
      "memory usage: 3.8+ MB\n",
      "None\n",
      "\n",
      "id          object\n",
      "f0         float64\n",
      "f1         float64\n",
      "f2         float64\n",
      "product    float64\n",
      "dtype: object\n",
      "\n",
      "                  f0             f1             f2        product\n",
      "count  100000.000000  100000.000000  100000.000000  100000.000000\n",
      "mean        0.500419       0.250143       2.502647      92.500000\n",
      "std         0.871832       0.504433       3.248248      44.288691\n",
      "min        -1.408605      -0.848218     -12.088328       0.000000\n",
      "25%        -0.072580      -0.200881       0.287748      56.497507\n",
      "50%         0.502360       0.250252       2.515969      91.849972\n",
      "75%         1.073581       0.700646       4.715088     128.564089\n",
      "max         2.362331       1.343769      16.003790     185.364347\n",
      "\n",
      "Este dataset tiene 0 filas duplicadas.\n"
     ]
    },
    {
     "data": {
      "text/html": [
       "<div>\n",
       "<style scoped>\n",
       "    .dataframe tbody tr th:only-of-type {\n",
       "        vertical-align: middle;\n",
       "    }\n",
       "\n",
       "    .dataframe tbody tr th {\n",
       "        vertical-align: top;\n",
       "    }\n",
       "\n",
       "    .dataframe thead th {\n",
       "        text-align: right;\n",
       "    }\n",
       "</style>\n",
       "<table border=\"1\" class=\"dataframe\">\n",
       "  <thead>\n",
       "    <tr style=\"text-align: right;\">\n",
       "      <th></th>\n",
       "      <th>id</th>\n",
       "      <th>f0</th>\n",
       "      <th>f1</th>\n",
       "      <th>f2</th>\n",
       "      <th>product</th>\n",
       "    </tr>\n",
       "  </thead>\n",
       "  <tbody>\n",
       "    <tr>\n",
       "      <th>0</th>\n",
       "      <td>txEyH</td>\n",
       "      <td>0.705745</td>\n",
       "      <td>-0.497823</td>\n",
       "      <td>1.221170</td>\n",
       "      <td>105.280062</td>\n",
       "    </tr>\n",
       "    <tr>\n",
       "      <th>1</th>\n",
       "      <td>2acmU</td>\n",
       "      <td>1.334711</td>\n",
       "      <td>-0.340164</td>\n",
       "      <td>4.365080</td>\n",
       "      <td>73.037750</td>\n",
       "    </tr>\n",
       "    <tr>\n",
       "      <th>2</th>\n",
       "      <td>409Wp</td>\n",
       "      <td>1.022732</td>\n",
       "      <td>0.151990</td>\n",
       "      <td>1.419926</td>\n",
       "      <td>85.265647</td>\n",
       "    </tr>\n",
       "    <tr>\n",
       "      <th>3</th>\n",
       "      <td>iJLyR</td>\n",
       "      <td>-0.032172</td>\n",
       "      <td>0.139033</td>\n",
       "      <td>2.978566</td>\n",
       "      <td>168.620776</td>\n",
       "    </tr>\n",
       "    <tr>\n",
       "      <th>4</th>\n",
       "      <td>Xdl7t</td>\n",
       "      <td>1.988431</td>\n",
       "      <td>0.155413</td>\n",
       "      <td>4.751769</td>\n",
       "      <td>154.036647</td>\n",
       "    </tr>\n",
       "    <tr>\n",
       "      <th>...</th>\n",
       "      <td>...</td>\n",
       "      <td>...</td>\n",
       "      <td>...</td>\n",
       "      <td>...</td>\n",
       "      <td>...</td>\n",
       "    </tr>\n",
       "    <tr>\n",
       "      <th>99995</th>\n",
       "      <td>DLsed</td>\n",
       "      <td>0.971957</td>\n",
       "      <td>0.370953</td>\n",
       "      <td>6.075346</td>\n",
       "      <td>110.744026</td>\n",
       "    </tr>\n",
       "    <tr>\n",
       "      <th>99996</th>\n",
       "      <td>QKivN</td>\n",
       "      <td>1.392429</td>\n",
       "      <td>-0.382606</td>\n",
       "      <td>1.273912</td>\n",
       "      <td>122.346843</td>\n",
       "    </tr>\n",
       "    <tr>\n",
       "      <th>99997</th>\n",
       "      <td>3rnvd</td>\n",
       "      <td>1.029585</td>\n",
       "      <td>0.018787</td>\n",
       "      <td>-1.348308</td>\n",
       "      <td>64.375443</td>\n",
       "    </tr>\n",
       "    <tr>\n",
       "      <th>99998</th>\n",
       "      <td>7kl59</td>\n",
       "      <td>0.998163</td>\n",
       "      <td>-0.528582</td>\n",
       "      <td>1.583869</td>\n",
       "      <td>74.040764</td>\n",
       "    </tr>\n",
       "    <tr>\n",
       "      <th>99999</th>\n",
       "      <td>1CWhH</td>\n",
       "      <td>1.764754</td>\n",
       "      <td>-0.266417</td>\n",
       "      <td>5.722849</td>\n",
       "      <td>149.633246</td>\n",
       "    </tr>\n",
       "  </tbody>\n",
       "</table>\n",
       "<p>100000 rows × 5 columns</p>\n",
       "</div>"
      ],
      "text/plain": [
       "          id        f0        f1        f2     product\n",
       "0      txEyH  0.705745 -0.497823  1.221170  105.280062\n",
       "1      2acmU  1.334711 -0.340164  4.365080   73.037750\n",
       "2      409Wp  1.022732  0.151990  1.419926   85.265647\n",
       "3      iJLyR -0.032172  0.139033  2.978566  168.620776\n",
       "4      Xdl7t  1.988431  0.155413  4.751769  154.036647\n",
       "...      ...       ...       ...       ...         ...\n",
       "99995  DLsed  0.971957  0.370953  6.075346  110.744026\n",
       "99996  QKivN  1.392429 -0.382606  1.273912  122.346843\n",
       "99997  3rnvd  1.029585  0.018787 -1.348308   64.375443\n",
       "99998  7kl59  0.998163 -0.528582  1.583869   74.040764\n",
       "99999  1CWhH  1.764754 -0.266417  5.722849  149.633246\n",
       "\n",
       "[100000 rows x 5 columns]"
      ]
     },
     "metadata": {},
     "output_type": "display_data"
    }
   ],
   "source": [
    "print(region_0.shape)\n",
    "print()\n",
    "print(region_0.info())\n",
    "print()\n",
    "print(region_0.dtypes)\n",
    "print()\n",
    "print(region_0.describe())\n",
    "print()\n",
    "print(f'Este dataset tiene {region_0.duplicated().sum()} filas duplicadas.')\n",
    "display(region_0)"
   ]
  },
  {
   "cell_type": "markdown",
   "metadata": {},
   "source": [
    "Región 1"
   ]
  },
  {
   "cell_type": "code",
   "execution_count": 4,
   "metadata": {},
   "outputs": [
    {
     "name": "stdout",
     "output_type": "stream",
     "text": [
      "(100000, 5)\n",
      "\n",
      "<class 'pandas.core.frame.DataFrame'>\n",
      "RangeIndex: 100000 entries, 0 to 99999\n",
      "Data columns (total 5 columns):\n",
      " #   Column   Non-Null Count   Dtype  \n",
      "---  ------   --------------   -----  \n",
      " 0   id       100000 non-null  object \n",
      " 1   f0       100000 non-null  float64\n",
      " 2   f1       100000 non-null  float64\n",
      " 3   f2       100000 non-null  float64\n",
      " 4   product  100000 non-null  float64\n",
      "dtypes: float64(4), object(1)\n",
      "memory usage: 3.8+ MB\n",
      "None\n",
      "\n",
      "id          object\n",
      "f0         float64\n",
      "f1         float64\n",
      "f2         float64\n",
      "product    float64\n",
      "dtype: object\n",
      "\n",
      "                  f0             f1             f2        product\n",
      "count  100000.000000  100000.000000  100000.000000  100000.000000\n",
      "mean        1.141296      -4.796579       2.494541      68.825000\n",
      "std         8.965932       5.119872       1.703572      45.944423\n",
      "min       -31.609576     -26.358598      -0.018144       0.000000\n",
      "25%        -6.298551      -8.267985       1.000021      26.953261\n",
      "50%         1.153055      -4.813172       2.011479      57.085625\n",
      "75%         8.621015      -1.332816       3.999904     107.813044\n",
      "max        29.421755      18.734063       5.019721     137.945408\n",
      "\n",
      "Este dataset tiene 0 filas duplicadas.\n"
     ]
    },
    {
     "data": {
      "text/html": [
       "<div>\n",
       "<style scoped>\n",
       "    .dataframe tbody tr th:only-of-type {\n",
       "        vertical-align: middle;\n",
       "    }\n",
       "\n",
       "    .dataframe tbody tr th {\n",
       "        vertical-align: top;\n",
       "    }\n",
       "\n",
       "    .dataframe thead th {\n",
       "        text-align: right;\n",
       "    }\n",
       "</style>\n",
       "<table border=\"1\" class=\"dataframe\">\n",
       "  <thead>\n",
       "    <tr style=\"text-align: right;\">\n",
       "      <th></th>\n",
       "      <th>id</th>\n",
       "      <th>f0</th>\n",
       "      <th>f1</th>\n",
       "      <th>f2</th>\n",
       "      <th>product</th>\n",
       "    </tr>\n",
       "  </thead>\n",
       "  <tbody>\n",
       "    <tr>\n",
       "      <th>0</th>\n",
       "      <td>kBEdx</td>\n",
       "      <td>-15.001348</td>\n",
       "      <td>-8.276000</td>\n",
       "      <td>-0.005876</td>\n",
       "      <td>3.179103</td>\n",
       "    </tr>\n",
       "    <tr>\n",
       "      <th>1</th>\n",
       "      <td>62mP7</td>\n",
       "      <td>14.272088</td>\n",
       "      <td>-3.475083</td>\n",
       "      <td>0.999183</td>\n",
       "      <td>26.953261</td>\n",
       "    </tr>\n",
       "    <tr>\n",
       "      <th>2</th>\n",
       "      <td>vyE1P</td>\n",
       "      <td>6.263187</td>\n",
       "      <td>-5.948386</td>\n",
       "      <td>5.001160</td>\n",
       "      <td>134.766305</td>\n",
       "    </tr>\n",
       "    <tr>\n",
       "      <th>3</th>\n",
       "      <td>KcrkZ</td>\n",
       "      <td>-13.081196</td>\n",
       "      <td>-11.506057</td>\n",
       "      <td>4.999415</td>\n",
       "      <td>137.945408</td>\n",
       "    </tr>\n",
       "    <tr>\n",
       "      <th>4</th>\n",
       "      <td>AHL4O</td>\n",
       "      <td>12.702195</td>\n",
       "      <td>-8.147433</td>\n",
       "      <td>5.004363</td>\n",
       "      <td>134.766305</td>\n",
       "    </tr>\n",
       "    <tr>\n",
       "      <th>...</th>\n",
       "      <td>...</td>\n",
       "      <td>...</td>\n",
       "      <td>...</td>\n",
       "      <td>...</td>\n",
       "      <td>...</td>\n",
       "    </tr>\n",
       "    <tr>\n",
       "      <th>99995</th>\n",
       "      <td>QywKC</td>\n",
       "      <td>9.535637</td>\n",
       "      <td>-6.878139</td>\n",
       "      <td>1.998296</td>\n",
       "      <td>53.906522</td>\n",
       "    </tr>\n",
       "    <tr>\n",
       "      <th>99996</th>\n",
       "      <td>ptvty</td>\n",
       "      <td>-10.160631</td>\n",
       "      <td>-12.558096</td>\n",
       "      <td>5.005581</td>\n",
       "      <td>137.945408</td>\n",
       "    </tr>\n",
       "    <tr>\n",
       "      <th>99997</th>\n",
       "      <td>09gWa</td>\n",
       "      <td>-7.378891</td>\n",
       "      <td>-3.084104</td>\n",
       "      <td>4.998651</td>\n",
       "      <td>137.945408</td>\n",
       "    </tr>\n",
       "    <tr>\n",
       "      <th>99998</th>\n",
       "      <td>rqwUm</td>\n",
       "      <td>0.665714</td>\n",
       "      <td>-6.152593</td>\n",
       "      <td>1.000146</td>\n",
       "      <td>30.132364</td>\n",
       "    </tr>\n",
       "    <tr>\n",
       "      <th>99999</th>\n",
       "      <td>relB0</td>\n",
       "      <td>-3.426139</td>\n",
       "      <td>-7.794274</td>\n",
       "      <td>-0.003299</td>\n",
       "      <td>3.179103</td>\n",
       "    </tr>\n",
       "  </tbody>\n",
       "</table>\n",
       "<p>100000 rows × 5 columns</p>\n",
       "</div>"
      ],
      "text/plain": [
       "          id         f0         f1        f2     product\n",
       "0      kBEdx -15.001348  -8.276000 -0.005876    3.179103\n",
       "1      62mP7  14.272088  -3.475083  0.999183   26.953261\n",
       "2      vyE1P   6.263187  -5.948386  5.001160  134.766305\n",
       "3      KcrkZ -13.081196 -11.506057  4.999415  137.945408\n",
       "4      AHL4O  12.702195  -8.147433  5.004363  134.766305\n",
       "...      ...        ...        ...       ...         ...\n",
       "99995  QywKC   9.535637  -6.878139  1.998296   53.906522\n",
       "99996  ptvty -10.160631 -12.558096  5.005581  137.945408\n",
       "99997  09gWa  -7.378891  -3.084104  4.998651  137.945408\n",
       "99998  rqwUm   0.665714  -6.152593  1.000146   30.132364\n",
       "99999  relB0  -3.426139  -7.794274 -0.003299    3.179103\n",
       "\n",
       "[100000 rows x 5 columns]"
      ]
     },
     "metadata": {},
     "output_type": "display_data"
    }
   ],
   "source": [
    "print(region_1.shape)\n",
    "print()\n",
    "print(region_1.info())\n",
    "print()\n",
    "print(region_1.dtypes)\n",
    "print()\n",
    "print(region_1.describe())\n",
    "print()\n",
    "print(f'Este dataset tiene {region_1.duplicated().sum()} filas duplicadas.')\n",
    "display(region_1)"
   ]
  },
  {
   "cell_type": "markdown",
   "metadata": {},
   "source": [
    "Región 2"
   ]
  },
  {
   "cell_type": "code",
   "execution_count": 5,
   "metadata": {},
   "outputs": [
    {
     "name": "stdout",
     "output_type": "stream",
     "text": [
      "(100000, 5)\n",
      "\n",
      "<class 'pandas.core.frame.DataFrame'>\n",
      "RangeIndex: 100000 entries, 0 to 99999\n",
      "Data columns (total 5 columns):\n",
      " #   Column   Non-Null Count   Dtype  \n",
      "---  ------   --------------   -----  \n",
      " 0   id       100000 non-null  object \n",
      " 1   f0       100000 non-null  float64\n",
      " 2   f1       100000 non-null  float64\n",
      " 3   f2       100000 non-null  float64\n",
      " 4   product  100000 non-null  float64\n",
      "dtypes: float64(4), object(1)\n",
      "memory usage: 3.8+ MB\n",
      "None\n",
      "\n",
      "id          object\n",
      "f0         float64\n",
      "f1         float64\n",
      "f2         float64\n",
      "product    float64\n",
      "dtype: object\n",
      "\n",
      "                  f0             f1             f2        product\n",
      "count  100000.000000  100000.000000  100000.000000  100000.000000\n",
      "mean        0.002023      -0.002081       2.495128      95.000000\n",
      "std         1.732045       1.730417       3.473445      44.749921\n",
      "min        -8.760004      -7.084020     -11.970335       0.000000\n",
      "25%        -1.162288      -1.174820       0.130359      59.450441\n",
      "50%         0.009424      -0.009482       2.484236      94.925613\n",
      "75%         1.158535       1.163678       4.858794     130.595027\n",
      "max         7.238262       7.844801      16.739402     190.029838\n",
      "\n",
      "Este dataset tiene 0 filas duplicadas.\n"
     ]
    },
    {
     "data": {
      "text/html": [
       "<div>\n",
       "<style scoped>\n",
       "    .dataframe tbody tr th:only-of-type {\n",
       "        vertical-align: middle;\n",
       "    }\n",
       "\n",
       "    .dataframe tbody tr th {\n",
       "        vertical-align: top;\n",
       "    }\n",
       "\n",
       "    .dataframe thead th {\n",
       "        text-align: right;\n",
       "    }\n",
       "</style>\n",
       "<table border=\"1\" class=\"dataframe\">\n",
       "  <thead>\n",
       "    <tr style=\"text-align: right;\">\n",
       "      <th></th>\n",
       "      <th>id</th>\n",
       "      <th>f0</th>\n",
       "      <th>f1</th>\n",
       "      <th>f2</th>\n",
       "      <th>product</th>\n",
       "    </tr>\n",
       "  </thead>\n",
       "  <tbody>\n",
       "    <tr>\n",
       "      <th>0</th>\n",
       "      <td>fwXo0</td>\n",
       "      <td>-1.146987</td>\n",
       "      <td>0.963328</td>\n",
       "      <td>-0.828965</td>\n",
       "      <td>27.758673</td>\n",
       "    </tr>\n",
       "    <tr>\n",
       "      <th>1</th>\n",
       "      <td>WJtFt</td>\n",
       "      <td>0.262778</td>\n",
       "      <td>0.269839</td>\n",
       "      <td>-2.530187</td>\n",
       "      <td>56.069697</td>\n",
       "    </tr>\n",
       "    <tr>\n",
       "      <th>2</th>\n",
       "      <td>ovLUW</td>\n",
       "      <td>0.194587</td>\n",
       "      <td>0.289035</td>\n",
       "      <td>-5.586433</td>\n",
       "      <td>62.871910</td>\n",
       "    </tr>\n",
       "    <tr>\n",
       "      <th>3</th>\n",
       "      <td>q6cA6</td>\n",
       "      <td>2.236060</td>\n",
       "      <td>-0.553760</td>\n",
       "      <td>0.930038</td>\n",
       "      <td>114.572842</td>\n",
       "    </tr>\n",
       "    <tr>\n",
       "      <th>4</th>\n",
       "      <td>WPMUX</td>\n",
       "      <td>-0.515993</td>\n",
       "      <td>1.716266</td>\n",
       "      <td>5.899011</td>\n",
       "      <td>149.600746</td>\n",
       "    </tr>\n",
       "    <tr>\n",
       "      <th>...</th>\n",
       "      <td>...</td>\n",
       "      <td>...</td>\n",
       "      <td>...</td>\n",
       "      <td>...</td>\n",
       "      <td>...</td>\n",
       "    </tr>\n",
       "    <tr>\n",
       "      <th>99995</th>\n",
       "      <td>4GxBu</td>\n",
       "      <td>-1.777037</td>\n",
       "      <td>1.125220</td>\n",
       "      <td>6.263374</td>\n",
       "      <td>172.327046</td>\n",
       "    </tr>\n",
       "    <tr>\n",
       "      <th>99996</th>\n",
       "      <td>YKFjq</td>\n",
       "      <td>-1.261523</td>\n",
       "      <td>-0.894828</td>\n",
       "      <td>2.524545</td>\n",
       "      <td>138.748846</td>\n",
       "    </tr>\n",
       "    <tr>\n",
       "      <th>99997</th>\n",
       "      <td>tKPY3</td>\n",
       "      <td>-1.199934</td>\n",
       "      <td>-2.957637</td>\n",
       "      <td>5.219411</td>\n",
       "      <td>157.080080</td>\n",
       "    </tr>\n",
       "    <tr>\n",
       "      <th>99998</th>\n",
       "      <td>nmxp2</td>\n",
       "      <td>-2.419896</td>\n",
       "      <td>2.417221</td>\n",
       "      <td>-5.548444</td>\n",
       "      <td>51.795253</td>\n",
       "    </tr>\n",
       "    <tr>\n",
       "      <th>99999</th>\n",
       "      <td>V9kWn</td>\n",
       "      <td>-2.551421</td>\n",
       "      <td>-2.025625</td>\n",
       "      <td>6.090891</td>\n",
       "      <td>102.775767</td>\n",
       "    </tr>\n",
       "  </tbody>\n",
       "</table>\n",
       "<p>100000 rows × 5 columns</p>\n",
       "</div>"
      ],
      "text/plain": [
       "          id        f0        f1        f2     product\n",
       "0      fwXo0 -1.146987  0.963328 -0.828965   27.758673\n",
       "1      WJtFt  0.262778  0.269839 -2.530187   56.069697\n",
       "2      ovLUW  0.194587  0.289035 -5.586433   62.871910\n",
       "3      q6cA6  2.236060 -0.553760  0.930038  114.572842\n",
       "4      WPMUX -0.515993  1.716266  5.899011  149.600746\n",
       "...      ...       ...       ...       ...         ...\n",
       "99995  4GxBu -1.777037  1.125220  6.263374  172.327046\n",
       "99996  YKFjq -1.261523 -0.894828  2.524545  138.748846\n",
       "99997  tKPY3 -1.199934 -2.957637  5.219411  157.080080\n",
       "99998  nmxp2 -2.419896  2.417221 -5.548444   51.795253\n",
       "99999  V9kWn -2.551421 -2.025625  6.090891  102.775767\n",
       "\n",
       "[100000 rows x 5 columns]"
      ]
     },
     "metadata": {},
     "output_type": "display_data"
    }
   ],
   "source": [
    "print(region_2.shape)\n",
    "print()\n",
    "print(region_2.info())\n",
    "print()\n",
    "print(region_2.dtypes)\n",
    "print()\n",
    "print(region_2.describe())\n",
    "print()\n",
    "print(f'Este dataset tiene {region_2.duplicated().sum()} filas duplicadas.')\n",
    "display(region_2)"
   ]
  },
  {
   "cell_type": "markdown",
   "metadata": {},
   "source": [
    "### Revisión de los datos\n",
    "\n",
    "Recordando que los datasets muestran las muestras de crudo de tres regiones con los parámetros de cada pozo petrolero de la región.\n",
    "\n",
    "Los 3 datasets cuentan con 1000 registros cada uno, conformado por 5 columnas, sin datos nulos ni filas duplicadas.\n",
    "Las 5 columnas se conforman de la siguiente forma:\n",
    "\n",
    "    •\tid — identificador único de pozo de petróleo\n",
    "    •\tf0, f1, f2 — tres características de los puntos (Calidad de crudo)\n",
    "    •\tproduct — volumen de reservas en el pozo de petróleo (miles de barriles)\n",
    "\n",
    "Los datos se describen de la siguiente forma:\n",
    "\n",
    "    - columna ID: tipo objetc\n",
    "    - columnas F0, F1, F2 y Product: tipo flotante\n",
    "    - En la región 0 y región 2, las medias y medianas de todas las columnas se encuentran muy cercanas una con la otra en cada región\n",
    "    - En la región 1 las medias y medianas de la columna f0, f1, f2 se encuentran muy cercanas una con la otra, excepto en la columna de producto, donde esto nos es así y se tenemos al media mas alta que la mediana\n",
    "\n",
    "Comparación los mínimos de cada columna por región\n",
    "\n",
    "Nombre de columna | Región 0 | Región 1 | Región 2 \n",
    "--- | --- | --- | ---\n",
    "F0 | -1.408605 | -31.609576 | -8.760004\n",
    "F1| -0.848218 | -26.358598 | -7.084020\n",
    "F2 | -12.088328 | -0.018144 | -11.970335\n",
    "Producto | 0 | 0 | 0\n",
    "\n",
    "\n",
    "Comparación los máximos de cada columna por región\n",
    "\n",
    "Nombre de columna | Región 0 | Región 1 | Región 2 \n",
    "--- | --- | --- | ---\n",
    "F0 | 2.362331 | 29.421755 | 7.238362\n",
    "F1| 1.343769 | 18.734063 | 7.844801\n",
    "F2 | 16.003790 | 5.019721 | 16.739402\n",
    "Producto | 185.364347 | 137.945408 | 190.029838\n",
    "\n",
    "El único tratamiento de datos que daremos para estos datasets, será la eliminación de la columna ID, debido a que no apoartará ningún tipo de información a nuestros futuros análisis."
   ]
  },
  {
   "cell_type": "code",
   "execution_count": 6,
   "metadata": {},
   "outputs": [],
   "source": [
    "region_0 = region_0.drop(columns=['id'])\n",
    "region_1 = region_1.drop(columns=['id'])\n",
    "region_2 = region_2.drop(columns=['id'])"
   ]
  },
  {
   "cell_type": "code",
   "execution_count": 7,
   "metadata": {},
   "outputs": [
    {
     "name": "stdout",
     "output_type": "stream",
     "text": [
      "         f0        f1        f2     product\n",
      "0  0.705745 -0.497823  1.221170  105.280062\n",
      "1  1.334711 -0.340164  4.365080   73.037750\n",
      "2  1.022732  0.151990  1.419926   85.265647\n",
      "3 -0.032172  0.139033  2.978566  168.620776\n",
      "4  1.988431  0.155413  4.751769  154.036647\n",
      "          f0         f1        f2     product\n",
      "0 -15.001348  -8.276000 -0.005876    3.179103\n",
      "1  14.272088  -3.475083  0.999183   26.953261\n",
      "2   6.263187  -5.948386  5.001160  134.766305\n",
      "3 -13.081196 -11.506057  4.999415  137.945408\n",
      "4  12.702195  -8.147433  5.004363  134.766305\n",
      "         f0        f1        f2     product\n",
      "0 -1.146987  0.963328 -0.828965   27.758673\n",
      "1  0.262778  0.269839 -2.530187   56.069697\n",
      "2  0.194587  0.289035 -5.586433   62.871910\n",
      "3  2.236060 -0.553760  0.930038  114.572842\n",
      "4 -0.515993  1.716266  5.899011  149.600746\n"
     ]
    }
   ],
   "source": [
    "print(region_0.head())\n",
    "print(region_1.head())\n",
    "print(region_2.head())"
   ]
  },
  {
   "cell_type": "markdown",
   "metadata": {},
   "source": [
    "## Creación modelo regresión lineal\n",
    "\n",
    "Se procede a trabajar la creación del modelo de regresión lineal."
   ]
  },
  {
   "cell_type": "markdown",
   "metadata": {},
   "source": [
    "### Separación de datos Región 0"
   ]
  },
  {
   "cell_type": "code",
   "execution_count": 8,
   "metadata": {},
   "outputs": [],
   "source": [
    "features_region_0 = region_0.drop(['product'], axis=1)\n",
    "target_region_0 = region_0['product']\n",
    "\n",
    "features_train_region_0, features_valid_region_0, target_train_region_0, target_valid_region_0 = train_test_split(\n",
    "    features_region_0, target_region_0, test_size=0.25, random_state=12345)"
   ]
  },
  {
   "cell_type": "markdown",
   "metadata": {},
   "source": [
    "#### Regresión linear Región 0"
   ]
  },
  {
   "cell_type": "code",
   "execution_count": 9,
   "metadata": {},
   "outputs": [
    {
     "name": "stdout",
     "output_type": "stream",
     "text": [
      "RECM del modelo de regresión lineal en el conjunto de validación para la región 0: 37.5794217150813\n"
     ]
    }
   ],
   "source": [
    "model_region_0_regression = LinearRegression()\n",
    "model_region_0_regression.fit(features_train_region_0, target_train_region_0) \n",
    "predictions_valid_region_0_regression = model_region_0_regression.predict(features_valid_region_0) \n",
    "\n",
    "result_region_0_regression = mean_squared_error(target_valid_region_0, predictions_valid_region_0_regression) ** 0.5 \n",
    "\n",
    "print( \"RECM del modelo de regresión lineal en el conjunto de validación para la región 0:\", result_region_0_regression)"
   ]
  },
  {
   "cell_type": "markdown",
   "metadata": {},
   "source": [
    "### Separación de datos Región 1"
   ]
  },
  {
   "cell_type": "code",
   "execution_count": 10,
   "metadata": {},
   "outputs": [],
   "source": [
    "features_region_1 = region_1.drop(['product'], axis=1)\n",
    "target_region_1 = region_1['product']\n",
    "\n",
    "features_train_region_1, features_valid_region_1, target_train_region_1, target_valid_region_1 = train_test_split(\n",
    "    features_region_1, target_region_1, test_size=0.25, random_state=12345)"
   ]
  },
  {
   "cell_type": "markdown",
   "metadata": {},
   "source": [
    "#### Regresión linear Región 1"
   ]
  },
  {
   "cell_type": "code",
   "execution_count": 11,
   "metadata": {},
   "outputs": [
    {
     "name": "stdout",
     "output_type": "stream",
     "text": [
      "RECM del modelo de regresión lineal en el conjunto de validación para la región 1: 0.893099286775617\n"
     ]
    }
   ],
   "source": [
    "model_region_1_regression = LinearRegression()\n",
    "model_region_1_regression.fit(features_train_region_1, target_train_region_1) \n",
    "predictions_valid_region_1_regression = model_region_1_regression.predict(features_valid_region_1) \n",
    "\n",
    "result_region_1_regression = mean_squared_error(target_valid_region_1, predictions_valid_region_1_regression) ** 0.5 \n",
    "\n",
    "print( \"RECM del modelo de regresión lineal en el conjunto de validación para la región 1:\", result_region_1_regression)"
   ]
  },
  {
   "cell_type": "markdown",
   "metadata": {},
   "source": [
    "### Separación de datos región 2"
   ]
  },
  {
   "cell_type": "code",
   "execution_count": 12,
   "metadata": {},
   "outputs": [],
   "source": [
    "features_region_2 = region_2.drop(['product'] , axis=1)\n",
    "tarjet_region_2 = region_2['product']\n",
    "\n",
    "features_train_region_2, features_valid_region_2, target_train_region_2, target_valid_region_2 = train_test_split(\n",
    "    features_region_2, tarjet_region_2, test_size=0.25, random_state=12345)"
   ]
  },
  {
   "cell_type": "markdown",
   "metadata": {},
   "source": [
    "#### Bosque Aleatorio Región 2"
   ]
  },
  {
   "cell_type": "code",
   "execution_count": 13,
   "metadata": {},
   "outputs": [
    {
     "name": "stdout",
     "output_type": "stream",
     "text": [
      "RECM del modelo de regresión lineal en el conjunto de validación para la región 2: 40.02970873393434\n"
     ]
    }
   ],
   "source": [
    "model_region_2_regression = LinearRegression()\n",
    "model_region_2_regression.fit(features_train_region_2, target_train_region_2) \n",
    "predictions_valid_region_2_regression = model_region_2_regression.predict(features_valid_region_2) \n",
    "\n",
    "result_region_2_regression = mean_squared_error(target_valid_region_2, predictions_valid_region_2_regression) ** 0.5 \n",
    "\n",
    "print( \"RECM del modelo de regresión lineal en el conjunto de validación para la región 2:\", result_region_2_regression)"
   ]
  },
  {
   "cell_type": "markdown",
   "metadata": {},
   "source": [
    "### Análisis de resultados\n",
    "\n",
    "Los resultados del análisis indican que los modelos de regresión lineal para las tres regiones muestran variaciones significativas en su rendimiento, medido por el error cuadrático medio (RECM) en el conjunto de validación.\n",
    "\n",
    "    - Para la Región 0, el modelo presenta un RECM de 37.58 (miles de barriles), sugiriendo una cantidad sustancial de variabilidad en las predicciones\n",
    "\n",
    "    - La Región 1 destaca con un RECM mínimo de 0.89 (miles de barriles), indicando un rendimiento mucho más preciso en las predicciones. Este resultado sugiere que el modelo en la Región 1 tiene una capacidad predictiva más fuerte en comparación con las otras regiones\n",
    "\n",
    "    - En cambio, la Región 2 muestra un RECM de 40.03 (miles de barriles), lo que sugiere un mayor grado de error en las predicciones\n",
    "    \n",
    "Una vez con estos resultados se procede a continuar el análisis."
   ]
  },
  {
   "cell_type": "markdown",
   "metadata": {},
   "source": [
    "## Preparación para el cálculo de ganancias\n",
    "\n",
    "Se conoce que al explorar la región, se lleva a cabo un estudio de 500 puntos con la selección de los mejores 200 puntos para el cálculo del beneficio.\n",
    "\n",
    "Para OilyGiant el panorama para el desarrollo de 200 pozos es el siguiente:\n",
    "\n",
    "    - Presupuesto: 100 millones de dólares\n",
    "    - Un barril de materias primas genera 4.5 USD de ingresos\n",
    "    - El ingreso de una unidad de producto es de 4500 dólares (el volumen de reservas está expresado en miles de barriles)\n",
    "    - De media un pozo petrolífero debe producir al menos un valor de 500,000 dólares en unidades para evitar pérdidas (esto es equivalente a 111.1 unidades) *Compara esta cantidad con la cantidad media de reservas en cada región."
   ]
  },
  {
   "cell_type": "code",
   "execution_count": 14,
   "metadata": {},
   "outputs": [],
   "source": [
    "budget = 100000000 # dólares\n",
    "revenue_per_barrel = 4.5 # Dólares por barril\n",
    "income_per_unit = 4500 # Dólares por unidad (por 1000 barriles)\n",
    "units = 200\n",
    "media_production = 500000 # dólares\n",
    "min_uni = 111.1"
   ]
  },
  {
   "cell_type": "code",
   "execution_count": 15,
   "metadata": {},
   "outputs": [
    {
     "name": "stdout",
     "output_type": "stream",
     "text": [
      "Media región 0: 92.5 miles de barriles\n",
      "Media región 1: 68.83 miles de barriles\n",
      "Media región 2: 95.0 miles de barriles\n"
     ]
    }
   ],
   "source": [
    "media_region_0 = region_0['product'].mean()\n",
    "media_region_1 = region_1['product'].mean()\n",
    "media_region_2 = region_2['product'].mean()\n",
    "\n",
    "print(f'Media región 0: {round(media_region_0, 2)} miles de barriles')\n",
    "print(f'Media región 1: {round(media_region_1, 2)} miles de barriles')\n",
    "print(f'Media región 2: {round(media_region_2, 2)} miles de barriles')"
   ]
  },
  {
   "cell_type": "code",
   "execution_count": 16,
   "metadata": {},
   "outputs": [
    {
     "name": "stdout",
     "output_type": "stream",
     "text": [
      "Total de '0' en en la región O es de: 1\n",
      "Total de '0' en en la región 1 es de: 8235\n",
      "Total de '0' en en la región 2 es de: 1\n"
     ]
    }
   ],
   "source": [
    "total_zero_region_0 = (region_0['product'] == 0).sum()\n",
    "total_zero_region_1 = (region_1['product'] == 0).sum()\n",
    "total_zero_region_2 = (region_2['product'] == 0).sum()\n",
    "\n",
    "print(f\"Total de '0' en en la región O es de: {total_zero_region_0}\")\n",
    "print(f\"Total de '0' en en la región 1 es de: {total_zero_region_1}\")\n",
    "print(f\"Total de '0' en en la región 2 es de: {total_zero_region_2}\")"
   ]
  },
  {
   "cell_type": "markdown",
   "metadata": {},
   "source": [
    " Recapitulando se conoce lo siguiente:\n",
    " \n",
    " Reservas | Región 0 | Región 1 | Región 2 \n",
    "--- | --- | --- | ---\n",
    "Promedio reservas previstas | 92.56 | 68.73 | 94.97\n",
    "RECM | 37.58 | 0.89 | 40.03\n",
    "Promedio por región | 92.5 | 68.83 | 95\n",
    "Valor máximo | 185.36 | 137.95 | 190.03\n",
    "Total en 0 | 1 | 8235 | 1\n",
    "\n",
    " Se puede observar en la tabla anterior, que el promedio en las predicciones y la media de las reservas por región, no están muy alejadas unas de las otras.\n",
    " Por otra parte se puede asumir por el RECM que la variabilidad de los datos en la región 0 y región 2 es mayor y que los datos en la región 1 tienen menos variabilidad. \n",
    " \n",
    " Teniendo en cuenta también los valores máximos en reservas, en la región 0 y 2 se tienen reservas más grandes que en la región 1.\n",
    " \n",
    " Se revisó el numero de 0 que se tienen en los registros por region en el apartado de reservas, arrojando que la región 0 y 2 solo tienen 1, y que la región 1 tienen 8235 registros en 0.\n",
    "\n",
    "Considerando que un pozo petrolífero debe producir al menos un valor de 500,000 dólares en unidades para evitar pérdidas (esto es equivalente a 111.1 unidades), y reflexionando los datos obtenidos hasta ahora, en primera instancia comparando unicamente el promedio de las predicciones realizadas por región, ninguna llegaría al mínimo de 111.1 unidades. Revisando los valores máximos, se puede ver que la regiones 0 y 2 pueden llegar a tener pozos con reservas de grandes cantidades. La región 1, con sus valores máximos también podría sobrepasar lo mínimo requerido. "
   ]
  },
  {
   "cell_type": "markdown",
   "metadata": {},
   "source": [
    "### Conclusiones "
   ]
  },
  {
   "cell_type": "markdown",
   "metadata": {},
   "source": [
    "Se debe seguir explirando los datos, ahora con un calculo de beneficio, para conocer cual de las zonas podría proporcionar mayor beneficio a la compañia. "
   ]
  },
  {
   "cell_type": "markdown",
   "metadata": {},
   "source": [
    "## Calculo de ganancias\n",
    "\n",
    "Con base a las reservas de petróleo previsto para cada region, se calcula el beneficio. Se crea una funcion que tome como parámetros las predicciones de volumen, así como el tamaño de la muestra de pozos petrolíferos de cada región.\n",
    "\n",
    "Se tomarán en cuenta los 200 pozos más grandes de cada región."
   ]
  },
  {
   "cell_type": "markdown",
   "metadata": {},
   "source": [
    "### Ganancia potencial de los principales pozos por región\n",
    "\n",
    "Se realiza una función que nos ayuda a calcular la ganancias en los principales 200 pozos de la región"
   ]
  },
  {
   "cell_type": "code",
   "execution_count": 17,
   "metadata": {},
   "outputs": [
    {
     "name": "stdout",
     "output_type": "stream",
     "text": [
      "La ganancia potencial en la región 0 es de: 33.21 millones de dolares.\n",
      "La ganancia potencial en la región 1 es de: 24.15 millones de dolares.\n",
      "La ganancia potencial en la región 2 es de: 27.1 millones de dolares.\n"
     ]
    }
   ],
   "source": [
    "def funcion_profit(target_valid, predictions_valid, count):\n",
    "    target_valid_reset = target_valid.reset_index(drop=True)\n",
    "    predictions_valid_series = pd.Series(predictions_valid)\n",
    "    predictions_sorted_selected = predictions_valid_series.sort_values(ascending=False)[:count]\n",
    "    selected_wells = target_valid_reset[predictions_sorted_selected.index]\n",
    "    potential_profit = ((selected_wells.sum() * income_per_unit) - budget) / 1000000\n",
    "    return round(potential_profit, 2)\n",
    "\n",
    "\n",
    "predictions = [pd.Series(predictions_valid_region_0_regression), pd.Series(predictions_valid_region_1_regression), pd.Series(predictions_valid_region_2_regression)]\n",
    "targets = [target_valid_region_0.reset_index(drop=True) , target_valid_region_1.reset_index(drop=True), target_valid_region_2.reset_index(drop=True)]\n",
    "profits = []\n",
    "\n",
    "for i in range(len(predictions)):\n",
    "    profits.append(funcion_profit(targets[i], predictions[i], 200))\n",
    "    \n",
    "    \n",
    "for i in range(len(profits)):\n",
    "    print(f'La ganancia potencial en la región {i} es de: {profits[i]} millones de dolares.')"
   ]
  },
  {
   "cell_type": "markdown",
   "metadata": {},
   "source": [
    "### Propuesta \n",
    "\n",
    "Se propone la Región 0 para la apertura de 200 pozos, debido a que la ganancia potencial reflejada en nuestro estimado es el mas alto. "
   ]
  },
  {
   "cell_type": "markdown",
   "metadata": {},
   "source": [
    "## Calculos de riesgos y ganancias por región"
   ]
  },
  {
   "cell_type": "markdown",
   "metadata": {},
   "source": [
    "Se crea una función que informará de los beneficios que podría tener cada región, esto por medio de un bootstrapping que tomará 1000 muestras a partir de 500 pozos. El intervalo de confianza del para esta prueba es del 95% y se proporciona el riesgo de pérdida para cada región."
   ]
  },
  {
   "cell_type": "markdown",
   "metadata": {},
   "source": [
    "### Bootstrapping\n"
   ]
  },
  {
   "cell_type": "code",
   "execution_count": 18,
   "metadata": {
    "scrolled": true
   },
   "outputs": [
    {
     "name": "stdout",
     "output_type": "stream",
     "text": [
      "Datos para la Region 0:\n",
      "- El beneficio promedio es de: 3.96 millones de dolares\n",
      "- El intervalo de confianza del 95% es: -1.11 a 9.1\n",
      "- El riesgo de perdida es del: 6.9%\n",
      "\n",
      "Datos para la Region 1:\n",
      "- El beneficio promedio es de: 4.56 millones de dolares\n",
      "- El intervalo de confianza del 95% es: 0.34 a 8.52\n",
      "- El riesgo de perdida es del: 1.5%\n",
      "\n",
      "Datos para la Region 2:\n",
      "- El beneficio promedio es de: 4.04 millones de dolares\n",
      "- El intervalo de confianza del 95% es: -1.63 a 9.5\n",
      "- El riesgo de perdida es del: 7.6%\n",
      "\n"
     ]
    }
   ],
   "source": [
    "def region_sample(targets, predictions, count):\n",
    "    \n",
    "    state = np.random.RandomState(12345)\n",
    "    \n",
    "    values = []\n",
    "    \n",
    "    combined_df = pd.DataFrame()\n",
    "    combined_df['predictions'] = predictions\n",
    "    combined_df['targets'] = targets.reset_index(drop=True)\n",
    "    \n",
    "    for i in range(1000):\n",
    "        target_subsample = combined_df.sample(n=500, replace=True, random_state=state).reset_index(drop=True)\n",
    "        values.append(funcion_profit(target_subsample['targets'], target_subsample['predictions'], count))\n",
    "    \n",
    "    values = pd.Series(values)\n",
    "    mean = values.mean()\n",
    "    upper = values.quantile(0.975)\n",
    "    lower = values.quantile(0.025)\n",
    "    \n",
    "    count = 0\n",
    "    for value in values:\n",
    "        if value < 0:\n",
    "            count += 1\n",
    "            \n",
    "    print(f'- El beneficio promedio es de: {round(mean, 2)} millones de dolares')\n",
    "    print(f'- El intervalo de confianza del 95% es: {round(lower, 2)} a {round(upper, 2)}')\n",
    "    print(f\"- El riesgo de perdida es del: {count * 100 / len(values)}%\")\n",
    "\n",
    "for i in range(len(predictions)):\n",
    "    print(f'Datos para la Region {str(i)}:')\n",
    "    region_sample(targets[i], predictions[i], 200)\n",
    "    print()"
   ]
  },
  {
   "cell_type": "markdown",
   "metadata": {},
   "source": [
    "### Observaciones\n",
    "\n",
    "Se puede ver que la región 0 y la región 2 tienen un riesgo de perdida superior a los indicado, que era un máximo de 2.5%.\n",
    "Acorde a los criterior indicados por OilyGiant, la región 1 es la sugerida para la realización de los nuevos 200 pozos de petróleo.\n",
    "\n",
    "Las ganancias promedio arrojadas por el boostrapping podrían apegarse más a lo que realmente se podría llegar a obtener la compañia, tomando en cuenta que es poco probable que los 200 pozos se lleven a cabo especificamente en los sitios con mayor número de reservas petróleras. "
   ]
  },
  {
   "cell_type": "markdown",
   "metadata": {},
   "source": [
    "### Conclusiones\n",
    "\n",
    "En el presente proyecto se trabajó con los conjuntos de datos proporcionados por OilyGiant que contienen la Calidad de crudo\n",
    "y el volumen de reservas en los pozos de petróleros (miles de barriles). Con esa información y después de adecuarla para su uso, se entrenó un modelo de regresión lineal para cada región para calcular y predecir el beneficio potencial que cada región tiene. Para tener una mejor certeza en la propuesta, se utiliza la técnica de bootstrapping con 1000 muestras para encontrar el beneficio promedio, el intervalo de confianza del 95%, y el riesgo de pérdida para cada región. Se concluye con la sugerencia de la Región 1 para la contrucción sus nuevos pozos."
   ]
  }
 ],
 "metadata": {
  "kernelspec": {
   "display_name": "Python 3 (ipykernel)",
   "language": "python",
   "name": "python3"
  },
  "language_info": {
   "codemirror_mode": {
    "name": "ipython",
    "version": 3
   },
   "file_extension": ".py",
   "mimetype": "text/x-python",
   "name": "python",
   "nbconvert_exporter": "python",
   "pygments_lexer": "ipython3",
   "version": "3.9.5"
  },
  "toc": {
   "base_numbering": 1,
   "nav_menu": {},
   "number_sections": true,
   "sideBar": true,
   "skip_h1_title": true,
   "title_cell": "Table of Contents",
   "title_sidebar": "Contents",
   "toc_cell": false,
   "toc_position": {
    "height": "calc(100% - 180px)",
    "left": "10px",
    "top": "150px",
    "width": "368px"
   },
   "toc_section_display": true,
   "toc_window_display": true
  }
 },
 "nbformat": 4,
 "nbformat_minor": 2
}

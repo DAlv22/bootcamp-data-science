{
 "cells": [
  {
   "cell_type": "markdown",
   "metadata": {},
   "source": [
    "# Proyecto Megaline"
   ]
  },
  {
   "cell_type": "markdown",
   "metadata": {},
   "source": [
    "La compañia Megaline requiere de un modelo que pueda analizar el comportamiento de los clientes y pueda recomendar uno de los nuevos planes disponibles:\n",
    "\n",
    "    - Smart\n",
    "    - Ultra\n"
   ]
  },
  {
   "cell_type": "markdown",
   "metadata": {},
   "source": [
    "## Objetivo\n",
    "    \n",
    "    Generar un modelo que pueda sugerir a los clientes qué plan le iría mejor acorde a sus necesidades.\n",
    "    \n",
    "### Inicialización\n",
    "\n",
    "    La compañia entrega un archivo CSV donde se observa el comportamiento de los suscriptores que ya se han cambiado a los planes nuevos. Con esta información se procede a trabajar el modelo solicitado.\n",
    "    \n",
    "### Carga de librerias y de datos"
   ]
  },
  {
   "cell_type": "code",
   "execution_count": 1,
   "metadata": {},
   "outputs": [],
   "source": [
    "import pandas as pd\n",
    "from sklearn.linear_model import LogisticRegression\n",
    "from sklearn.tree import DecisionTreeClassifier\n",
    "from sklearn.ensemble import RandomForestClassifier\n",
    "from sklearn.model_selection import train_test_split\n",
    "from sklearn.metrics import accuracy_score\n",
    "from sklearn.dummy import DummyClassifier\n",
    "from sklearn.model_selection import GridSearchCV"
   ]
  },
  {
   "cell_type": "code",
   "execution_count": 2,
   "metadata": {},
   "outputs": [
    {
     "name": "stdout",
     "output_type": "stream",
     "text": [
      "<class 'pandas.core.frame.DataFrame'>\n",
      "RangeIndex: 3214 entries, 0 to 3213\n",
      "Data columns (total 5 columns):\n",
      " #   Column    Non-Null Count  Dtype  \n",
      "---  ------    --------------  -----  \n",
      " 0   calls     3214 non-null   float64\n",
      " 1   minutes   3214 non-null   float64\n",
      " 2   messages  3214 non-null   float64\n",
      " 3   mb_used   3214 non-null   float64\n",
      " 4   is_ultra  3214 non-null   int64  \n",
      "dtypes: float64(4), int64(1)\n",
      "memory usage: 125.7 KB\n"
     ]
    },
    {
     "data": {
      "text/html": [
       "<div>\n",
       "<style scoped>\n",
       "    .dataframe tbody tr th:only-of-type {\n",
       "        vertical-align: middle;\n",
       "    }\n",
       "\n",
       "    .dataframe tbody tr th {\n",
       "        vertical-align: top;\n",
       "    }\n",
       "\n",
       "    .dataframe thead th {\n",
       "        text-align: right;\n",
       "    }\n",
       "</style>\n",
       "<table border=\"1\" class=\"dataframe\">\n",
       "  <thead>\n",
       "    <tr style=\"text-align: right;\">\n",
       "      <th></th>\n",
       "      <th>calls</th>\n",
       "      <th>minutes</th>\n",
       "      <th>messages</th>\n",
       "      <th>mb_used</th>\n",
       "      <th>is_ultra</th>\n",
       "    </tr>\n",
       "  </thead>\n",
       "  <tbody>\n",
       "    <tr>\n",
       "      <th>0</th>\n",
       "      <td>40.0</td>\n",
       "      <td>311.90</td>\n",
       "      <td>83.0</td>\n",
       "      <td>19915.42</td>\n",
       "      <td>0</td>\n",
       "    </tr>\n",
       "    <tr>\n",
       "      <th>1</th>\n",
       "      <td>85.0</td>\n",
       "      <td>516.75</td>\n",
       "      <td>56.0</td>\n",
       "      <td>22696.96</td>\n",
       "      <td>0</td>\n",
       "    </tr>\n",
       "    <tr>\n",
       "      <th>2</th>\n",
       "      <td>77.0</td>\n",
       "      <td>467.66</td>\n",
       "      <td>86.0</td>\n",
       "      <td>21060.45</td>\n",
       "      <td>0</td>\n",
       "    </tr>\n",
       "    <tr>\n",
       "      <th>3</th>\n",
       "      <td>106.0</td>\n",
       "      <td>745.53</td>\n",
       "      <td>81.0</td>\n",
       "      <td>8437.39</td>\n",
       "      <td>1</td>\n",
       "    </tr>\n",
       "    <tr>\n",
       "      <th>4</th>\n",
       "      <td>66.0</td>\n",
       "      <td>418.74</td>\n",
       "      <td>1.0</td>\n",
       "      <td>14502.75</td>\n",
       "      <td>0</td>\n",
       "    </tr>\n",
       "    <tr>\n",
       "      <th>...</th>\n",
       "      <td>...</td>\n",
       "      <td>...</td>\n",
       "      <td>...</td>\n",
       "      <td>...</td>\n",
       "      <td>...</td>\n",
       "    </tr>\n",
       "    <tr>\n",
       "      <th>3209</th>\n",
       "      <td>122.0</td>\n",
       "      <td>910.98</td>\n",
       "      <td>20.0</td>\n",
       "      <td>35124.90</td>\n",
       "      <td>1</td>\n",
       "    </tr>\n",
       "    <tr>\n",
       "      <th>3210</th>\n",
       "      <td>25.0</td>\n",
       "      <td>190.36</td>\n",
       "      <td>0.0</td>\n",
       "      <td>3275.61</td>\n",
       "      <td>0</td>\n",
       "    </tr>\n",
       "    <tr>\n",
       "      <th>3211</th>\n",
       "      <td>97.0</td>\n",
       "      <td>634.44</td>\n",
       "      <td>70.0</td>\n",
       "      <td>13974.06</td>\n",
       "      <td>0</td>\n",
       "    </tr>\n",
       "    <tr>\n",
       "      <th>3212</th>\n",
       "      <td>64.0</td>\n",
       "      <td>462.32</td>\n",
       "      <td>90.0</td>\n",
       "      <td>31239.78</td>\n",
       "      <td>0</td>\n",
       "    </tr>\n",
       "    <tr>\n",
       "      <th>3213</th>\n",
       "      <td>80.0</td>\n",
       "      <td>566.09</td>\n",
       "      <td>6.0</td>\n",
       "      <td>29480.52</td>\n",
       "      <td>1</td>\n",
       "    </tr>\n",
       "  </tbody>\n",
       "</table>\n",
       "<p>3214 rows × 5 columns</p>\n",
       "</div>"
      ],
      "text/plain": [
       "      calls  minutes  messages   mb_used  is_ultra\n",
       "0      40.0   311.90      83.0  19915.42         0\n",
       "1      85.0   516.75      56.0  22696.96         0\n",
       "2      77.0   467.66      86.0  21060.45         0\n",
       "3     106.0   745.53      81.0   8437.39         1\n",
       "4      66.0   418.74       1.0  14502.75         0\n",
       "...     ...      ...       ...       ...       ...\n",
       "3209  122.0   910.98      20.0  35124.90         1\n",
       "3210   25.0   190.36       0.0   3275.61         0\n",
       "3211   97.0   634.44      70.0  13974.06         0\n",
       "3212   64.0   462.32      90.0  31239.78         0\n",
       "3213   80.0   566.09       6.0  29480.52         1\n",
       "\n",
       "[3214 rows x 5 columns]"
      ]
     },
     "metadata": {},
     "output_type": "display_data"
    }
   ],
   "source": [
    "df = pd.read_csv(\"/datasets/users_behavior.csv\")\n",
    "df.info()\n",
    "display(df)"
   ]
  },
  {
   "cell_type": "markdown",
   "metadata": {},
   "source": [
    "### Revisión de los datos\n",
    "\n",
    "    Se da una revisión a los datos. Este archivo cuenta con 5 columnas, las 4 primeras en tipo de datos float y la última en integer. Se describe el nombre de la columna y la información que se encuentra en ella.\n",
    "    \n",
    "    •\tсalls — número de llamadas\n",
    "    •\tminutes — duración total de la llamada en minutos\n",
    "    •\tmessages — número de mensajes de texto\n",
    "    •\tmb_used — Tráfico de Internet utilizado en MB\n",
    "    •\tis_ultra — plan para el mes actual (Ultra - 1, Smart - 0)\n",
    "\n",
    "    Y tenemos un total de 3214 registros.\n",
    "    \n",
    "    Se procede a una revisión más específica de los datos, con el objetivo de tener la certeza de estar trabajando con datos veraces."
   ]
  },
  {
   "cell_type": "code",
   "execution_count": 3,
   "metadata": {},
   "outputs": [
    {
     "name": "stdout",
     "output_type": "stream",
     "text": [
      "El número total de filas duplicadas en este archivo es de 0 filas.\n"
     ]
    }
   ],
   "source": [
    "print(f'El número total de filas duplicadas en este archivo es de {df.duplicated().sum()} filas.')"
   ]
  },
  {
   "cell_type": "code",
   "execution_count": 4,
   "metadata": {},
   "outputs": [
    {
     "name": "stdout",
     "output_type": "stream",
     "text": [
      "             calls      minutes     messages       mb_used     is_ultra\n",
      "count  3214.000000  3214.000000  3214.000000   3214.000000  3214.000000\n",
      "mean     63.038892   438.208787    38.281269  17207.673836     0.306472\n",
      "std      33.236368   234.569872    36.148326   7570.968246     0.461100\n",
      "min       0.000000     0.000000     0.000000      0.000000     0.000000\n",
      "25%      40.000000   274.575000     9.000000  12491.902500     0.000000\n",
      "50%      62.000000   430.600000    30.000000  16943.235000     0.000000\n",
      "75%      82.000000   571.927500    57.000000  21424.700000     1.000000\n",
      "max     244.000000  1632.060000   224.000000  49745.730000     1.000000\n"
     ]
    }
   ],
   "source": [
    "print(df.describe())"
   ]
  },
  {
   "cell_type": "markdown",
   "metadata": {},
   "source": [
    "Se observa que este archivo no cuenta con filas duplicadas. Revisando algunas estadisticas descriptivas de los datos se observa lo siguiente:\n",
    "    \n",
    "    - Columna calls: El promedio de llamadas es de aproximadamente 63, con una variabilidad considerable (desviación estándar de aproximadamente 33). La cantidad mínima de llamadas es 0, lo que sugiere que hay usuarios que no realizaron ninguna llamada. El máximo de llamadas realizadas es de 244.\n",
    "\n",
    "    - Columna minutes:El promedio de minutos es de aproximadamente 438, con una variabilidad considerable (desviación estándar de aproximadamente 234). La cantidad mínima de minutos es 0, lo que sugiere que hay usuarios que no utilizaron minutos, lo que concuerda con los datos anteriores, al haber clientes que no realizaron ninguna llamada. El máximo de minutos utilizados es de 1632.\n",
    "    \n",
    "    - Columnas messages: El promedio de mensajes es de aproximadamente 38, con una variabilidad considerable (desviación estándar de aproximadamente 36). La cantidad mínima de mensajes es 0, lo que sugiere que hay usuarios que no enviaron mensajes. El número máximo de mensajes enviados es de 224.\n",
    "    \n",
    "    - Columnas mb_used: El promedio de megabytes utilizados es de aproximadamente 17207, con una variabilidad considerable (desviación estándar de aproximadamente 7570). La cantidad mínima de megabytes utilizados es 0, lo que sugiere que hay usuarios que no usaron datos. El valor máximo es 49745.\n",
    "    \n",
    "    - Columna is_ultra: El promedio es de aproximadamente 0.31, lo que indica que alrededor del 31% de los usuarios tienen el plan ultra (1) y el 69% tienen el plan Smarth (0). La desviación estándar es de aproximadamente 0.46, lo que sugiere cierta variabilidad en la distribución de los planes."
   ]
  },
  {
   "cell_type": "markdown",
   "metadata": {},
   "source": [
    "## Segmentación de los datos\n",
    "\n",
    "    Una vez revisados los datos del dataset, se procede a la segmentación de los datos para poder trabajar con ellos.\n",
    "    Al tener un solo dataset y no contar con un dataset de prueba a futuro, se dividirá el total del dataset de la siguiente manera:\n",
    "    - 60% dataset de entrenamiento\n",
    "    - 20% dataset de validación\n",
    "    - 20% Dataset de prueba"
   ]
  },
  {
   "cell_type": "code",
   "execution_count": 5,
   "metadata": {},
   "outputs": [],
   "source": [
    "features = df.drop(['is_ultra'], axis=1)\n",
    "target = df['is_ultra']\n",
    "\n",
    "features_train, x_valid, target_train, y_valid = train_test_split(features, target, test_size=0.4, random_state=12345)\n",
    "features_valid, features_test, target_valid, target_test = train_test_split(x_valid, y_valid, test_size=0.5, random_state=12345)"
   ]
  },
  {
   "cell_type": "markdown",
   "metadata": {},
   "source": [
    "## Modelos\n",
    "\n",
    "Una vez segmentados los datos acorde a lo anteriormente indicado, se procede a realizar 3 modelos de regresión logística para encontrar el modelo y los hiperparámetros que arrojen un resultado más acertado:\n",
    "\n",
    "- Árbol de decisión\n",
    "- Bosque aleatorio\n",
    "- Regresión logística\n",
    "\n",
    "Se utilizará 'accuracy' como métrica general que mide la proporción de predicciones correctas en relación con el total de predicciones."
   ]
  },
  {
   "cell_type": "markdown",
   "metadata": {},
   "source": [
    "### Árbol de decisión\n",
    "\n",
    "Se elabora árbol de decisión, ejecutando dentro del modelo, un verificador que nos ayuda a saber los mejores hiperparámetros para el mismo modelo. "
   ]
  },
  {
   "cell_type": "code",
   "execution_count": 6,
   "metadata": {},
   "outputs": [
    {
     "name": "stdout",
     "output_type": "stream",
     "text": [
      "Exactitud del mejor modelo en el conjunto de validacion: 0.7853810264385692\n",
      "Resultado alcanzado con una profundidad de 3\n"
     ]
    }
   ],
   "source": [
    "best_model_tree = None\n",
    "best_result_tree = 0\n",
    "best_depth_tree = 0\n",
    "for depth in range(1,6):\n",
    "    model_tree = DecisionTreeClassifier(random_state = 12345, max_depth = depth)\n",
    "    train_tree = model_tree.fit(features_train, target_train)\n",
    "    predictions_tree = model_tree.predict(features_valid)\n",
    "    result_tree = accuracy_score(target_valid, predictions_tree)\n",
    "    if result_tree > best_result_tree:\n",
    "        best_model_tree = model_tree\n",
    "        best_result_tree = result_tree\n",
    "        best_depth_tree = depth\n",
    "        \n",
    "print(\"Exactitud del mejor modelo en el conjunto de validacion:\", best_result_tree)\n",
    "print(\"Resultado alcanzado con una profundidad de\", best_depth_tree)"
   ]
  },
  {
   "cell_type": "markdown",
   "metadata": {},
   "source": [
    "### Bosque aleatorio\n",
    "\n",
    "Se elabora un bosque aleatorio, ejecutando dentro del modelo, un verificador que nos ayuda a saber los mejores hiperparámetros para el mismo modelo. "
   ]
  },
  {
   "cell_type": "code",
   "execution_count": 7,
   "metadata": {},
   "outputs": [
    {
     "name": "stdout",
     "output_type": "stream",
     "text": [
      "Exactitud del mejor modelo en el conjunto de validacion: 0.7947122861586314\n",
      "Resultado alcanzado con una profundidad de 5\n"
     ]
    }
   ],
   "source": [
    "best_model_forest= None\n",
    "best_result_forest= 0\n",
    "best_depth_forest = 0\n",
    "for depth in range(1,6):\n",
    "    model_forest = RandomForestClassifier(random_state=12345, max_depth = depth)\n",
    "    train_forest = model_forest.fit(features_train, target_train)\n",
    "    predicition_forest= model_forest.predict(features_valid)\n",
    "    results_forest = accuracy_score(target_valid,predicition_forest)\n",
    "    if results_forest > best_result_forest:\n",
    "        best_model_forest = model_forest\n",
    "        best_result_forest = results_forest\n",
    "        best_depth_forest = depth\n",
    "\n",
    "print(\"Exactitud del mejor modelo en el conjunto de validacion:\", best_result_forest)\n",
    "print(\"Resultado alcanzado con una profundidad de\", best_depth_forest)       "
   ]
  },
  {
   "cell_type": "markdown",
   "metadata": {},
   "source": [
    "### Regresión logística\n",
    "\n",
    "Se elabora un modelo de regresión logística."
   ]
  },
  {
   "cell_type": "code",
   "execution_count": 8,
   "metadata": {},
   "outputs": [
    {
     "name": "stdout",
     "output_type": "stream",
     "text": [
      "Accuracy del modelo de regresión logística en el conjunto de entrenamiento: 0.7505186721991701\n",
      "Accuracy del modelo de regresión logística en el conjunto de validación: 0.7589424572317263\n"
     ]
    }
   ],
   "source": [
    "model_regression = LogisticRegression(random_state=12345, solver='liblinear')\n",
    "train_regresson = model_regression.fit(features_train, target_train)\n",
    "score_train = model_regression.score(features_train, target_train)\n",
    "score_valid = model_regression.score(features_valid, target_valid)\n",
    "\n",
    "print(\"Accuracy del modelo de regresión logística en el conjunto de entrenamiento:\", score_train)\n",
    "print(\"Accuracy del modelo de regresión logística en el conjunto de validación:\", score_valid)"
   ]
  },
  {
   "cell_type": "markdown",
   "metadata": {},
   "source": [
    "### Observaciones modelos\n",
    "\n",
    "Después de haber implementado 3 modelos diferentes, obtuvimos los siguientes resultados:\n",
    "\n",
    "    - Árbol de decisión\n",
    "        Con una exactitud de 0.785 se obtuvo el mejor modelo, con una profundidad de 3.\n",
    "    - Bosque aleatorio\n",
    "        Con una exactitud de 0.794 se obtuvo el mejor modelo, con una profundidad de 5.\n",
    "    - Regresión logística\n",
    "        Con una exactitud de 0.758 se obtuvo el mejor modelo.\n",
    "   \n",
    "Para el presente estudio, se solicitaba un umbral de exactitud del 0.75, por lo tanto los 3 modelos pueden ser capaces de dar buenos resultados.\n",
    "\n",
    "\n",
    "Nombre | Precisión | Velocidad\n",
    "--- | --- | ---\n",
    "Árbol de decisión | Bajo | Alto\n",
    "Bosque aleatorio | Alto | Bajo\n",
    "Regresión Logística | Medio | Bajo\n",
    "\n",
    "\n",
    "Al ser un dataset de 3214 registros, podríamos elegir el modelo de \"Bosque Aleatorio\", debido a que es preciso y por el tamaño del dataset, no representará retrazos de calculo en la velocidad."
   ]
  },
  {
   "cell_type": "markdown",
   "metadata": {},
   "source": [
    "## Prueba Calidad del modelo\n",
    "\n",
    "Los 3 modelos han superado el umbral de exactitud, por lo cual, a los 3 se les medirá la calidad del modelo usando el conjunto de prueba previamente considerado y apartado de nuestro dataset original."
   ]
  },
  {
   "cell_type": "markdown",
   "metadata": {},
   "source": [
    "### Árbol de decisión"
   ]
  },
  {
   "cell_type": "code",
   "execution_count": 9,
   "metadata": {},
   "outputs": [
    {
     "name": "stdout",
     "output_type": "stream",
     "text": [
      "Precisión del modelo de Árbol de Decisión en el conjunto de prueba: 0.7838258164852255\n"
     ]
    }
   ],
   "source": [
    "predictions_tree_test = model_tree.predict(features_test)\n",
    "result_tree_test = accuracy_score(target_test, predictions_tree_test)\n",
    "\n",
    "print(\"Precisión del modelo de Árbol de Decisión en el conjunto de prueba:\", result_tree_test)"
   ]
  },
  {
   "cell_type": "markdown",
   "metadata": {},
   "source": [
    "### Bosque aleatorio"
   ]
  },
  {
   "cell_type": "code",
   "execution_count": 10,
   "metadata": {},
   "outputs": [
    {
     "name": "stdout",
     "output_type": "stream",
     "text": [
      "Precisión del modelo del bosque aleatorio en el conjunto de prueba: 0.7900466562986003\n"
     ]
    }
   ],
   "source": [
    "predictions_forest_test = model_forest.predict(features_test)\n",
    "result_forest_test = accuracy_score(target_test,predictions_forest_test)\n",
    "\n",
    "print(\"Precisión del modelo del bosque aleatorio en el conjunto de prueba:\", result_forest_test)"
   ]
  },
  {
   "cell_type": "markdown",
   "metadata": {},
   "source": [
    "### Regresión logística"
   ]
  },
  {
   "cell_type": "code",
   "execution_count": 11,
   "metadata": {},
   "outputs": [
    {
     "name": "stdout",
     "output_type": "stream",
     "text": [
      "Precisión del modelo del regresión logística en el conjunto de prueba: 0.7402799377916018\n"
     ]
    }
   ],
   "source": [
    "result_regression_test = model_regression.score(features_test, target_test)\n",
    "\n",
    "print(\"Precisión del modelo del regresión logística en el conjunto de prueba:\", result_regression_test)"
   ]
  },
  {
   "cell_type": "markdown",
   "metadata": {},
   "source": [
    "### Observaciones\n",
    "\n",
    "Se realiza la prueba de calidad de los modelos utilizando el apartado de prueba para verificar que tanta exactitud tenian los modelos previamente entrenados, se observó lo siguiente:\n",
    "\n",
    "    - El modelo de árbol de decisión tuvo una exactitud en su predicción del 78.3%\n",
    "    - El modelo del bosque aleatorio tuvo una exactitud en su predicción del 79%\n",
    "    - El modelo de Regresión logística tuvo una exactitud en su predicción del 74%\n",
    "    \n",
    "Por lo que podríamos confiar más en el modelo del bosque aleatorio ha sido el más exacto."
   ]
  },
  {
   "cell_type": "markdown",
   "metadata": {},
   "source": [
    "## Prueba de cordura al modelo\n",
    "\n",
    "Se realiza una prueba de cordura al modelo por medio de un dummy clasifier, utilizando la estrategia que dió los mejores resultados, en este caso 'most_frequent'."
   ]
  },
  {
   "cell_type": "code",
   "execution_count": 12,
   "metadata": {},
   "outputs": [
    {
     "name": "stdout",
     "output_type": "stream",
     "text": [
      "Precisión del modelo Dummy en el conjunto de validación: 0.7060653188180405\n",
      "Precisión del modelo Dummy en el conjunto de prueba: 0.6842923794712286\n"
     ]
    }
   ],
   "source": [
    "dummy_model = DummyClassifier(strategy='most_frequent')\n",
    "\n",
    "dummy_model.fit(features_train, target_train)\n",
    "predictions_dummy_valid = dummy_model.predict(features_valid)\n",
    "accuracy_dummy_valid = accuracy_score(target_valid, predictions_dummy_valid)\n",
    "\n",
    "predictions_dummy_test = dummy_model.predict(features_test)\n",
    "accuracy_dummy_test = accuracy_score(target_test, predictions_dummy_test)\n",
    "\n",
    "print(\"Precisión del modelo Dummy en el conjunto de validación:\", accuracy_dummy_valid)\n",
    "print(\"Precisión del modelo Dummy en el conjunto de prueba:\", accuracy_dummy_test)"
   ]
  },
  {
   "cell_type": "markdown",
   "metadata": {},
   "source": [
    "Aún utilizando la mejor estrategia, los resultados arrojados por DummyClassifier es inferior a la calidad de nuestros modelos previamente trabajados. Logrando unicamente una precisión del 70% en el conjunto de validación y un 68% en el conjunto de prueba."
   ]
  },
  {
   "cell_type": "markdown",
   "metadata": {},
   "source": [
    "## Conclusión\n",
    "\n",
    "Se trabajó la creación de un modelo para la empresa Megaline partiendo de un documento que nos indica el comportamiento de los suscriptores que ya se han cambiado al plan nuevo. El modelo debe ser capaz de sugerir el tipo de plan que vaya mejor con los comportamientos del cliente.\n",
    "\n",
    "Al tener un solo Dataset, se dividieron los datos disponibles en 3, con la siguiente proporción:\n",
    "    - 60% dataset de entrenamiento\n",
    "    - 20% dataset de validación\n",
    "    - 20% Dataset de prueba\n",
    "\n",
    "Se entrenan 3 tipos de modelos, con una exactitud en sus predicciones de: \n",
    "    - Árbol de decisión, 78.5%\n",
    "    - Bosque aleatorio, 79.4 %\n",
    "    - Regresión logística, 75.8%\n",
    "    \n",
    "Posteriormente se realizaron los test con los datos de prueba, logrando la siguiente exactitud en las predicciones:\n",
    "    - Árbol de decisión, 78.3%\n",
    "    - Bosque aleatorio, 79 %\n",
    "    - Regresión logística, 74%\n",
    "\n",
    "Teniendo un umbral de exactitud del 75%, podríamos indicar que el tanto el árbol de decisión como el bosque aleatorio superaron el umbral indicado. El modelo de regresión logistica podría no tener la precisión que estamos esperando, pero dependiendo del la cantidad de datos que deba trabajar el modelo en un futuro, probablemente podría ser la regresión logística una alternativa.\n",
    "\n",
    "Por último, con el objetivo de realizar una prueba de cordura, se utilizó el modelo dummy, con estrategia de 'most_frequent'. Teniendo como resultado que en su conjunto de validación tuvo un 70.6% de precisión y un 68.4% de precisión en la prueba.\n",
    "Revisando así que nuestros modelos muestra un tiene un rendimiento superior al de la prueba dummy."
   ]
  }
 ],
 "metadata": {
  "kernelspec": {
   "display_name": "Python 3 (ipykernel)",
   "language": "python",
   "name": "python3"
  },
  "language_info": {
   "codemirror_mode": {
    "name": "ipython",
    "version": 3
   },
   "file_extension": ".py",
   "mimetype": "text/x-python",
   "name": "python",
   "nbconvert_exporter": "python",
   "pygments_lexer": "ipython3",
   "version": "3.9.5"
  },
  "toc": {
   "base_numbering": 1,
   "nav_menu": {},
   "number_sections": true,
   "sideBar": true,
   "skip_h1_title": true,
   "title_cell": "Table of Contents",
   "title_sidebar": "Contents",
   "toc_cell": false,
   "toc_position": {
    "height": "calc(100% - 180px)",
    "left": "10px",
    "top": "150px",
    "width": "205.6px"
   },
   "toc_section_display": true,
   "toc_window_display": true
  }
 },
 "nbformat": 4,
 "nbformat_minor": 2
}

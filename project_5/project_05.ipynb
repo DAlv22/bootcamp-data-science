{
 "cells": [
  {
   "cell_type": "markdown",
   "metadata": {},
   "source": [
    "----"
   ]
  },
  {
   "cell_type": "markdown",
   "metadata": {},
   "source": [
    "# Tienda online 'ICE'\n",
    "\n",
    "La tienda online 'ICE' proporciona los datos históricos de venta de videojuegos obtenidos hasta el 2016.\n",
    "En el presente proyecto tiene por objetivo identificar:\n",
    "   - Patrones que determinen si un juego tiene éxito o no\n",
    "\n",
    "Que a su vez nos ayudará a detectar:\n",
    "   - Proyectos prometedores \n",
    "   - Planificar campañas publicitarias"
   ]
  },
  {
   "cell_type": "code",
   "execution_count": 1,
   "metadata": {},
   "outputs": [
    {
     "name": "stdout",
     "output_type": "stream",
     "text": [
      "<class 'pandas.core.frame.DataFrame'>\n",
      "RangeIndex: 16715 entries, 0 to 16714\n",
      "Data columns (total 11 columns):\n",
      " #   Column           Non-Null Count  Dtype  \n",
      "---  ------           --------------  -----  \n",
      " 0   Name             16713 non-null  object \n",
      " 1   Platform         16715 non-null  object \n",
      " 2   Year_of_Release  16446 non-null  float64\n",
      " 3   Genre            16713 non-null  object \n",
      " 4   NA_sales         16715 non-null  float64\n",
      " 5   EU_sales         16715 non-null  float64\n",
      " 6   JP_sales         16715 non-null  float64\n",
      " 7   Other_sales      16715 non-null  float64\n",
      " 8   Critic_Score     8137 non-null   float64\n",
      " 9   User_Score       10014 non-null  object \n",
      " 10  Rating           9949 non-null   object \n",
      "dtypes: float64(6), object(5)\n",
      "memory usage: 1.4+ MB\n"
     ]
    },
    {
     "data": {
      "text/html": [
       "<div>\n",
       "<style scoped>\n",
       "    .dataframe tbody tr th:only-of-type {\n",
       "        vertical-align: middle;\n",
       "    }\n",
       "\n",
       "    .dataframe tbody tr th {\n",
       "        vertical-align: top;\n",
       "    }\n",
       "\n",
       "    .dataframe thead th {\n",
       "        text-align: right;\n",
       "    }\n",
       "</style>\n",
       "<table border=\"1\" class=\"dataframe\">\n",
       "  <thead>\n",
       "    <tr style=\"text-align: right;\">\n",
       "      <th></th>\n",
       "      <th>Name</th>\n",
       "      <th>Platform</th>\n",
       "      <th>Year_of_Release</th>\n",
       "      <th>Genre</th>\n",
       "      <th>NA_sales</th>\n",
       "      <th>EU_sales</th>\n",
       "      <th>JP_sales</th>\n",
       "      <th>Other_sales</th>\n",
       "      <th>Critic_Score</th>\n",
       "      <th>User_Score</th>\n",
       "      <th>Rating</th>\n",
       "    </tr>\n",
       "  </thead>\n",
       "  <tbody>\n",
       "    <tr>\n",
       "      <th>0</th>\n",
       "      <td>Wii Sports</td>\n",
       "      <td>Wii</td>\n",
       "      <td>2006.0</td>\n",
       "      <td>Sports</td>\n",
       "      <td>41.36</td>\n",
       "      <td>28.96</td>\n",
       "      <td>3.77</td>\n",
       "      <td>8.45</td>\n",
       "      <td>76.0</td>\n",
       "      <td>8</td>\n",
       "      <td>E</td>\n",
       "    </tr>\n",
       "    <tr>\n",
       "      <th>1</th>\n",
       "      <td>Super Mario Bros.</td>\n",
       "      <td>NES</td>\n",
       "      <td>1985.0</td>\n",
       "      <td>Platform</td>\n",
       "      <td>29.08</td>\n",
       "      <td>3.58</td>\n",
       "      <td>6.81</td>\n",
       "      <td>0.77</td>\n",
       "      <td>NaN</td>\n",
       "      <td>NaN</td>\n",
       "      <td>NaN</td>\n",
       "    </tr>\n",
       "    <tr>\n",
       "      <th>2</th>\n",
       "      <td>Mario Kart Wii</td>\n",
       "      <td>Wii</td>\n",
       "      <td>2008.0</td>\n",
       "      <td>Racing</td>\n",
       "      <td>15.68</td>\n",
       "      <td>12.76</td>\n",
       "      <td>3.79</td>\n",
       "      <td>3.29</td>\n",
       "      <td>82.0</td>\n",
       "      <td>8.3</td>\n",
       "      <td>E</td>\n",
       "    </tr>\n",
       "    <tr>\n",
       "      <th>3</th>\n",
       "      <td>Wii Sports Resort</td>\n",
       "      <td>Wii</td>\n",
       "      <td>2009.0</td>\n",
       "      <td>Sports</td>\n",
       "      <td>15.61</td>\n",
       "      <td>10.93</td>\n",
       "      <td>3.28</td>\n",
       "      <td>2.95</td>\n",
       "      <td>80.0</td>\n",
       "      <td>8</td>\n",
       "      <td>E</td>\n",
       "    </tr>\n",
       "    <tr>\n",
       "      <th>4</th>\n",
       "      <td>Pokemon Red/Pokemon Blue</td>\n",
       "      <td>GB</td>\n",
       "      <td>1996.0</td>\n",
       "      <td>Role-Playing</td>\n",
       "      <td>11.27</td>\n",
       "      <td>8.89</td>\n",
       "      <td>10.22</td>\n",
       "      <td>1.00</td>\n",
       "      <td>NaN</td>\n",
       "      <td>NaN</td>\n",
       "      <td>NaN</td>\n",
       "    </tr>\n",
       "    <tr>\n",
       "      <th>...</th>\n",
       "      <td>...</td>\n",
       "      <td>...</td>\n",
       "      <td>...</td>\n",
       "      <td>...</td>\n",
       "      <td>...</td>\n",
       "      <td>...</td>\n",
       "      <td>...</td>\n",
       "      <td>...</td>\n",
       "      <td>...</td>\n",
       "      <td>...</td>\n",
       "      <td>...</td>\n",
       "    </tr>\n",
       "    <tr>\n",
       "      <th>16710</th>\n",
       "      <td>Samurai Warriors: Sanada Maru</td>\n",
       "      <td>PS3</td>\n",
       "      <td>2016.0</td>\n",
       "      <td>Action</td>\n",
       "      <td>0.00</td>\n",
       "      <td>0.00</td>\n",
       "      <td>0.01</td>\n",
       "      <td>0.00</td>\n",
       "      <td>NaN</td>\n",
       "      <td>NaN</td>\n",
       "      <td>NaN</td>\n",
       "    </tr>\n",
       "    <tr>\n",
       "      <th>16711</th>\n",
       "      <td>LMA Manager 2007</td>\n",
       "      <td>X360</td>\n",
       "      <td>2006.0</td>\n",
       "      <td>Sports</td>\n",
       "      <td>0.00</td>\n",
       "      <td>0.01</td>\n",
       "      <td>0.00</td>\n",
       "      <td>0.00</td>\n",
       "      <td>NaN</td>\n",
       "      <td>NaN</td>\n",
       "      <td>NaN</td>\n",
       "    </tr>\n",
       "    <tr>\n",
       "      <th>16712</th>\n",
       "      <td>Haitaka no Psychedelica</td>\n",
       "      <td>PSV</td>\n",
       "      <td>2016.0</td>\n",
       "      <td>Adventure</td>\n",
       "      <td>0.00</td>\n",
       "      <td>0.00</td>\n",
       "      <td>0.01</td>\n",
       "      <td>0.00</td>\n",
       "      <td>NaN</td>\n",
       "      <td>NaN</td>\n",
       "      <td>NaN</td>\n",
       "    </tr>\n",
       "    <tr>\n",
       "      <th>16713</th>\n",
       "      <td>Spirits &amp; Spells</td>\n",
       "      <td>GBA</td>\n",
       "      <td>2003.0</td>\n",
       "      <td>Platform</td>\n",
       "      <td>0.01</td>\n",
       "      <td>0.00</td>\n",
       "      <td>0.00</td>\n",
       "      <td>0.00</td>\n",
       "      <td>NaN</td>\n",
       "      <td>NaN</td>\n",
       "      <td>NaN</td>\n",
       "    </tr>\n",
       "    <tr>\n",
       "      <th>16714</th>\n",
       "      <td>Winning Post 8 2016</td>\n",
       "      <td>PSV</td>\n",
       "      <td>2016.0</td>\n",
       "      <td>Simulation</td>\n",
       "      <td>0.00</td>\n",
       "      <td>0.00</td>\n",
       "      <td>0.01</td>\n",
       "      <td>0.00</td>\n",
       "      <td>NaN</td>\n",
       "      <td>NaN</td>\n",
       "      <td>NaN</td>\n",
       "    </tr>\n",
       "  </tbody>\n",
       "</table>\n",
       "<p>16715 rows × 11 columns</p>\n",
       "</div>"
      ],
      "text/plain": [
       "                                Name Platform  Year_of_Release         Genre  \\\n",
       "0                         Wii Sports      Wii           2006.0        Sports   \n",
       "1                  Super Mario Bros.      NES           1985.0      Platform   \n",
       "2                     Mario Kart Wii      Wii           2008.0        Racing   \n",
       "3                  Wii Sports Resort      Wii           2009.0        Sports   \n",
       "4           Pokemon Red/Pokemon Blue       GB           1996.0  Role-Playing   \n",
       "...                              ...      ...              ...           ...   \n",
       "16710  Samurai Warriors: Sanada Maru      PS3           2016.0        Action   \n",
       "16711               LMA Manager 2007     X360           2006.0        Sports   \n",
       "16712        Haitaka no Psychedelica      PSV           2016.0     Adventure   \n",
       "16713               Spirits & Spells      GBA           2003.0      Platform   \n",
       "16714            Winning Post 8 2016      PSV           2016.0    Simulation   \n",
       "\n",
       "       NA_sales  EU_sales  JP_sales  Other_sales  Critic_Score User_Score  \\\n",
       "0         41.36     28.96      3.77         8.45          76.0          8   \n",
       "1         29.08      3.58      6.81         0.77           NaN        NaN   \n",
       "2         15.68     12.76      3.79         3.29          82.0        8.3   \n",
       "3         15.61     10.93      3.28         2.95          80.0          8   \n",
       "4         11.27      8.89     10.22         1.00           NaN        NaN   \n",
       "...         ...       ...       ...          ...           ...        ...   \n",
       "16710      0.00      0.00      0.01         0.00           NaN        NaN   \n",
       "16711      0.00      0.01      0.00         0.00           NaN        NaN   \n",
       "16712      0.00      0.00      0.01         0.00           NaN        NaN   \n",
       "16713      0.01      0.00      0.00         0.00           NaN        NaN   \n",
       "16714      0.00      0.00      0.01         0.00           NaN        NaN   \n",
       "\n",
       "      Rating  \n",
       "0          E  \n",
       "1        NaN  \n",
       "2          E  \n",
       "3          E  \n",
       "4        NaN  \n",
       "...      ...  \n",
       "16710    NaN  \n",
       "16711    NaN  \n",
       "16712    NaN  \n",
       "16713    NaN  \n",
       "16714    NaN  \n",
       "\n",
       "[16715 rows x 11 columns]"
      ]
     },
     "metadata": {},
     "output_type": "display_data"
    },
    {
     "name": "stdout",
     "output_type": "stream",
     "text": [
      "       Year_of_Release      NA_sales      EU_sales      JP_sales  \\\n",
      "count     16446.000000  16715.000000  16715.000000  16715.000000   \n",
      "mean       2006.484616      0.263377      0.145060      0.077617   \n",
      "std           5.877050      0.813604      0.503339      0.308853   \n",
      "min        1980.000000      0.000000      0.000000      0.000000   \n",
      "25%        2003.000000      0.000000      0.000000      0.000000   \n",
      "50%        2007.000000      0.080000      0.020000      0.000000   \n",
      "75%        2010.000000      0.240000      0.110000      0.040000   \n",
      "max        2016.000000     41.360000     28.960000     10.220000   \n",
      "\n",
      "        Other_sales  Critic_Score  \n",
      "count  16715.000000   8137.000000  \n",
      "mean       0.047342     68.967679  \n",
      "std        0.186731     13.938165  \n",
      "min        0.000000     13.000000  \n",
      "25%        0.000000     60.000000  \n",
      "50%        0.010000     71.000000  \n",
      "75%        0.030000     79.000000  \n",
      "max       10.570000     98.000000  \n",
      "\n",
      "El número de registros duplicados es de: 0 filas\n"
     ]
    }
   ],
   "source": [
    "import pandas as pd\n",
    "import numpy as np\n",
    "from matplotlib import pyplot as plt\n",
    "from scipy import stats as st\n",
    "import seaborn as sns\n",
    "import math\n",
    "\n",
    "data_games = pd.read_csv('/datasets/games.csv')\n",
    "\n",
    "data_games.info()\n",
    "display(data_games)\n",
    "print(data_games.describe())\n",
    "print()\n",
    "print('El número de registros duplicados es de:' , data_games.duplicated().sum() ,'filas')"
   ]
  },
  {
   "cell_type": "markdown",
   "metadata": {},
   "source": [
    "## Primeras observaciones\n",
    "\n",
    "    Tenemos un dataset con las siguientes características:\n",
    "        - Registros     16,715\n",
    "        - Filas         16,714\n",
    "        - Columnas          10 \n",
    "        - Columnas con datos nulos:\n",
    "            0   Name\n",
    "            2   Year_of_Release  \n",
    "            3   Genre            \n",
    "            8   Critic_Score     \n",
    "            9   User_Score       \n",
    "            10  Rating\n",
    "    \n",
    "Para tener una mejor comprensión de los datos, se revisan el tipo de datos únicos de las columnas con datos nulos"
   ]
  },
  {
   "cell_type": "code",
   "execution_count": 2,
   "metadata": {},
   "outputs": [
    {
     "name": "stdout",
     "output_type": "stream",
     "text": [
      "Name\n",
      "['Wii Sports' 'Super Mario Bros.' 'Mario Kart Wii' ...\n",
      " 'Woody Woodpecker in Crazy Castle 5' 'LMA Manager 2007'\n",
      " 'Haitaka no Psychedelica']\n",
      "\n",
      "Year_of_Release\n",
      "[2006. 1985. 2008. 2009. 1996. 1989. 1984. 2005. 1999. 2007. 2010. 2013.\n",
      " 2004. 1990. 1988. 2002. 2001. 2011. 1998. 2015. 2012. 2014. 1992. 1997.\n",
      " 1993. 1994. 1982. 2016. 2003. 1986. 2000.   nan 1995. 1991. 1981. 1987.\n",
      " 1980. 1983.]\n",
      "\n",
      "Genre\n",
      "['Sports' 'Platform' 'Racing' 'Role-Playing' 'Puzzle' 'Misc' 'Shooter'\n",
      " 'Simulation' 'Action' 'Fighting' 'Adventure' 'Strategy' nan]\n"
     ]
    }
   ],
   "source": [
    "unique_Name = data_games['Name'].unique()\n",
    "unique_Year_of_Release = data_games['Year_of_Release'].unique()\n",
    "unique_Genre = data_games['Genre'].unique()\n",
    "\n",
    "print('Name')\n",
    "print(unique_Name)\n",
    "print()\n",
    "print('Year_of_Release')\n",
    "print(unique_Year_of_Release)\n",
    "print()\n",
    "print('Genre')\n",
    "print(unique_Genre)\n"
   ]
  },
  {
   "cell_type": "code",
   "execution_count": 3,
   "metadata": {},
   "outputs": [
    {
     "name": "stdout",
     "output_type": "stream",
     "text": [
      "Critic_Score\n",
      "[76. nan 82. 80. 89. 58. 87. 91. 61. 97. 95. 77. 88. 83. 94. 93. 85. 86.\n",
      " 98. 96. 90. 84. 73. 74. 78. 92. 71. 72. 68. 62. 49. 67. 81. 66. 56. 79.\n",
      " 70. 59. 64. 75. 60. 63. 69. 50. 25. 42. 44. 55. 48. 57. 29. 47. 65. 54.\n",
      " 20. 53. 37. 38. 33. 52. 30. 32. 43. 45. 51. 40. 46. 39. 34. 35. 41. 36.\n",
      " 28. 31. 27. 26. 19. 23. 24. 21. 17. 22. 13.]\n",
      "\n",
      "User_Score\n",
      "['8' nan '8.3' '8.5' '6.6' '8.4' '8.6' '7.7' '6.3' '7.4' '8.2' '9' '7.9'\n",
      " '8.1' '8.7' '7.1' '3.4' '5.3' '4.8' '3.2' '8.9' '6.4' '7.8' '7.5' '2.6'\n",
      " '7.2' '9.2' '7' '7.3' '4.3' '7.6' '5.7' '5' '9.1' '6.5' 'tbd' '8.8' '6.9'\n",
      " '9.4' '6.8' '6.1' '6.7' '5.4' '4' '4.9' '4.5' '9.3' '6.2' '4.2' '6' '3.7'\n",
      " '4.1' '5.8' '5.6' '5.5' '4.4' '4.6' '5.9' '3.9' '3.1' '2.9' '5.2' '3.3'\n",
      " '4.7' '5.1' '3.5' '2.5' '1.9' '3' '2.7' '2.2' '2' '9.5' '2.1' '3.6' '2.8'\n",
      " '1.8' '3.8' '0' '1.6' '9.6' '2.4' '1.7' '1.1' '0.3' '1.5' '0.7' '1.2'\n",
      " '2.3' '0.5' '1.3' '0.2' '0.6' '1.4' '0.9' '1' '9.7']\n",
      "\n",
      "Rating\n",
      "['E' nan 'M' 'T' 'E10+' 'K-A' 'AO' 'EC' 'RP']\n"
     ]
    }
   ],
   "source": [
    "unique_Critic_Score = data_games['Critic_Score'].unique()\n",
    "unique_User_Score = data_games['User_Score'].unique()\n",
    "unique_Rating = data_games['Rating'].unique()\n",
    "\n",
    "print('Critic_Score')\n",
    "print(unique_Critic_Score)\n",
    "print()\n",
    "print('User_Score')\n",
    "print(unique_User_Score)\n",
    "print()\n",
    "print('Rating')\n",
    "print(unique_Rating)"
   ]
  },
  {
   "cell_type": "markdown",
   "metadata": {},
   "source": [
    "Con base a los datos únicos de las columnas con datos ausentes, puedo hacer las siguientes observaciones:\n",
    "    \n",
    "    - El nombre de datos únicos en la columna de 'Name' son muchos, y realmente solo tenemos 2 datos ausentes, puesto que son 16713 datos no nulos contra 16715 registros. No se sustituirán esos datos nulos\n",
    "    - Los datos nulos de 'Genre' solo son 2 y no se sustituirán esos datos nulos, puesto que son mínimos\n",
    "    - Los datos nulos de 'Critic_Score' no se sustituirán los nulos para no afectar el análisis de los datos, y se mantendrá como float, para que en caso de sacar alguna media o promedio, nos lo pueda dar con detalle. Estos datos pudieran estar ausentes debido a que no se tomaron en cuenta por la comunidad de la crítica, no cumplieron algún parámetro para ser tomados en cuenta, o no se llegaba a un acuerdo\n",
    "    - Para la columna 'Rating' se revisa sus datos ausentes"
   ]
  },
  {
   "cell_type": "code",
   "execution_count": 4,
   "metadata": {},
   "outputs": [
    {
     "name": "stdout",
     "output_type": "stream",
     "text": [
      "       Critic_Score User_Score Rating\n",
      "1               NaN        NaN    NaN\n",
      "4               NaN        NaN    NaN\n",
      "5               NaN        NaN    NaN\n",
      "9               NaN        NaN    NaN\n",
      "10              NaN        NaN    NaN\n",
      "...             ...        ...    ...\n",
      "16710           NaN        NaN    NaN\n",
      "16711           NaN        NaN    NaN\n",
      "16712           NaN        NaN    NaN\n",
      "16713           NaN        NaN    NaN\n",
      "16714           NaN        NaN    NaN\n",
      "\n",
      "[6766 rows x 3 columns]\n"
     ]
    }
   ],
   "source": [
    "nan_data = data_games[['Critic_Score', 'User_Score', 'Rating']]\n",
    "rating_na = nan_data[nan_data['Rating'].isna()]\n",
    "\n",
    "print(rating_na)"
   ]
  },
  {
   "cell_type": "markdown",
   "metadata": {},
   "source": [
    "Vemos que 'Raiting' tiene datos nulos porque no tiene tampoco datos en 'Critic_Score' y 'User_Score', por lo que se entiende que están relacionados los datos que se colocan en 'Raiting' con los datos de las otras 2 columnas\n",
    "\n",
    "Las columnas donde se requiere convertir el tipo de datos en los que están creados:\n",
    "  - Para 'User_Score', nuestros datos nulos tienen una razón de ser, puesto que son el reflejo de la ausencia de datos en otras 2 columnas, por lo que los datos nulos no serán sustituidos por otro dato. La columna está identificada como tipo 'objetc' debido a que tenemos un tipo de score llamado 'tbd' que significa \"to be determined\" (a determinar), lo que quiere decir que los datos aún no están determinados o no se hay llegado a un resultado. Por lo tanto, este tipo de datos serán sustituidos por NaN y el tipo de dato de la columna se transformará por float\n",
    "  - Year_of_Release: se cambiará a dato tipo integer, puesto que es un año y no maneja decimales\n",
    "    - Verificaré que tipo de datos nulos tiene esta columna para saber si puedo sustituir los NaN con algo lógico\n",
    "        "
   ]
  },
  {
   "cell_type": "code",
   "execution_count": 5,
   "metadata": {},
   "outputs": [
    {
     "name": "stdout",
     "output_type": "stream",
     "text": [
      "[8.  nan 8.3 8.5 6.6 8.4 8.6 7.7 6.3 7.4 8.2 9.  7.9 8.1 8.7 7.1 3.4 5.3\n",
      " 4.8 3.2 8.9 6.4 7.8 7.5 2.6 7.2 9.2 7.  7.3 4.3 7.6 5.7 5.  9.1 6.5 8.8\n",
      " 6.9 9.4 6.8 6.1 6.7 5.4 4.  4.9 4.5 9.3 6.2 4.2 6.  3.7 4.1 5.8 5.6 5.5\n",
      " 4.4 4.6 5.9 3.9 3.1 2.9 5.2 3.3 4.7 5.1 3.5 2.5 1.9 3.  2.7 2.2 2.  9.5\n",
      " 2.1 3.6 2.8 1.8 3.8 0.  1.6 9.6 2.4 1.7 1.1 0.3 1.5 0.7 1.2 2.3 0.5 1.3\n",
      " 0.2 0.6 1.4 0.9 1.  9.7]\n",
      "\n",
      "Esta columna ahora tiene datos tipo: float64\n"
     ]
    }
   ],
   "source": [
    "data_games['User_Score'] = data_games['User_Score'].replace('tbd', np.NaN)\n",
    "data_games['User_Score'] = data_games['User_Score'].astype(float)\n",
    "\n",
    "print(data_games['User_Score'].unique())\n",
    "print()\n",
    "print('Esta columna ahora tiene datos tipo:' , data_games['User_Score'].dtype)"
   ]
  },
  {
   "cell_type": "code",
   "execution_count": 6,
   "metadata": {},
   "outputs": [
    {
     "name": "stdout",
     "output_type": "stream",
     "text": [
      "                                    Name Platform  Year_of_Release  \\\n",
      "183                      Madden NFL 2004      PS2              NaN   \n",
      "377                     FIFA Soccer 2004      PS2              NaN   \n",
      "456           LEGO Batman: The Videogame      Wii              NaN   \n",
      "475           wwe Smackdown vs. Raw 2006      PS2              NaN   \n",
      "609                       Space Invaders     2600              NaN   \n",
      "...                                  ...      ...              ...   \n",
      "16373  PDC World Championship Darts 2008      PSP              NaN   \n",
      "16405                      Freaky Flyers       GC              NaN   \n",
      "16448                          Inversion       PC              NaN   \n",
      "16458        Hakuouki: Shinsengumi Kitan      PS3              NaN   \n",
      "16522                       Virtua Quest       GC              NaN   \n",
      "\n",
      "              Genre  NA_sales  EU_sales  JP_sales  Other_sales  Critic_Score  \\\n",
      "183          Sports      4.26      0.26      0.01         0.71          94.0   \n",
      "377          Sports      0.59      2.36      0.04         0.51          84.0   \n",
      "456          Action      1.80      0.97      0.00         0.29          74.0   \n",
      "475        Fighting      1.57      1.02      0.00         0.41           NaN   \n",
      "609         Shooter      2.36      0.14      0.00         0.03           NaN   \n",
      "...             ...       ...       ...       ...          ...           ...   \n",
      "16373        Sports      0.01      0.00      0.00         0.00          43.0   \n",
      "16405        Racing      0.01      0.00      0.00         0.00          69.0   \n",
      "16448       Shooter      0.01      0.00      0.00         0.00          59.0   \n",
      "16458     Adventure      0.01      0.00      0.00         0.00           NaN   \n",
      "16522  Role-Playing      0.01      0.00      0.00         0.00          55.0   \n",
      "\n",
      "       User_Score Rating  \n",
      "183           8.5      E  \n",
      "377           6.4      E  \n",
      "456           7.9   E10+  \n",
      "475           NaN    NaN  \n",
      "609           NaN    NaN  \n",
      "...           ...    ...  \n",
      "16373         NaN   E10+  \n",
      "16405         6.5      T  \n",
      "16448         6.7      M  \n",
      "16458         NaN    NaN  \n",
      "16522         5.5      T  \n",
      "\n",
      "[269 rows x 11 columns]\n"
     ]
    }
   ],
   "source": [
    "year_of_release_nan = data_games[data_games['Year_of_Release'].isna()]\n",
    "print(year_of_release_nan)"
   ]
  },
  {
   "cell_type": "markdown",
   "metadata": {},
   "source": [
    "  Después de haber filtrado por los datos nulos de 'Year_of_Release' y observando la columna 'Name', podemos ver que estos datos nulos no parecierán tener alguna tendencía, pues tenemos títulos señalan diferentes años.  \n",
    "  Por lo anterior, unicamente se harán cambio en el tipo de dato de la columna a 'integer', y no se colocará nada en los datos ausentes, debido a que no hay ninguna lógica que seguir para determinar quizá algún año de referencia.\n",
    "\n",
    "    Se adecuarán los encabezados para que se muestren todo en minúsculas"
   ]
  },
  {
   "cell_type": "code",
   "execution_count": 7,
   "metadata": {},
   "outputs": [
    {
     "name": "stdout",
     "output_type": "stream",
     "text": [
      "<class 'pandas.core.frame.DataFrame'>\n",
      "RangeIndex: 16715 entries, 0 to 16714\n",
      "Data columns (total 11 columns):\n",
      " #   Column           Non-Null Count  Dtype  \n",
      "---  ------           --------------  -----  \n",
      " 0   name             16713 non-null  object \n",
      " 1   platform         16715 non-null  object \n",
      " 2   year_of_release  16446 non-null  Int64  \n",
      " 3   genre            16713 non-null  object \n",
      " 4   na_sales         16715 non-null  float64\n",
      " 5   eu_sales         16715 non-null  float64\n",
      " 6   jp_sales         16715 non-null  float64\n",
      " 7   other_sales      16715 non-null  float64\n",
      " 8   critic_score     8137 non-null   float64\n",
      " 9   user_score       7590 non-null   float64\n",
      " 10  rating           9949 non-null   object \n",
      "dtypes: Int64(1), float64(6), object(4)\n",
      "memory usage: 1.4+ MB\n"
     ]
    },
    {
     "data": {
      "text/html": [
       "<div>\n",
       "<style scoped>\n",
       "    .dataframe tbody tr th:only-of-type {\n",
       "        vertical-align: middle;\n",
       "    }\n",
       "\n",
       "    .dataframe tbody tr th {\n",
       "        vertical-align: top;\n",
       "    }\n",
       "\n",
       "    .dataframe thead th {\n",
       "        text-align: right;\n",
       "    }\n",
       "</style>\n",
       "<table border=\"1\" class=\"dataframe\">\n",
       "  <thead>\n",
       "    <tr style=\"text-align: right;\">\n",
       "      <th></th>\n",
       "      <th>name</th>\n",
       "      <th>platform</th>\n",
       "      <th>year_of_release</th>\n",
       "      <th>genre</th>\n",
       "      <th>na_sales</th>\n",
       "      <th>eu_sales</th>\n",
       "      <th>jp_sales</th>\n",
       "      <th>other_sales</th>\n",
       "      <th>critic_score</th>\n",
       "      <th>user_score</th>\n",
       "      <th>rating</th>\n",
       "    </tr>\n",
       "  </thead>\n",
       "  <tbody>\n",
       "    <tr>\n",
       "      <th>0</th>\n",
       "      <td>Wii Sports</td>\n",
       "      <td>Wii</td>\n",
       "      <td>2006</td>\n",
       "      <td>Sports</td>\n",
       "      <td>41.36</td>\n",
       "      <td>28.96</td>\n",
       "      <td>3.77</td>\n",
       "      <td>8.45</td>\n",
       "      <td>76.0</td>\n",
       "      <td>8.0</td>\n",
       "      <td>E</td>\n",
       "    </tr>\n",
       "    <tr>\n",
       "      <th>1</th>\n",
       "      <td>Super Mario Bros.</td>\n",
       "      <td>NES</td>\n",
       "      <td>1985</td>\n",
       "      <td>Platform</td>\n",
       "      <td>29.08</td>\n",
       "      <td>3.58</td>\n",
       "      <td>6.81</td>\n",
       "      <td>0.77</td>\n",
       "      <td>NaN</td>\n",
       "      <td>NaN</td>\n",
       "      <td>NaN</td>\n",
       "    </tr>\n",
       "    <tr>\n",
       "      <th>2</th>\n",
       "      <td>Mario Kart Wii</td>\n",
       "      <td>Wii</td>\n",
       "      <td>2008</td>\n",
       "      <td>Racing</td>\n",
       "      <td>15.68</td>\n",
       "      <td>12.76</td>\n",
       "      <td>3.79</td>\n",
       "      <td>3.29</td>\n",
       "      <td>82.0</td>\n",
       "      <td>8.3</td>\n",
       "      <td>E</td>\n",
       "    </tr>\n",
       "    <tr>\n",
       "      <th>3</th>\n",
       "      <td>Wii Sports Resort</td>\n",
       "      <td>Wii</td>\n",
       "      <td>2009</td>\n",
       "      <td>Sports</td>\n",
       "      <td>15.61</td>\n",
       "      <td>10.93</td>\n",
       "      <td>3.28</td>\n",
       "      <td>2.95</td>\n",
       "      <td>80.0</td>\n",
       "      <td>8.0</td>\n",
       "      <td>E</td>\n",
       "    </tr>\n",
       "    <tr>\n",
       "      <th>4</th>\n",
       "      <td>Pokemon Red/Pokemon Blue</td>\n",
       "      <td>GB</td>\n",
       "      <td>1996</td>\n",
       "      <td>Role-Playing</td>\n",
       "      <td>11.27</td>\n",
       "      <td>8.89</td>\n",
       "      <td>10.22</td>\n",
       "      <td>1.00</td>\n",
       "      <td>NaN</td>\n",
       "      <td>NaN</td>\n",
       "      <td>NaN</td>\n",
       "    </tr>\n",
       "    <tr>\n",
       "      <th>...</th>\n",
       "      <td>...</td>\n",
       "      <td>...</td>\n",
       "      <td>...</td>\n",
       "      <td>...</td>\n",
       "      <td>...</td>\n",
       "      <td>...</td>\n",
       "      <td>...</td>\n",
       "      <td>...</td>\n",
       "      <td>...</td>\n",
       "      <td>...</td>\n",
       "      <td>...</td>\n",
       "    </tr>\n",
       "    <tr>\n",
       "      <th>16710</th>\n",
       "      <td>Samurai Warriors: Sanada Maru</td>\n",
       "      <td>PS3</td>\n",
       "      <td>2016</td>\n",
       "      <td>Action</td>\n",
       "      <td>0.00</td>\n",
       "      <td>0.00</td>\n",
       "      <td>0.01</td>\n",
       "      <td>0.00</td>\n",
       "      <td>NaN</td>\n",
       "      <td>NaN</td>\n",
       "      <td>NaN</td>\n",
       "    </tr>\n",
       "    <tr>\n",
       "      <th>16711</th>\n",
       "      <td>LMA Manager 2007</td>\n",
       "      <td>X360</td>\n",
       "      <td>2006</td>\n",
       "      <td>Sports</td>\n",
       "      <td>0.00</td>\n",
       "      <td>0.01</td>\n",
       "      <td>0.00</td>\n",
       "      <td>0.00</td>\n",
       "      <td>NaN</td>\n",
       "      <td>NaN</td>\n",
       "      <td>NaN</td>\n",
       "    </tr>\n",
       "    <tr>\n",
       "      <th>16712</th>\n",
       "      <td>Haitaka no Psychedelica</td>\n",
       "      <td>PSV</td>\n",
       "      <td>2016</td>\n",
       "      <td>Adventure</td>\n",
       "      <td>0.00</td>\n",
       "      <td>0.00</td>\n",
       "      <td>0.01</td>\n",
       "      <td>0.00</td>\n",
       "      <td>NaN</td>\n",
       "      <td>NaN</td>\n",
       "      <td>NaN</td>\n",
       "    </tr>\n",
       "    <tr>\n",
       "      <th>16713</th>\n",
       "      <td>Spirits &amp; Spells</td>\n",
       "      <td>GBA</td>\n",
       "      <td>2003</td>\n",
       "      <td>Platform</td>\n",
       "      <td>0.01</td>\n",
       "      <td>0.00</td>\n",
       "      <td>0.00</td>\n",
       "      <td>0.00</td>\n",
       "      <td>NaN</td>\n",
       "      <td>NaN</td>\n",
       "      <td>NaN</td>\n",
       "    </tr>\n",
       "    <tr>\n",
       "      <th>16714</th>\n",
       "      <td>Winning Post 8 2016</td>\n",
       "      <td>PSV</td>\n",
       "      <td>2016</td>\n",
       "      <td>Simulation</td>\n",
       "      <td>0.00</td>\n",
       "      <td>0.00</td>\n",
       "      <td>0.01</td>\n",
       "      <td>0.00</td>\n",
       "      <td>NaN</td>\n",
       "      <td>NaN</td>\n",
       "      <td>NaN</td>\n",
       "    </tr>\n",
       "  </tbody>\n",
       "</table>\n",
       "<p>16715 rows × 11 columns</p>\n",
       "</div>"
      ],
      "text/plain": [
       "                                name platform  year_of_release         genre  \\\n",
       "0                         Wii Sports      Wii             2006        Sports   \n",
       "1                  Super Mario Bros.      NES             1985      Platform   \n",
       "2                     Mario Kart Wii      Wii             2008        Racing   \n",
       "3                  Wii Sports Resort      Wii             2009        Sports   \n",
       "4           Pokemon Red/Pokemon Blue       GB             1996  Role-Playing   \n",
       "...                              ...      ...              ...           ...   \n",
       "16710  Samurai Warriors: Sanada Maru      PS3             2016        Action   \n",
       "16711               LMA Manager 2007     X360             2006        Sports   \n",
       "16712        Haitaka no Psychedelica      PSV             2016     Adventure   \n",
       "16713               Spirits & Spells      GBA             2003      Platform   \n",
       "16714            Winning Post 8 2016      PSV             2016    Simulation   \n",
       "\n",
       "       na_sales  eu_sales  jp_sales  other_sales  critic_score  user_score  \\\n",
       "0         41.36     28.96      3.77         8.45          76.0         8.0   \n",
       "1         29.08      3.58      6.81         0.77           NaN         NaN   \n",
       "2         15.68     12.76      3.79         3.29          82.0         8.3   \n",
       "3         15.61     10.93      3.28         2.95          80.0         8.0   \n",
       "4         11.27      8.89     10.22         1.00           NaN         NaN   \n",
       "...         ...       ...       ...          ...           ...         ...   \n",
       "16710      0.00      0.00      0.01         0.00           NaN         NaN   \n",
       "16711      0.00      0.01      0.00         0.00           NaN         NaN   \n",
       "16712      0.00      0.00      0.01         0.00           NaN         NaN   \n",
       "16713      0.01      0.00      0.00         0.00           NaN         NaN   \n",
       "16714      0.00      0.00      0.01         0.00           NaN         NaN   \n",
       "\n",
       "      rating  \n",
       "0          E  \n",
       "1        NaN  \n",
       "2          E  \n",
       "3          E  \n",
       "4        NaN  \n",
       "...      ...  \n",
       "16710    NaN  \n",
       "16711    NaN  \n",
       "16712    NaN  \n",
       "16713    NaN  \n",
       "16714    NaN  \n",
       "\n",
       "[16715 rows x 11 columns]"
      ]
     },
     "metadata": {},
     "output_type": "display_data"
    }
   ],
   "source": [
    "data_games['Year_of_Release'] = pd.to_numeric(data_games['Year_of_Release'], errors='coerce').astype('Int64')\n",
    "data_games.columns = data_games.columns.str.lower()\n",
    "\n",
    "data_games.info()\n",
    "display(data_games)"
   ]
  },
  {
   "cell_type": "code",
   "execution_count": 8,
   "metadata": {},
   "outputs": [
    {
     "data": {
      "text/html": [
       "<div>\n",
       "<style scoped>\n",
       "    .dataframe tbody tr th:only-of-type {\n",
       "        vertical-align: middle;\n",
       "    }\n",
       "\n",
       "    .dataframe tbody tr th {\n",
       "        vertical-align: top;\n",
       "    }\n",
       "\n",
       "    .dataframe thead th {\n",
       "        text-align: right;\n",
       "    }\n",
       "</style>\n",
       "<table border=\"1\" class=\"dataframe\">\n",
       "  <thead>\n",
       "    <tr style=\"text-align: right;\">\n",
       "      <th></th>\n",
       "      <th>name</th>\n",
       "      <th>platform</th>\n",
       "      <th>year_of_release</th>\n",
       "      <th>genre</th>\n",
       "      <th>na_sales</th>\n",
       "      <th>eu_sales</th>\n",
       "      <th>jp_sales</th>\n",
       "      <th>other_sales</th>\n",
       "      <th>critic_score</th>\n",
       "      <th>user_score</th>\n",
       "      <th>rating</th>\n",
       "      <th>total_sales</th>\n",
       "    </tr>\n",
       "  </thead>\n",
       "  <tbody>\n",
       "    <tr>\n",
       "      <th>0</th>\n",
       "      <td>Wii Sports</td>\n",
       "      <td>Wii</td>\n",
       "      <td>2006</td>\n",
       "      <td>Sports</td>\n",
       "      <td>41.36</td>\n",
       "      <td>28.96</td>\n",
       "      <td>3.77</td>\n",
       "      <td>8.45</td>\n",
       "      <td>76.0</td>\n",
       "      <td>8.0</td>\n",
       "      <td>E</td>\n",
       "      <td>82.54</td>\n",
       "    </tr>\n",
       "    <tr>\n",
       "      <th>1</th>\n",
       "      <td>Super Mario Bros.</td>\n",
       "      <td>NES</td>\n",
       "      <td>1985</td>\n",
       "      <td>Platform</td>\n",
       "      <td>29.08</td>\n",
       "      <td>3.58</td>\n",
       "      <td>6.81</td>\n",
       "      <td>0.77</td>\n",
       "      <td>NaN</td>\n",
       "      <td>NaN</td>\n",
       "      <td>NaN</td>\n",
       "      <td>40.24</td>\n",
       "    </tr>\n",
       "    <tr>\n",
       "      <th>2</th>\n",
       "      <td>Mario Kart Wii</td>\n",
       "      <td>Wii</td>\n",
       "      <td>2008</td>\n",
       "      <td>Racing</td>\n",
       "      <td>15.68</td>\n",
       "      <td>12.76</td>\n",
       "      <td>3.79</td>\n",
       "      <td>3.29</td>\n",
       "      <td>82.0</td>\n",
       "      <td>8.3</td>\n",
       "      <td>E</td>\n",
       "      <td>35.52</td>\n",
       "    </tr>\n",
       "    <tr>\n",
       "      <th>3</th>\n",
       "      <td>Wii Sports Resort</td>\n",
       "      <td>Wii</td>\n",
       "      <td>2009</td>\n",
       "      <td>Sports</td>\n",
       "      <td>15.61</td>\n",
       "      <td>10.93</td>\n",
       "      <td>3.28</td>\n",
       "      <td>2.95</td>\n",
       "      <td>80.0</td>\n",
       "      <td>8.0</td>\n",
       "      <td>E</td>\n",
       "      <td>32.77</td>\n",
       "    </tr>\n",
       "    <tr>\n",
       "      <th>4</th>\n",
       "      <td>Pokemon Red/Pokemon Blue</td>\n",
       "      <td>GB</td>\n",
       "      <td>1996</td>\n",
       "      <td>Role-Playing</td>\n",
       "      <td>11.27</td>\n",
       "      <td>8.89</td>\n",
       "      <td>10.22</td>\n",
       "      <td>1.00</td>\n",
       "      <td>NaN</td>\n",
       "      <td>NaN</td>\n",
       "      <td>NaN</td>\n",
       "      <td>31.38</td>\n",
       "    </tr>\n",
       "    <tr>\n",
       "      <th>...</th>\n",
       "      <td>...</td>\n",
       "      <td>...</td>\n",
       "      <td>...</td>\n",
       "      <td>...</td>\n",
       "      <td>...</td>\n",
       "      <td>...</td>\n",
       "      <td>...</td>\n",
       "      <td>...</td>\n",
       "      <td>...</td>\n",
       "      <td>...</td>\n",
       "      <td>...</td>\n",
       "      <td>...</td>\n",
       "    </tr>\n",
       "    <tr>\n",
       "      <th>16710</th>\n",
       "      <td>Samurai Warriors: Sanada Maru</td>\n",
       "      <td>PS3</td>\n",
       "      <td>2016</td>\n",
       "      <td>Action</td>\n",
       "      <td>0.00</td>\n",
       "      <td>0.00</td>\n",
       "      <td>0.01</td>\n",
       "      <td>0.00</td>\n",
       "      <td>NaN</td>\n",
       "      <td>NaN</td>\n",
       "      <td>NaN</td>\n",
       "      <td>0.01</td>\n",
       "    </tr>\n",
       "    <tr>\n",
       "      <th>16711</th>\n",
       "      <td>LMA Manager 2007</td>\n",
       "      <td>X360</td>\n",
       "      <td>2006</td>\n",
       "      <td>Sports</td>\n",
       "      <td>0.00</td>\n",
       "      <td>0.01</td>\n",
       "      <td>0.00</td>\n",
       "      <td>0.00</td>\n",
       "      <td>NaN</td>\n",
       "      <td>NaN</td>\n",
       "      <td>NaN</td>\n",
       "      <td>0.01</td>\n",
       "    </tr>\n",
       "    <tr>\n",
       "      <th>16712</th>\n",
       "      <td>Haitaka no Psychedelica</td>\n",
       "      <td>PSV</td>\n",
       "      <td>2016</td>\n",
       "      <td>Adventure</td>\n",
       "      <td>0.00</td>\n",
       "      <td>0.00</td>\n",
       "      <td>0.01</td>\n",
       "      <td>0.00</td>\n",
       "      <td>NaN</td>\n",
       "      <td>NaN</td>\n",
       "      <td>NaN</td>\n",
       "      <td>0.01</td>\n",
       "    </tr>\n",
       "    <tr>\n",
       "      <th>16713</th>\n",
       "      <td>Spirits &amp; Spells</td>\n",
       "      <td>GBA</td>\n",
       "      <td>2003</td>\n",
       "      <td>Platform</td>\n",
       "      <td>0.01</td>\n",
       "      <td>0.00</td>\n",
       "      <td>0.00</td>\n",
       "      <td>0.00</td>\n",
       "      <td>NaN</td>\n",
       "      <td>NaN</td>\n",
       "      <td>NaN</td>\n",
       "      <td>0.01</td>\n",
       "    </tr>\n",
       "    <tr>\n",
       "      <th>16714</th>\n",
       "      <td>Winning Post 8 2016</td>\n",
       "      <td>PSV</td>\n",
       "      <td>2016</td>\n",
       "      <td>Simulation</td>\n",
       "      <td>0.00</td>\n",
       "      <td>0.00</td>\n",
       "      <td>0.01</td>\n",
       "      <td>0.00</td>\n",
       "      <td>NaN</td>\n",
       "      <td>NaN</td>\n",
       "      <td>NaN</td>\n",
       "      <td>0.01</td>\n",
       "    </tr>\n",
       "  </tbody>\n",
       "</table>\n",
       "<p>16715 rows × 12 columns</p>\n",
       "</div>"
      ],
      "text/plain": [
       "                                name platform  year_of_release         genre  \\\n",
       "0                         Wii Sports      Wii             2006        Sports   \n",
       "1                  Super Mario Bros.      NES             1985      Platform   \n",
       "2                     Mario Kart Wii      Wii             2008        Racing   \n",
       "3                  Wii Sports Resort      Wii             2009        Sports   \n",
       "4           Pokemon Red/Pokemon Blue       GB             1996  Role-Playing   \n",
       "...                              ...      ...              ...           ...   \n",
       "16710  Samurai Warriors: Sanada Maru      PS3             2016        Action   \n",
       "16711               LMA Manager 2007     X360             2006        Sports   \n",
       "16712        Haitaka no Psychedelica      PSV             2016     Adventure   \n",
       "16713               Spirits & Spells      GBA             2003      Platform   \n",
       "16714            Winning Post 8 2016      PSV             2016    Simulation   \n",
       "\n",
       "       na_sales  eu_sales  jp_sales  other_sales  critic_score  user_score  \\\n",
       "0         41.36     28.96      3.77         8.45          76.0         8.0   \n",
       "1         29.08      3.58      6.81         0.77           NaN         NaN   \n",
       "2         15.68     12.76      3.79         3.29          82.0         8.3   \n",
       "3         15.61     10.93      3.28         2.95          80.0         8.0   \n",
       "4         11.27      8.89     10.22         1.00           NaN         NaN   \n",
       "...         ...       ...       ...          ...           ...         ...   \n",
       "16710      0.00      0.00      0.01         0.00           NaN         NaN   \n",
       "16711      0.00      0.01      0.00         0.00           NaN         NaN   \n",
       "16712      0.00      0.00      0.01         0.00           NaN         NaN   \n",
       "16713      0.01      0.00      0.00         0.00           NaN         NaN   \n",
       "16714      0.00      0.00      0.01         0.00           NaN         NaN   \n",
       "\n",
       "      rating  total_sales  \n",
       "0          E        82.54  \n",
       "1        NaN        40.24  \n",
       "2          E        35.52  \n",
       "3          E        32.77  \n",
       "4        NaN        31.38  \n",
       "...      ...          ...  \n",
       "16710    NaN         0.01  \n",
       "16711    NaN         0.01  \n",
       "16712    NaN         0.01  \n",
       "16713    NaN         0.01  \n",
       "16714    NaN         0.01  \n",
       "\n",
       "[16715 rows x 12 columns]"
      ]
     },
     "metadata": {},
     "output_type": "display_data"
    }
   ],
   "source": [
    "data_games['total_sales'] = data_games['na_sales'] + data_games['eu_sales'] + data_games['jp_sales'] + data_games['other_sales']\n",
    "display(data_games)"
   ]
  },
  {
   "cell_type": "code",
   "execution_count": 9,
   "metadata": {},
   "outputs": [
    {
     "name": "stdout",
     "output_type": "stream",
     "text": [
      "['Wii' 'NES' 'GB' 'DS' 'X360' 'PS3' 'PS2' 'SNES' 'GBA' 'PS4' '3DS' 'N64'\n",
      " 'PS' 'XB' 'PC' '2600' 'PSP' 'XOne' 'WiiU' 'GC' 'GEN' 'DC' 'PSV' 'SAT'\n",
      " 'SCD' 'WS' 'NG' 'TG16' '3DO' 'GG' 'PCFX']\n"
     ]
    }
   ],
   "source": [
    "print(data_games['platform'].unique())"
   ]
  },
  {
   "cell_type": "markdown",
   "metadata": {},
   "source": [
    "## Análisis de datos\n",
    "\n",
    "Una vez preparados los datos, vamos a explorar y buscar información relevante, siempre manteniendo en mente el objetivo:\n",
    "   - Identificar patrones que determinen si un juego tiene éxito o no\n",
    "\n",
    "      Que a su vez nos ayudará a detectar:\n",
    "       -  Proyectos prometedores \n",
    "       -  Planificar campañas publicitarias\n"
   ]
  },
  {
   "cell_type": "markdown",
   "metadata": {},
   "source": [
    "Se revisará cuántos juegos fueron lanzados en diferentes años para poder determinar algun dato significativos en cada año."
   ]
  },
  {
   "cell_type": "code",
   "execution_count": 10,
   "metadata": {},
   "outputs": [
    {
     "data": {
      "image/png": "[encoded data removed]",
      "text/plain": [
       "<Figure size 864x432 with 1 Axes>"
      ]
     },
     "metadata": {
      "needs_background": "light"
     },
     "output_type": "display_data"
    }
   ],
   "source": [
    "launch_year = data_games.groupby('year_of_release')['platform'].count()\n",
    "launch_year.plot(kind='bar', figsize=(12, 6))\n",
    "plt.title('Number of games launched per year')\n",
    "plt.xlabel('Launch year')\n",
    "plt.ylabel('Number of games')\n",
    "plt.show() \n"
   ]
  },
  {
   "cell_type": "markdown",
   "metadata": {},
   "source": [
    "Se aprecia que los primeros juegos de los que este archivo tiene registro data desde los años 1980.\n",
    "\n",
    "Existe un periodo evidente que va de los años 1980 a 1990, donde tenemos un bajo número de juegos lanzados a la venta, probablemente debido a los dasarrollos técnologicos de la epoca, el costo de producción y el costo de venta al público.\n",
    "\n",
    "Para el periodo de los años 90's, se ve una alza en el lanzamiento de videojuegos, donde probablemente las mejoras técnologicas de la época, permitieron crear videojuegos de manerá mas 'sencilla', abaratando así el costo de producción y conviertiendo en más atractivos estos juegos con mejor técnología, gráficos y una mejor interfaz para el usuario.\n",
    "\n",
    "Para el periodo de años 2001 al 2007 se ve una gran incremente de lanzamiento de videojuegos, la era de los videojuegos está en su mayor auge, muy probablemente por una oferta más generalizada de consolas de juego, lo que hace mas 'accesible' al publico el poder juegar más, la oferta de juegos parece ser diversa y el número de lanzamientos de videojuegos supera al de los años anteriores y así sucesivamente alcanzando en el 2008 y 2009 su punto mas alto de lanzamientos. A partir de esta fecha, comienza una caida en la oferta de lanzamientos, pudiendo ser una consecuencia de una alta oferta que diversificaba en gran número a los consumidores, reduciendo así la rentabilidad, lealtad de los jugadores con las diferentes ofertas de videojuegos, consolidación de estudios más profesionalizados que apuestan más a la mejora de la calidad de los videojuegos y la fidelización del cliente, que al lanzamientos de nuevos videojuegos. "
   ]
  },
  {
   "cell_type": "markdown",
   "metadata": {},
   "source": [
    "Se verificará el comportamiento de ventas entre una plataforma a otra, con el fin de elegir las que cuenten con mayores ventas totales y se construirá una distribución basada en los datos de cada año."
   ]
  },
  {
   "cell_type": "code",
   "execution_count": 11,
   "metadata": {},
   "outputs": [
    {
     "data": {
      "text/plain": [
       "platform\n",
       "PS2     1255.77\n",
       "X360     971.42\n",
       "PS3      939.65\n",
       "Wii      907.51\n",
       "DS       806.12\n",
       "PS       730.86\n",
       "GBA      317.85\n",
       "PS4      314.14\n",
       "PSP      294.05\n",
       "PC       259.52\n",
       "3DS      259.00\n",
       "XB       257.74\n",
       "GB       255.46\n",
       "NES      251.05\n",
       "N64      218.68\n",
       "SNES     200.04\n",
       "GC       198.93\n",
       "XOne     159.32\n",
       "2600      96.98\n",
       "WiiU      82.19\n",
       "PSV       54.07\n",
       "SAT       33.59\n",
       "GEN       30.77\n",
       "DC        15.95\n",
       "SCD        1.86\n",
       "NG         1.44\n",
       "WS         1.42\n",
       "TG16       0.16\n",
       "3DO        0.10\n",
       "GG         0.04\n",
       "PCFX       0.03\n",
       "Name: total_sales, dtype: float64"
      ]
     },
     "metadata": {},
     "output_type": "display_data"
    }
   ],
   "source": [
    "total_sales_by_platform = data_games.groupby('platform')['total_sales'].sum()\n",
    "total_sales_by_platform = total_sales_by_platform.sort_values(ascending=False)\n",
    "display(total_sales_by_platform)"
   ]
  },
  {
   "cell_type": "markdown",
   "metadata": {},
   "source": [
    "Podemos identificar las principales plataforma "
   ]
  },
  {
   "cell_type": "code",
   "execution_count": 25,
   "metadata": {},
   "outputs": [],
   "source": [
    "main_platforms = ['PS2', 'X360', 'PS3', 'Wii', 'DS', 'PS', 'PS4', 'XOne', '3DS']\n",
    "\n",
    "filtered_data = data_games[data_games['platform'].isin(main_platforms)]\n",
    "\n",
    "pivot_data = pd.pivot_table(filtered_data, \n",
    "                           index='year_of_release', \n",
    "                           columns='platform',\n",
    "                           values='total_sales',\n",
    "                           aggfunc='sum'\n",
    "                        )"
   ]
  },
  {
   "cell_type": "code",
   "execution_count": 30,
   "metadata": {},
   "outputs": [
    {
     "data": {
      "image/png": "[encoded data removed]",
      "text/plain": [
       "<Figure size 864x432 with 2 Axes>"
      ]
     },
     "metadata": {
      "needs_background": "light"
     },
     "output_type": "display_data"
    }
   ],
   "source": [
    "plt.figure(figsize=(12,6))\n",
    "ax = sns.heatmap(pivot_data)\n",
    "ax.set(xlabel=\"Platform\", ylabel=\"Year\")\n",
    "plt.title(\"Total sales by platform\")\n",
    "plt.show()\n",
    "\n"
   ]
  },
  {
   "cell_type": "code",
   "execution_count": 31,
   "metadata": {},
   "outputs": [
    {
     "data": {
      "image/png": "[encoded data removed]",
      "text/plain": [
       "<Figure size 1080x432 with 1 Axes>"
      ]
     },
     "metadata": {
      "needs_background": "light"
     },
     "output_type": "display_data"
    }
   ],
   "source": [
    "pivot_data.plot(kind='line', figsize=(15, 6))\n",
    "plt.xlabel('Year of release')\n",
    "plt.title('Video Game Sales by Year and Platform')\n",
    "plt.ylabel('Total Sales')\n",
    "plt.grid()\n",
    "plt.show()"
   ]
  },
  {
   "cell_type": "markdown",
   "metadata": {},
   "source": [
    "Podemos obtener diferentes observaciones:\n",
    "- plataforma PS. Las plataformas PS, PS2 Y PS3, pertenecen a la misma compañia, pero fueron versiones mejoradas que fueron lanzadas al mercado con algunos años de diferencia.\n",
    "    - siendo PS la primera en ser lanzada en el año 1994 y comenzando su baja de ventas en el 99. Dejando de tener ventas en el 2004\n",
    "    - PS2, sale al mercado en el año 2000, justo en la mejor época debido a la gran alza de juegos lanzados a la venta. En esta comparativa podemos ver que incluso fue la plataforma que mejores ventas tuvo en este top. Comenzando su descenso en el 2005. Dejando de tener ventas en el 2012\n",
    "    - PS2, sale al mercado en el año 2006, si bien no le fue mal, no pudo igualar las ventas de su antecesor PS1, no podemos determinar exactamente la razón, pero muy probablemente sea porque en el año después del año 2008 comenzó una baja en el lanzamiento de nuevos juegos. Continuando con sus ventas aún en el 2016\n",
    "- Plataforma DS: vemos que fue de los precursores, pues hay un registro mínimo de venta en el año 1985, siendo su único año de venta (verificar la veracidad de este dato). Vuelve a salir a la venta 2004 y dejando de vender en el 2014.\n",
    "- Plataforma Wii: plataforma lanzada en el año 2006, teniendo su mejor año en el 2009, fue una plataforma que llegó con una propuesta innovador, que en poco tiempo fue superada por sus competidores. Las razones no se pueden saber por medio de estos datos, sin embargo, a pesar de ir descendiendo en sus ventas, es una plataforma que aún se mantiene y continua haciendo ventas aun en el 2016.\n",
    "- Plataforma X360: plataforma que es lanzada en el año 2005, cuyo pico máximo se obtiene en el 2010, ha ido disminuyendo su número de ventas, pero ha sido un descenso 'tranquilo'.\n",
    "\n",
    "Agregados extras:\n",
    "Las siguientes plataformas, se agregan después de revisar que aún cuando no son lideres de venta, sí perteneces a 2 grandes empresas lideres en el ramo, y aún continuan con ventas en el 2016:\n",
    "- Plataforma PS4: introducida al mercado en el 2013, es la sucesora de la PS3, que ofrece diferentes caracteristicas a los jugadores. Parece ser una plataforma bien recibida y a la alza.\n",
    "- Plataforma XOne:de igual forma intoducida al mercado en el 2013, viene a mejorar las caracteristicas del X360, las ventas totales de esta plataforma no fueron tan altas como la de su competidor.\n",
    "- Plataforma 3DS: lanzada al mercado como la mejora de la DS, introducida al mercado en el año 2011, no ha tenido las mejores ventas como lo habia logrado su antecesor, con un tendencia a la baja."
   ]
  },
  {
   "cell_type": "code",
   "execution_count": 32,
   "metadata": {},
   "outputs": [
    {
     "name": "stdout",
     "output_type": "stream",
     "text": [
      "          first_sale_year  last_sale_year  duration_years  year_difference\n",
      "platform                                                                  \n",
      "DS                   1985            2013              28                0\n",
      "PS                   1994            2003               9                9\n",
      "PS2                  2000            2011              11                6\n",
      "X360                 2005            2016              11                5\n",
      "PS3                  2006            2016              10                1\n",
      "Wii                  2006            2016              10                0\n",
      "3DS                  2011            2016               5                5\n",
      "PS4                  2013            2016               3                2\n",
      "XOne                 2013            2016               3                0\n",
      "\n",
      "El promedio de duración de las plataformas generando ventas es de: 7.75 años\n"
     ]
    }
   ],
   "source": [
    "first_year = pivot_data.apply(lambda x: x.first_valid_index())\n",
    "last_year = pivot_data.apply(lambda x: x.last_valid_index())\n",
    "\n",
    "duration = last_year - first_year\n",
    "\n",
    "duration_df = pd.DataFrame({'first_sale_year': first_year, 'last_sale_year': last_year, 'duration_years': duration})\n",
    "duration_df = duration_df.sort_values(by='first_sale_year', ascending=True)\n",
    "duration_df['year_difference'] = duration_df['first_sale_year'].diff().fillna(0).astype(int)\n",
    "average_life_expectancy = duration_df['duration_years'][1:].mean()\n",
    "\n",
    "\n",
    "print(duration_df)\n",
    "print()\n",
    "print('El promedio de duración de las plataformas generando ventas es de:' , average_life_expectancy , 'años')\n"
   ]
  },
  {
   "cell_type": "markdown",
   "metadata": {},
   "source": [
    "Al Analizar las plataformas con las principales ventas, podemos determinar que las plataformas más populares son obra de 3 grandes empresas, que son Nintendo, Sony y Microsoft.\n",
    "Su distribución se muestra a continuación:\n",
    "\n",
    "Nintendo:\n",
    "- 3DS: Nintendo 3DS\n",
    "- DS: Nintendo DS\n",
    "- GB: Game Boy\n",
    "- GBA: Game Boy Advance\n",
    "- GC: GameCube\n",
    "- N64: Nintendo 64\n",
    "- NES: Nintendo Entertainment System\n",
    "- SNES: Super Nintendo Entertainment System\n",
    "- Wii: Nintendo Wii\n",
    "\n",
    "Sony:\n",
    "- PS: PlayStation\n",
    "- PS2: PlayStation 2\n",
    "- PS3: PlayStation 3\n",
    "- PS4: PlayStation 4\n",
    "- PSP: PlayStation Portable\n",
    "\n",
    "Microsoft:\n",
    "- X360: Xbox 360\n",
    "- XB: Xbox\n",
    "- XOne: Xbox One\n",
    "\n",
    "Por lo que por empresa, se revisará cuanto tiempo le toma a cada empresa lanzar una nueva plataforma."
   ]
  },
  {
   "cell_type": "markdown",
   "metadata": {},
   "source": [
    "## Información por compañia"
   ]
  },
  {
   "cell_type": "markdown",
   "metadata": {},
   "source": [
    "### Nintendo\n",
    "\n",
    "- NES: Nintendo Entertainment System\n",
    "- GB: Game Boy\n",
    "- SNES: Super Nintendo Entertainment System\n",
    "- N64: Nintendo 64\n",
    "- GBA: Game Boy Advance\n",
    "- GC: GameCube\n",
    "- DS: Nintendo DS\n",
    "- Wii: Nintendo Wii\n",
    "- 3DS: Nintendo 3DS"
   ]
  },
  {
   "cell_type": "code",
   "execution_count": 33,
   "metadata": {},
   "outputs": [],
   "source": [
    "nintendo_platforms = ['Wii', 'DS', 'GBA', '3DS', 'GB', 'NES', 'N64', 'SNES', 'GC']\n",
    "\n",
    "filtered_nintendo_platforms = data_games[data_games['platform'].isin(nintendo_platforms)]\n",
    "\n",
    "nintendo_platforms_pivot_data = pd.pivot_table(filtered_nintendo_platforms, \n",
    "                                               index='year_of_release', \n",
    "                                               columns='platform',\n",
    "                                               values='total_sales',\n",
    "                                               aggfunc='sum'\n",
    "                                               )\n",
    "# display(nintendo_platforms_pivot_data)"
   ]
  },
  {
   "cell_type": "code",
   "execution_count": 34,
   "metadata": {},
   "outputs": [
    {
     "name": "stdout",
     "output_type": "stream",
     "text": [
      "          first_sale_year  last_sale_year  duration_years  year_difference\n",
      "platform                                                                  \n",
      "NES                  1983            1994              11                0\n",
      "DS                   1985            2013              28                2\n",
      "GB                   1988            2001              13                3\n",
      "SNES                 1990            1999               9                2\n",
      "N64                  1996            2002               6                6\n",
      "GBA                  2000            2007               7                4\n",
      "GC                   2001            2007               6                1\n",
      "Wii                  2006            2016              10                5\n",
      "3DS                  2011            2016               5                5\n",
      "\n",
      "Promedio de años que dura con ventas una plataforma en Nintendo: 8.0 años\n",
      "Periodo promedio entre cada lanzamiento de plataforma en Nintendo: 3.5 años\n"
     ]
    }
   ],
   "source": [
    "nintendo_first_sale_year = nintendo_platforms_pivot_data.apply(lambda x: x.first_valid_index())\n",
    "nintendo_last_sale_year = nintendo_platforms_pivot_data.apply(lambda x: x.last_valid_index())\n",
    "\n",
    "platform_nintendo_durations = nintendo_last_sale_year - nintendo_first_sale_year\n",
    "\n",
    "duration_nintendo = pd.DataFrame({'first_sale_year': nintendo_first_sale_year, 'last_sale_year': nintendo_last_sale_year, 'duration_years': platform_nintendo_durations})\n",
    "duration_nintendo = duration_nintendo.sort_values(by='first_sale_year', ascending=True)\n",
    "duration_nintendo['year_difference'] = duration_nintendo['first_sale_year'].diff().fillna(0).astype(int)\n",
    "nintendo_average_life_expectancy = duration_nintendo['duration_years'][2:].mean()\n",
    "nintendo_average_launch = duration_nintendo['year_difference'][1:].mean()\n",
    "\n",
    "print(duration_nintendo)\n",
    "print()\n",
    "print('Promedio de años que dura con ventas una plataforma en Nintendo:', nintendo_average_life_expectancy ,'años')\n",
    "print('Periodo promedio entre cada lanzamiento de plataforma en Nintendo:' , nintendo_average_launch, 'años')"
   ]
  },
  {
   "cell_type": "markdown",
   "metadata": {},
   "source": [
    "### Sony:\n",
    "\n",
    "- PS: PlayStation\n",
    "- PS2: PlayStation 2\n",
    "- PS3: PlayStation 3\n",
    "- PS4: PlayStation 4\n",
    "- PSP: PlayStation Portable"
   ]
  },
  {
   "cell_type": "code",
   "execution_count": 35,
   "metadata": {},
   "outputs": [],
   "source": [
    "sony_platforms = ['PS', 'PS2', 'PS3', 'PS4', 'PSP']\n",
    "\n",
    "filtered_sony_platforms = data_games[data_games['platform'].isin(sony_platforms)]\n",
    "\n",
    "sony_platforms_pivot_data = pd.pivot_table(filtered_sony_platforms, \n",
    "                                           index='year_of_release', \n",
    "                                           columns='platform',\n",
    "                                           values='total_sales',\n",
    "                                           aggfunc='sum'\n",
    "                                           )\n",
    "# display(sony_platforms_pivot_data)"
   ]
  },
  {
   "cell_type": "code",
   "execution_count": 36,
   "metadata": {},
   "outputs": [
    {
     "name": "stdout",
     "output_type": "stream",
     "text": [
      "          first_sale_year  last_sale_year  duration_years  year_difference\n",
      "platform                                                                  \n",
      "PS                   1994            2003               9                0\n",
      "PS2                  2000            2011              11                6\n",
      "PSP                  2004            2015              11                4\n",
      "PS3                  2006            2016              10                2\n",
      "PS4                  2013            2016               3                7\n",
      "\n",
      "Promedio de años que dura con ventas una plataforma en Nintendo: 8.8 años\n",
      "Periodo promedio entre cada lanzamiento de plataforma en Nintendo: 4.75 años\n"
     ]
    }
   ],
   "source": [
    "sony_first_sale_year = sony_platforms_pivot_data.apply(lambda x: x.first_valid_index())\n",
    "sony_last_sale_year = sony_platforms_pivot_data.apply(lambda x: x.last_valid_index())\n",
    "\n",
    "platform_sony_durations = sony_last_sale_year - sony_first_sale_year\n",
    "\n",
    "duration_sony = pd.DataFrame({'first_sale_year': sony_first_sale_year, 'last_sale_year': sony_last_sale_year, 'duration_years': platform_sony_durations})\n",
    "duration_sony = duration_sony.sort_values(by='first_sale_year', ascending=True)\n",
    "duration_sony['year_difference'] = duration_sony['first_sale_year'].diff().fillna(0).astype(int)\n",
    "sony_average_life_expectancy = duration_sony['duration_years'].mean()\n",
    "sony_average_launch = duration_sony['year_difference'][1:].mean()\n",
    "\n",
    "print(duration_sony)\n",
    "print()\n",
    "print('Promedio de años que dura con ventas una plataforma en Nintendo:', sony_average_life_expectancy ,'años')\n",
    "print('Periodo promedio entre cada lanzamiento de plataforma en Nintendo:' , sony_average_launch, 'años')"
   ]
  },
  {
   "cell_type": "markdown",
   "metadata": {},
   "source": [
    "### Microsoft:\n",
    "\n",
    "- X360: Xbox 360\n",
    "- XB: Xbox\n",
    "- XOne: Xbox One"
   ]
  },
  {
   "cell_type": "code",
   "execution_count": 37,
   "metadata": {},
   "outputs": [],
   "source": [
    "microsoft_platforms = ['X360', 'XB', 'XOne']\n",
    "\n",
    "filtered_microsoft_platforms = data_games[data_games['platform'].isin(microsoft_platforms)]\n",
    "\n",
    "microsoft_platforms_pivot_data = pd.pivot_table(filtered_microsoft_platforms, \n",
    "                                                index='year_of_release', \n",
    "                                                columns='platform',\n",
    "                                                values='total_sales',\n",
    "                                                aggfunc='sum'\n",
    "                                                )\n",
    "# display(microsoft_platforms_pivot_data)"
   ]
  },
  {
   "cell_type": "code",
   "execution_count": 38,
   "metadata": {},
   "outputs": [
    {
     "name": "stdout",
     "output_type": "stream",
     "text": [
      "          first_sale_year  last_sale_year  duration_years  year_difference\n",
      "platform                                                                  \n",
      "XB                   2000            2008               8                0\n",
      "X360                 2005            2016              11                5\n",
      "XOne                 2013            2016               3                8\n",
      "\n",
      "Promedio de años que dura con ventas una plataforma en Nintendo: 7.3 años\n",
      "Periodo promedio entre cada lanzamiento de plataforma en Nintendo: 6.5 años\n"
     ]
    }
   ],
   "source": [
    "microsoft_first_sale_year = microsoft_platforms_pivot_data.apply(lambda x: x.first_valid_index())\n",
    "microsoft_last_sale_year = microsoft_platforms_pivot_data.apply(lambda x: x.last_valid_index())\n",
    "\n",
    "platform_microsoft_durations = microsoft_last_sale_year - microsoft_first_sale_year\n",
    "\n",
    "duration_microsoft = pd.DataFrame({'first_sale_year': microsoft_first_sale_year, 'last_sale_year': microsoft_last_sale_year, 'duration_years': platform_microsoft_durations})\n",
    "duration_microsoft = duration_microsoft.sort_values(by='first_sale_year', ascending=True)\n",
    "duration_microsoft['year_difference'] = duration_microsoft['first_sale_year'].diff().fillna(0).astype(int)\n",
    "microsoft_average_life_expectancy = duration_microsoft['duration_years'].mean()\n",
    "microsoft_average_launch = duration_microsoft['year_difference'][1:].mean()\n",
    "\n",
    "print(duration_microsoft)\n",
    "print()\n",
    "print('Promedio de años que dura con ventas una plataforma en Nintendo:', microsoft_average_life_expectancy.round(1) ,'años')\n",
    "print('Periodo promedio entre cada lanzamiento de plataforma en Nintendo:' , microsoft_average_launch, 'años')"
   ]
  },
  {
   "cell_type": "markdown",
   "metadata": {},
   "source": [
    "## Conclusión particular\n",
    "\n",
    "### Nintendo:\n",
    "- Promedio de años que dura con ventas una plataforma en Nintendo: 8.0 años\n",
    "- Periodo promedio entre cada lanzamiento de plataforma en Nintendo: 3.5 años\n",
    "- Plataformas lanzadas: 9\n",
    "- Ultimo año de lanzamiento: 2011\n",
    "- Plataformas aun con venta en 2016\n",
    "  - Plataforma 3DS: con un tendencia a la baja.\n",
    "  - Plataforma Wii: con un tendencia a la baja.\n",
    "\n",
    "### Sony:\n",
    "- Promedio de años que dura con ventas una plataforma en Nintendo: 8.8 años\n",
    "- Periodo promedio entre cada lanzamiento de plataforma en Nintendo: 4.75 años\n",
    "- Plataformas lanzadas: 5\n",
    "- Último año de lanzamiento: 2013\n",
    "- Plataformas aun con venta en 2016\n",
    "  - Plataforma PS3: con un tendencia a la baja.\n",
    "  - Plataforma PS4: Parece ser una plataforma bien recibida y a la alza.\n",
    "\n",
    "### Microsoft:\n",
    "- Promedio de años que dura con ventas una plataforma en Nintendo: 7.3 años\n",
    "- Periodo promedio entre cada lanzamiento de plataforma en Nintendo: 6.5 años\n",
    "- Plataformas lanzadas:3\n",
    "- Último año de lanzamiento: 2013\n",
    "- Plataformas aun con venta en 2016\n",
    "  - Plataforma X360: con un tendencia a la baja.\n",
    "  - Plataforma XOne: con tendencia a la alza\n",
    "\n",
    "Para la elaboración de un modelo predictivo del 2017, podríamos considerar tomar una ventana de analisis de datos historicos del 2008 al 2015, esto, porque 2008 y 2009 fueron los años con mayor numero de ventas, al mismo tiempo que los datos del 2016 no parece ser certeros. Habia considerado tomar a partir del 2011, que nos indica la fecha del ultimo lanzamiento de Nintendo y el promedio de 8 años de vidas de las plataformas, sin embargo tomar los años de mayores ventas podría dar una visión mas completa sobre el posible escenario para el 2017. Consideraria las plataformas PS3, PS4, X360, XOne, 3DS y Wii, dado que fueron de las plataformas con mejores ventas, y mas populares, incluyendo 2 de cada compañia. "
   ]
  },
  {
   "cell_type": "markdown",
   "metadata": {},
   "source": [
    "## Boxplot"
   ]
  },
  {
   "cell_type": "markdown",
   "metadata": {},
   "source": [
    "Se revisan las ventas globales de todos los juegos desglosados por plataformas en el sigueinte boxplot, en ventas generales de todos los años registrados."
   ]
  },
  {
   "cell_type": "code",
   "execution_count": 39,
   "metadata": {},
   "outputs": [
    {
     "data": {
      "image/png": "[encoded data removed]",
      "text/plain": [
       "<Figure size 864x576 with 1 Axes>"
      ]
     },
     "metadata": {
      "needs_background": "light"
     },
     "output_type": "display_data"
    }
   ],
   "source": [
    "sales_by_platform = []\n",
    "plataforms = data_games['platform'].unique()\n",
    "\n",
    "for platform in plataforms:\n",
    "    ventas = data_games['total_sales'][data_games['platform'] == platform]\n",
    "    sales_by_platform.append(ventas)\n",
    "\n",
    "plt.figure(figsize=(12, 8))\n",
    "plt.boxplot(sales_by_platform, labels=plataforms)\n",
    "plt.xlabel('Plataforms')\n",
    "plt.ylabel('Global sells (millions)')\n",
    "plt.title('Global sales by platform')\n",
    "plt.xticks(rotation=90)\n",
    "plt.show()\n"
   ]
  },
  {
   "cell_type": "markdown",
   "metadata": {},
   "source": [
    "En el boxplot tenemos representados cada una de las plataformas, vemos que es complicado tener una buena visualización de los datos arrojados por el box, sin embargo podemos ver bien la representación de los datos atípicos de cada una de las plataformas, siendo el más representativo de la plataforma Wii, que sobrepasa los 80 millones en ventas totales. El siguiente dato dato atípico más alto pertenece a la plataforma NES, que logra sobrepasar por poco los 40 millones. Esto nos deja ver que alguno de los juegos de wii, tuvo un éxito de ventas sin presedentes.\n",
    "\n",
    "Para poder ver bien los datos de media, realizaremos otro tipo de representación únicamente de estos datos.\n",
    "Por otra parte, se proporciona una tabla con los datos de cada una de las plataformas con su media global de ventas "
   ]
  },
  {
   "cell_type": "code",
   "execution_count": 40,
   "metadata": {},
   "outputs": [
    {
     "data": {
      "text/html": [
       "<div>\n",
       "<style scoped>\n",
       "    .dataframe tbody tr th:only-of-type {\n",
       "        vertical-align: middle;\n",
       "    }\n",
       "\n",
       "    .dataframe tbody tr th {\n",
       "        vertical-align: top;\n",
       "    }\n",
       "\n",
       "    .dataframe thead th {\n",
       "        text-align: right;\n",
       "    }\n",
       "</style>\n",
       "<table border=\"1\" class=\"dataframe\">\n",
       "  <thead>\n",
       "    <tr style=\"text-align: right;\">\n",
       "      <th></th>\n",
       "      <th>plataform</th>\n",
       "      <th>median_global_sell</th>\n",
       "      <th>max_outlier</th>\n",
       "      <th>max_value</th>\n",
       "    </tr>\n",
       "  </thead>\n",
       "  <tbody>\n",
       "    <tr>\n",
       "      <th>0</th>\n",
       "      <td>Wii</td>\n",
       "      <td>0.190</td>\n",
       "      <td>1.08625</td>\n",
       "      <td>82.54</td>\n",
       "    </tr>\n",
       "    <tr>\n",
       "      <th>1</th>\n",
       "      <td>NES</td>\n",
       "      <td>1.375</td>\n",
       "      <td>4.05625</td>\n",
       "      <td>40.24</td>\n",
       "    </tr>\n",
       "    <tr>\n",
       "      <th>2</th>\n",
       "      <td>GB</td>\n",
       "      <td>1.165</td>\n",
       "      <td>4.95875</td>\n",
       "      <td>31.38</td>\n",
       "    </tr>\n",
       "    <tr>\n",
       "      <th>3</th>\n",
       "      <td>DS</td>\n",
       "      <td>0.110</td>\n",
       "      <td>0.60000</td>\n",
       "      <td>29.80</td>\n",
       "    </tr>\n",
       "    <tr>\n",
       "      <th>4</th>\n",
       "      <td>X360</td>\n",
       "      <td>0.280</td>\n",
       "      <td>1.72875</td>\n",
       "      <td>21.82</td>\n",
       "    </tr>\n",
       "    <tr>\n",
       "      <th>5</th>\n",
       "      <td>PS3</td>\n",
       "      <td>0.270</td>\n",
       "      <td>1.71000</td>\n",
       "      <td>21.05</td>\n",
       "    </tr>\n",
       "    <tr>\n",
       "      <th>6</th>\n",
       "      <td>PS2</td>\n",
       "      <td>0.230</td>\n",
       "      <td>1.28000</td>\n",
       "      <td>20.81</td>\n",
       "    </tr>\n",
       "    <tr>\n",
       "      <th>7</th>\n",
       "      <td>SNES</td>\n",
       "      <td>0.320</td>\n",
       "      <td>1.56000</td>\n",
       "      <td>20.62</td>\n",
       "    </tr>\n",
       "    <tr>\n",
       "      <th>8</th>\n",
       "      <td>GBA</td>\n",
       "      <td>0.160</td>\n",
       "      <td>0.89625</td>\n",
       "      <td>15.84</td>\n",
       "    </tr>\n",
       "    <tr>\n",
       "      <th>9</th>\n",
       "      <td>PS4</td>\n",
       "      <td>0.200</td>\n",
       "      <td>1.73500</td>\n",
       "      <td>14.63</td>\n",
       "    </tr>\n",
       "    <tr>\n",
       "      <th>10</th>\n",
       "      <td>3DS</td>\n",
       "      <td>0.120</td>\n",
       "      <td>0.75000</td>\n",
       "      <td>14.60</td>\n",
       "    </tr>\n",
       "    <tr>\n",
       "      <th>11</th>\n",
       "      <td>N64</td>\n",
       "      <td>0.270</td>\n",
       "      <td>1.28500</td>\n",
       "      <td>11.90</td>\n",
       "    </tr>\n",
       "    <tr>\n",
       "      <th>12</th>\n",
       "      <td>PS</td>\n",
       "      <td>0.260</td>\n",
       "      <td>1.48500</td>\n",
       "      <td>10.95</td>\n",
       "    </tr>\n",
       "    <tr>\n",
       "      <th>13</th>\n",
       "      <td>XB</td>\n",
       "      <td>0.150</td>\n",
       "      <td>0.78500</td>\n",
       "      <td>8.48</td>\n",
       "    </tr>\n",
       "    <tr>\n",
       "      <th>14</th>\n",
       "      <td>PC</td>\n",
       "      <td>0.050</td>\n",
       "      <td>0.39500</td>\n",
       "      <td>8.01</td>\n",
       "    </tr>\n",
       "    <tr>\n",
       "      <th>15</th>\n",
       "      <td>2600</td>\n",
       "      <td>0.460</td>\n",
       "      <td>1.50000</td>\n",
       "      <td>7.81</td>\n",
       "    </tr>\n",
       "    <tr>\n",
       "      <th>16</th>\n",
       "      <td>PSP</td>\n",
       "      <td>0.090</td>\n",
       "      <td>0.53000</td>\n",
       "      <td>7.68</td>\n",
       "    </tr>\n",
       "    <tr>\n",
       "      <th>17</th>\n",
       "      <td>XOne</td>\n",
       "      <td>0.220</td>\n",
       "      <td>1.62250</td>\n",
       "      <td>7.39</td>\n",
       "    </tr>\n",
       "    <tr>\n",
       "      <th>18</th>\n",
       "      <td>WiiU</td>\n",
       "      <td>0.220</td>\n",
       "      <td>1.19250</td>\n",
       "      <td>7.09</td>\n",
       "    </tr>\n",
       "    <tr>\n",
       "      <th>19</th>\n",
       "      <td>GC</td>\n",
       "      <td>0.150</td>\n",
       "      <td>0.79125</td>\n",
       "      <td>7.06</td>\n",
       "    </tr>\n",
       "    <tr>\n",
       "      <th>20</th>\n",
       "      <td>GEN</td>\n",
       "      <td>0.150</td>\n",
       "      <td>4.29500</td>\n",
       "      <td>6.02</td>\n",
       "    </tr>\n",
       "    <tr>\n",
       "      <th>21</th>\n",
       "      <td>DC</td>\n",
       "      <td>0.135</td>\n",
       "      <td>0.62750</td>\n",
       "      <td>2.41</td>\n",
       "    </tr>\n",
       "    <tr>\n",
       "      <th>22</th>\n",
       "      <td>PSV</td>\n",
       "      <td>0.055</td>\n",
       "      <td>0.29500</td>\n",
       "      <td>1.96</td>\n",
       "    </tr>\n",
       "    <tr>\n",
       "      <th>23</th>\n",
       "      <td>SAT</td>\n",
       "      <td>0.120</td>\n",
       "      <td>0.53000</td>\n",
       "      <td>1.93</td>\n",
       "    </tr>\n",
       "    <tr>\n",
       "      <th>24</th>\n",
       "      <td>SCD</td>\n",
       "      <td>0.065</td>\n",
       "      <td>0.22750</td>\n",
       "      <td>1.50</td>\n",
       "    </tr>\n",
       "    <tr>\n",
       "      <th>25</th>\n",
       "      <td>WS</td>\n",
       "      <td>0.215</td>\n",
       "      <td>0.42250</td>\n",
       "      <td>0.51</td>\n",
       "    </tr>\n",
       "    <tr>\n",
       "      <th>26</th>\n",
       "      <td>NG</td>\n",
       "      <td>0.100</td>\n",
       "      <td>0.41750</td>\n",
       "      <td>0.25</td>\n",
       "    </tr>\n",
       "    <tr>\n",
       "      <th>27</th>\n",
       "      <td>TG16</td>\n",
       "      <td>0.080</td>\n",
       "      <td>0.20000</td>\n",
       "      <td>0.14</td>\n",
       "    </tr>\n",
       "    <tr>\n",
       "      <th>28</th>\n",
       "      <td>3DO</td>\n",
       "      <td>0.020</td>\n",
       "      <td>0.07000</td>\n",
       "      <td>0.06</td>\n",
       "    </tr>\n",
       "    <tr>\n",
       "      <th>29</th>\n",
       "      <td>GG</td>\n",
       "      <td>0.040</td>\n",
       "      <td>0.04000</td>\n",
       "      <td>0.04</td>\n",
       "    </tr>\n",
       "    <tr>\n",
       "      <th>30</th>\n",
       "      <td>PCFX</td>\n",
       "      <td>0.030</td>\n",
       "      <td>0.03000</td>\n",
       "      <td>0.03</td>\n",
       "    </tr>\n",
       "  </tbody>\n",
       "</table>\n",
       "</div>"
      ],
      "text/plain": [
       "   plataform  median_global_sell  max_outlier  max_value\n",
       "0        Wii               0.190      1.08625      82.54\n",
       "1        NES               1.375      4.05625      40.24\n",
       "2         GB               1.165      4.95875      31.38\n",
       "3         DS               0.110      0.60000      29.80\n",
       "4       X360               0.280      1.72875      21.82\n",
       "5        PS3               0.270      1.71000      21.05\n",
       "6        PS2               0.230      1.28000      20.81\n",
       "7       SNES               0.320      1.56000      20.62\n",
       "8        GBA               0.160      0.89625      15.84\n",
       "9        PS4               0.200      1.73500      14.63\n",
       "10       3DS               0.120      0.75000      14.60\n",
       "11       N64               0.270      1.28500      11.90\n",
       "12        PS               0.260      1.48500      10.95\n",
       "13        XB               0.150      0.78500       8.48\n",
       "14        PC               0.050      0.39500       8.01\n",
       "15      2600               0.460      1.50000       7.81\n",
       "16       PSP               0.090      0.53000       7.68\n",
       "17      XOne               0.220      1.62250       7.39\n",
       "18      WiiU               0.220      1.19250       7.09\n",
       "19        GC               0.150      0.79125       7.06\n",
       "20       GEN               0.150      4.29500       6.02\n",
       "21        DC               0.135      0.62750       2.41\n",
       "22       PSV               0.055      0.29500       1.96\n",
       "23       SAT               0.120      0.53000       1.93\n",
       "24       SCD               0.065      0.22750       1.50\n",
       "25        WS               0.215      0.42250       0.51\n",
       "26        NG               0.100      0.41750       0.25\n",
       "27      TG16               0.080      0.20000       0.14\n",
       "28       3DO               0.020      0.07000       0.06\n",
       "29        GG               0.040      0.04000       0.04\n",
       "30      PCFX               0.030      0.03000       0.03"
      ]
     },
     "metadata": {},
     "output_type": "display_data"
    }
   ],
   "source": [
    "median_per_platform = [np.percentile(sells, 50) for sells in sales_by_platform]\n",
    "q1_p = [np.percentile(sells, 25) for sells in sales_by_platform]\n",
    "q3_p = [np.percentile(sells, 75) for sells in sales_by_platform]\n",
    "\n",
    "rest_q3_q1 = [q3 - q1 for q1, q3 in zip(q1_p, q3_p)]\n",
    "max_outlier_per_platform = [q3 + 1.5 * rest for q3, rest in zip(q3_p, rest_q3_q1)]\n",
    "\n",
    "max_value_per_platform = [np.max(sells) for sells in sales_by_platform]\n",
    "\n",
    "data_results = pd.DataFrame({'plataform': plataforms, 'median_global_sell': median_per_platform, 'max_outlier': max_outlier_per_platform, 'max_value': max_value_per_platform,})\n",
    "\n",
    "display(data_results)"
   ]
  },
  {
   "cell_type": "code",
   "execution_count": 41,
   "metadata": {},
   "outputs": [
    {
     "data": {
      "image/png": "[encoded data removed]",
      "text/plain": [
       "<Figure size 720x360 with 1 Axes>"
      ]
     },
     "metadata": {
      "needs_background": "light"
     },
     "output_type": "display_data"
    }
   ],
   "source": [
    "median_sell = data_results[['plataform', 'median_global_sell']]\n",
    "median_sell.plot(kind='bar',\n",
    "                x='plataform',\n",
    "                figsize=(10, 5),\n",
    "                title='Average sales',\n",
    "                xlabel='Plataforms',\n",
    "                ylabel='Global sells (millions)',\n",
    "                legend=False)\n",
    "\n",
    "plt.show()"
   ]
  },
  {
   "cell_type": "markdown",
   "metadata": {},
   "source": [
    "Al tener graficadas las ventas promedios de todos los registros que tenemos en nuestro dataset, podemos ver que las ventas promedios más grandes pertenecen a las plataformas de NES y GB, que pertenecen a Nintendo, de ahí podemos ver que se distribuye de una manera un poco más 'uniforme'. Sin embargo será mejor que podamos revisar los datos que anteriormente habiamos espeficicado, que sería del año 2008 al 2015"
   ]
  },
  {
   "cell_type": "code",
   "execution_count": 42,
   "metadata": {},
   "outputs": [],
   "source": [
    "dates = [2008, 2009, 2010, 2011, 2012, 2013, 2014, 2015]\n",
    "data_selected = data_games[data_games['year_of_release'].isin(dates)]\n",
    "\n",
    "# display(data_selected)"
   ]
  },
  {
   "cell_type": "code",
   "execution_count": 43,
   "metadata": {},
   "outputs": [
    {
     "data": {
      "image/png": "[encoded data removed]",
      "text/plain": [
       "<Figure size 864x576 with 1 Axes>"
      ]
     },
     "metadata": {
      "needs_background": "light"
     },
     "output_type": "display_data"
    }
   ],
   "source": [
    "sales_by_platform_2 = []\n",
    "plataforms_2 = data_selected['platform'].unique()\n",
    "\n",
    "for platform in plataforms_2:\n",
    "    sells = data_selected['total_sales'][data_selected['platform'] == platform]\n",
    "    sales_by_platform_2.append(sells)\n",
    "\n",
    "plt.figure(figsize=(12, 8))\n",
    "plt.boxplot(sales_by_platform_2, labels=plataforms_2)\n",
    "plt.xlabel('Plataforms')\n",
    "plt.ylabel('Global sells (millions)')\n",
    "plt.title('Global sales by platform')\n",
    "plt.xticks(rotation=90)\n",
    "plt.show()"
   ]
  },
  {
   "cell_type": "markdown",
   "metadata": {},
   "source": [
    "Ahora con datos seleccionados con base a los años 2008 al 2015, podemos observar una selección de plataformas más actual, donde Wii mantiene los valores atípicos más altos, seguido en este caso por X360 y PS3.\n",
    "Pese a tener datos más seleccionados, no permite ver muy bien los datos exactos proporcionado por los cuartiles del boxplot, de igualforma voy a representar el promedio de ventas en una gráfica de barras."
   ]
  },
  {
   "cell_type": "code",
   "execution_count": 44,
   "metadata": {},
   "outputs": [],
   "source": [
    "median_per_platform_2 = [np.percentile(sells_2, 50) for sells_2 in sales_by_platform_2]\n",
    "\n",
    "median_sell_2 = pd.DataFrame({'platforms': plataforms_2, 'media':median_per_platform_2})\n",
    "\n",
    "# display(median_sell_2)"
   ]
  },
  {
   "cell_type": "code",
   "execution_count": 45,
   "metadata": {},
   "outputs": [
    {
     "data": {
      "image/png": "[encoded data removed]",
      "text/plain": [
       "<Figure size 864x432 with 1 Axes>"
      ]
     },
     "metadata": {
      "needs_background": "light"
     },
     "output_type": "display_data"
    }
   ],
   "source": [
    "median_sell_2.plot(kind='bar',\n",
    "                    x= 'platforms',\n",
    "                    figsize=(12,6),\n",
    "                    title='Average sales 2008 - 2015',\n",
    "                    xlabel= 'Platforms',\n",
    "                    ylabel= 'Global sells (millions)',\n",
    "                    legend=False,\n",
    "                    )\n",
    "\n",
    "plt.show()"
   ]
  },
  {
   "cell_type": "markdown",
   "metadata": {},
   "source": [
    "Con esta respresentación, se tiene una mejor perspectiva sobre las ventas globales promedio por plataforma dentro del periodo seleccionado del 2008 al 2015.\n",
    "Podemos observar que el promedio más elevado de ventas se lo lleva la plataforma XOne, seguido del PS4, X360 y PS3. Plataformas que aun el 2016 reportaron ventas activas. Sin embargo, vemos que dentro de las principales plataformas con los promedio de ventas más altos, no sobresalen las plataformas de la compañia de Nintendo."
   ]
  },
  {
   "cell_type": "markdown",
   "metadata": {},
   "source": [
    "### PS4\n",
    "\n",
    "Vamos a revisar las críticas de usuarios, profesionales y como afectan estas las ventas de la plataforma PS4. \n",
    "Se creará un gráfico de displersión para calcular la correlación entre las reseñas y las ventas.\n",
    "\n",
    "Para hacer un mejor análisis, se crea una columna llamada critic_score_base_10 para poder tener esta columna en una base identica a la de user_score.\n",
    "Se toman en cuenta los datos de las fechas anteriormente elegidas, del 2008 al 2015.\n"
   ]
  },
  {
   "cell_type": "code",
   "execution_count": 46,
   "metadata": {},
   "outputs": [
    {
     "data": {
      "text/html": [
       "<div>\n",
       "<style scoped>\n",
       "    .dataframe tbody tr th:only-of-type {\n",
       "        vertical-align: middle;\n",
       "    }\n",
       "\n",
       "    .dataframe tbody tr th {\n",
       "        vertical-align: top;\n",
       "    }\n",
       "\n",
       "    .dataframe thead th {\n",
       "        text-align: right;\n",
       "    }\n",
       "</style>\n",
       "<table border=\"1\" class=\"dataframe\">\n",
       "  <thead>\n",
       "    <tr style=\"text-align: right;\">\n",
       "      <th></th>\n",
       "      <th>name</th>\n",
       "      <th>platform</th>\n",
       "      <th>year_of_release</th>\n",
       "      <th>genre</th>\n",
       "      <th>na_sales</th>\n",
       "      <th>eu_sales</th>\n",
       "      <th>jp_sales</th>\n",
       "      <th>other_sales</th>\n",
       "      <th>critic_score</th>\n",
       "      <th>user_score</th>\n",
       "      <th>rating</th>\n",
       "      <th>total_sales</th>\n",
       "      <th>critic_score_base_10</th>\n",
       "    </tr>\n",
       "  </thead>\n",
       "  <tbody>\n",
       "    <tr>\n",
       "      <th>31</th>\n",
       "      <td>Call of Duty: Black Ops 3</td>\n",
       "      <td>PS4</td>\n",
       "      <td>2015</td>\n",
       "      <td>Shooter</td>\n",
       "      <td>6.03</td>\n",
       "      <td>5.86</td>\n",
       "      <td>0.36</td>\n",
       "      <td>2.38</td>\n",
       "      <td>NaN</td>\n",
       "      <td>NaN</td>\n",
       "      <td>NaN</td>\n",
       "      <td>14.63</td>\n",
       "      <td>NaN</td>\n",
       "    </tr>\n",
       "    <tr>\n",
       "      <th>42</th>\n",
       "      <td>Grand Theft Auto V</td>\n",
       "      <td>PS4</td>\n",
       "      <td>2014</td>\n",
       "      <td>Action</td>\n",
       "      <td>3.96</td>\n",
       "      <td>6.31</td>\n",
       "      <td>0.38</td>\n",
       "      <td>1.97</td>\n",
       "      <td>97.0</td>\n",
       "      <td>8.3</td>\n",
       "      <td>M</td>\n",
       "      <td>12.62</td>\n",
       "      <td>9.7</td>\n",
       "    </tr>\n",
       "    <tr>\n",
       "      <th>77</th>\n",
       "      <td>FIFA 16</td>\n",
       "      <td>PS4</td>\n",
       "      <td>2015</td>\n",
       "      <td>Sports</td>\n",
       "      <td>1.12</td>\n",
       "      <td>6.12</td>\n",
       "      <td>0.06</td>\n",
       "      <td>1.28</td>\n",
       "      <td>82.0</td>\n",
       "      <td>4.3</td>\n",
       "      <td>E</td>\n",
       "      <td>8.58</td>\n",
       "      <td>8.2</td>\n",
       "    </tr>\n",
       "    <tr>\n",
       "      <th>87</th>\n",
       "      <td>Star Wars Battlefront (2015)</td>\n",
       "      <td>PS4</td>\n",
       "      <td>2015</td>\n",
       "      <td>Shooter</td>\n",
       "      <td>2.99</td>\n",
       "      <td>3.49</td>\n",
       "      <td>0.22</td>\n",
       "      <td>1.28</td>\n",
       "      <td>NaN</td>\n",
       "      <td>NaN</td>\n",
       "      <td>NaN</td>\n",
       "      <td>7.98</td>\n",
       "      <td>NaN</td>\n",
       "    </tr>\n",
       "    <tr>\n",
       "      <th>92</th>\n",
       "      <td>Call of Duty: Advanced Warfare</td>\n",
       "      <td>PS4</td>\n",
       "      <td>2014</td>\n",
       "      <td>Shooter</td>\n",
       "      <td>2.81</td>\n",
       "      <td>3.48</td>\n",
       "      <td>0.14</td>\n",
       "      <td>1.23</td>\n",
       "      <td>83.0</td>\n",
       "      <td>5.7</td>\n",
       "      <td>M</td>\n",
       "      <td>7.66</td>\n",
       "      <td>8.3</td>\n",
       "    </tr>\n",
       "    <tr>\n",
       "      <th>...</th>\n",
       "      <td>...</td>\n",
       "      <td>...</td>\n",
       "      <td>...</td>\n",
       "      <td>...</td>\n",
       "      <td>...</td>\n",
       "      <td>...</td>\n",
       "      <td>...</td>\n",
       "      <td>...</td>\n",
       "      <td>...</td>\n",
       "      <td>...</td>\n",
       "      <td>...</td>\n",
       "      <td>...</td>\n",
       "      <td>...</td>\n",
       "    </tr>\n",
       "    <tr>\n",
       "      <th>16500</th>\n",
       "      <td>Root Letter</td>\n",
       "      <td>PS4</td>\n",
       "      <td>2016</td>\n",
       "      <td>Adventure</td>\n",
       "      <td>0.00</td>\n",
       "      <td>0.00</td>\n",
       "      <td>0.01</td>\n",
       "      <td>0.00</td>\n",
       "      <td>69.0</td>\n",
       "      <td>7.5</td>\n",
       "      <td>NaN</td>\n",
       "      <td>0.01</td>\n",
       "      <td>6.9</td>\n",
       "    </tr>\n",
       "    <tr>\n",
       "      <th>16503</th>\n",
       "      <td>Shin Hayarigami 2</td>\n",
       "      <td>PS4</td>\n",
       "      <td>2016</td>\n",
       "      <td>Adventure</td>\n",
       "      <td>0.00</td>\n",
       "      <td>0.00</td>\n",
       "      <td>0.01</td>\n",
       "      <td>0.00</td>\n",
       "      <td>NaN</td>\n",
       "      <td>NaN</td>\n",
       "      <td>NaN</td>\n",
       "      <td>0.01</td>\n",
       "      <td>NaN</td>\n",
       "    </tr>\n",
       "    <tr>\n",
       "      <th>16526</th>\n",
       "      <td>Dungeons 2</td>\n",
       "      <td>PS4</td>\n",
       "      <td>2016</td>\n",
       "      <td>Role-Playing</td>\n",
       "      <td>0.01</td>\n",
       "      <td>0.00</td>\n",
       "      <td>0.00</td>\n",
       "      <td>0.00</td>\n",
       "      <td>61.0</td>\n",
       "      <td>7.9</td>\n",
       "      <td>T</td>\n",
       "      <td>0.01</td>\n",
       "      <td>6.1</td>\n",
       "    </tr>\n",
       "    <tr>\n",
       "      <th>16530</th>\n",
       "      <td>Carmageddon: Max Damage</td>\n",
       "      <td>PS4</td>\n",
       "      <td>2016</td>\n",
       "      <td>Action</td>\n",
       "      <td>0.01</td>\n",
       "      <td>0.00</td>\n",
       "      <td>0.00</td>\n",
       "      <td>0.00</td>\n",
       "      <td>51.0</td>\n",
       "      <td>5.5</td>\n",
       "      <td>M</td>\n",
       "      <td>0.01</td>\n",
       "      <td>5.1</td>\n",
       "    </tr>\n",
       "    <tr>\n",
       "      <th>16585</th>\n",
       "      <td>Farming 2017 - The Simulation</td>\n",
       "      <td>PS4</td>\n",
       "      <td>2016</td>\n",
       "      <td>Simulation</td>\n",
       "      <td>0.00</td>\n",
       "      <td>0.01</td>\n",
       "      <td>0.00</td>\n",
       "      <td>0.00</td>\n",
       "      <td>NaN</td>\n",
       "      <td>NaN</td>\n",
       "      <td>NaN</td>\n",
       "      <td>0.01</td>\n",
       "      <td>NaN</td>\n",
       "    </tr>\n",
       "  </tbody>\n",
       "</table>\n",
       "<p>392 rows × 13 columns</p>\n",
       "</div>"
      ],
      "text/plain": [
       "                                 name platform  year_of_release         genre  \\\n",
       "31          Call of Duty: Black Ops 3      PS4             2015       Shooter   \n",
       "42                 Grand Theft Auto V      PS4             2014        Action   \n",
       "77                            FIFA 16      PS4             2015        Sports   \n",
       "87       Star Wars Battlefront (2015)      PS4             2015       Shooter   \n",
       "92     Call of Duty: Advanced Warfare      PS4             2014       Shooter   \n",
       "...                               ...      ...              ...           ...   \n",
       "16500                     Root Letter      PS4             2016     Adventure   \n",
       "16503               Shin Hayarigami 2      PS4             2016     Adventure   \n",
       "16526                      Dungeons 2      PS4             2016  Role-Playing   \n",
       "16530         Carmageddon: Max Damage      PS4             2016        Action   \n",
       "16585   Farming 2017 - The Simulation      PS4             2016    Simulation   \n",
       "\n",
       "       na_sales  eu_sales  jp_sales  other_sales  critic_score  user_score  \\\n",
       "31         6.03      5.86      0.36         2.38           NaN         NaN   \n",
       "42         3.96      6.31      0.38         1.97          97.0         8.3   \n",
       "77         1.12      6.12      0.06         1.28          82.0         4.3   \n",
       "87         2.99      3.49      0.22         1.28           NaN         NaN   \n",
       "92         2.81      3.48      0.14         1.23          83.0         5.7   \n",
       "...         ...       ...       ...          ...           ...         ...   \n",
       "16500      0.00      0.00      0.01         0.00          69.0         7.5   \n",
       "16503      0.00      0.00      0.01         0.00           NaN         NaN   \n",
       "16526      0.01      0.00      0.00         0.00          61.0         7.9   \n",
       "16530      0.01      0.00      0.00         0.00          51.0         5.5   \n",
       "16585      0.00      0.01      0.00         0.00           NaN         NaN   \n",
       "\n",
       "      rating  total_sales  critic_score_base_10  \n",
       "31       NaN        14.63                   NaN  \n",
       "42         M        12.62                   9.7  \n",
       "77         E         8.58                   8.2  \n",
       "87       NaN         7.98                   NaN  \n",
       "92         M         7.66                   8.3  \n",
       "...      ...          ...                   ...  \n",
       "16500    NaN         0.01                   6.9  \n",
       "16503    NaN         0.01                   NaN  \n",
       "16526      T         0.01                   6.1  \n",
       "16530      M         0.01                   5.1  \n",
       "16585    NaN         0.01                   NaN  \n",
       "\n",
       "[392 rows x 13 columns]"
      ]
     },
     "metadata": {},
     "output_type": "display_data"
    }
   ],
   "source": [
    "\n",
    "data_games['critic_score_base_10'] = data_games['critic_score'] / 10\n",
    "data_selected_ps4 = data_games[data_games['platform'] == 'PS4']\n",
    "\n",
    "display(data_selected_ps4)"
   ]
  },
  {
   "cell_type": "code",
   "execution_count": 47,
   "metadata": {},
   "outputs": [
    {
     "data": {
      "image/png": "[encoded data removed]",
      "text/plain": [
       "<Figure size 864x360 with 2 Axes>"
      ]
     },
     "metadata": {
      "needs_background": "light"
     },
     "output_type": "display_data"
    },
    {
     "name": "stdout",
     "output_type": "stream",
     "text": [
      "Correlación entre reseñas de críticos y ventas: 0.41\n",
      "Correlación entre reseñas de usuarios y ventas: -0.03\n"
     ]
    }
   ],
   "source": [
    "plt.figure(figsize=(12, 5))\n",
    "\n",
    "plt.subplot(1, 2, 1)\n",
    "plt.scatter(data_selected_ps4['critic_score_base_10'], data_selected_ps4['total_sales'])\n",
    "plt.title('Reviews of Critics vs. Sales (PS4)')\n",
    "plt.xlabel('Critics Reviews')\n",
    "plt.ylabel('Total Sales')\n",
    "plt.grid(True)\n",
    "\n",
    "plt.subplot(1, 2, 2)\n",
    "plt.scatter(data_selected_ps4['user_score'], data_selected_ps4['total_sales'])\n",
    "plt.title('Reviews of Users vs. Sales (PS4)')\n",
    "plt.xlabel('Users Reviews')\n",
    "plt.ylabel('Total Sales')\n",
    "plt.grid(True)\n",
    "\n",
    "plt.show()\n",
    "\n",
    "correlation_critic = data_selected_ps4['critic_score_base_10'].corr(data_selected_ps4['total_sales'])\n",
    "correlation_user = data_selected_ps4['user_score'].corr(data_selected_ps4['total_sales'])\n",
    "print(f\"Correlación entre reseñas de críticos y ventas: {correlation_critic:.2f}\")\n",
    "print(f\"Correlación entre reseñas de usuarios y ventas: {correlation_user:.2f}\")"
   ]
  },
  {
   "cell_type": "markdown",
   "metadata": {},
   "source": [
    "Podemos observar que a medida que las reseñas de críticos tienden a aumentar (a ser de puntuaciones más altas), las ventas tienden a aumentar también, lo que sugiere que las buenas reseñas de críticos están relacionadas con mayores ventas.  \n",
    "\n",
    "Para la correlacion entre reseñas de usuarios y ventas vemos que no hay una relación clara o fuerte entre las reseñas de usuarios y las ventas. Las reseñas de usuarios no parecen influir significativamente en las ventas de los videojuegos.\n",
    "\n",
    "Podemos inferir que las reseñas de críticos tienen mucho más peso a la hora de influir las ventas de los videojuegos, contrario a las calificaciones de los usuarios. No podemos determinar la razón exacta, pero podríamos sospechar que las reseñas de los críticos tienes más peso y difución para el público, por lo que tiene más peso en su desición de compra. "
   ]
  },
  {
   "cell_type": "markdown",
   "metadata": {},
   "source": [
    "De igual manera podriamos obtener la correlación de las ventas y las críticas en general en la siguiente tabla:"
   ]
  },
  {
   "cell_type": "code",
   "execution_count": 48,
   "metadata": {},
   "outputs": [
    {
     "data": {
      "text/html": [
       "<div>\n",
       "<style scoped>\n",
       "    .dataframe tbody tr th:only-of-type {\n",
       "        vertical-align: middle;\n",
       "    }\n",
       "\n",
       "    .dataframe tbody tr th {\n",
       "        vertical-align: top;\n",
       "    }\n",
       "\n",
       "    .dataframe thead th {\n",
       "        text-align: right;\n",
       "    }\n",
       "</style>\n",
       "<table border=\"1\" class=\"dataframe\">\n",
       "  <thead>\n",
       "    <tr style=\"text-align: right;\">\n",
       "      <th></th>\n",
       "      <th>na_sales</th>\n",
       "      <th>eu_sales</th>\n",
       "      <th>jp_sales</th>\n",
       "      <th>other_sales</th>\n",
       "      <th>critic_score_base_10</th>\n",
       "      <th>user_score</th>\n",
       "      <th>total_sales</th>\n",
       "    </tr>\n",
       "  </thead>\n",
       "  <tbody>\n",
       "    <tr>\n",
       "      <th>na_sales</th>\n",
       "      <td>1.000000</td>\n",
       "      <td>0.785362</td>\n",
       "      <td>0.472981</td>\n",
       "      <td>0.944259</td>\n",
       "      <td>0.415008</td>\n",
       "      <td>-0.020933</td>\n",
       "      <td>0.928160</td>\n",
       "    </tr>\n",
       "    <tr>\n",
       "      <th>eu_sales</th>\n",
       "      <td>0.785362</td>\n",
       "      <td>1.000000</td>\n",
       "      <td>0.464563</td>\n",
       "      <td>0.944698</td>\n",
       "      <td>0.346720</td>\n",
       "      <td>-0.048925</td>\n",
       "      <td>0.958157</td>\n",
       "    </tr>\n",
       "    <tr>\n",
       "      <th>jp_sales</th>\n",
       "      <td>0.472981</td>\n",
       "      <td>0.464563</td>\n",
       "      <td>1.000000</td>\n",
       "      <td>0.496467</td>\n",
       "      <td>0.322358</td>\n",
       "      <td>0.171332</td>\n",
       "      <td>0.527129</td>\n",
       "    </tr>\n",
       "    <tr>\n",
       "      <th>other_sales</th>\n",
       "      <td>0.944259</td>\n",
       "      <td>0.944698</td>\n",
       "      <td>0.496467</td>\n",
       "      <td>1.000000</td>\n",
       "      <td>0.409191</td>\n",
       "      <td>-0.035639</td>\n",
       "      <td>0.998051</td>\n",
       "    </tr>\n",
       "    <tr>\n",
       "      <th>critic_score_base_10</th>\n",
       "      <td>0.415008</td>\n",
       "      <td>0.346720</td>\n",
       "      <td>0.322358</td>\n",
       "      <td>0.409191</td>\n",
       "      <td>1.000000</td>\n",
       "      <td>0.557654</td>\n",
       "      <td>0.406568</td>\n",
       "    </tr>\n",
       "    <tr>\n",
       "      <th>user_score</th>\n",
       "      <td>-0.020933</td>\n",
       "      <td>-0.048925</td>\n",
       "      <td>0.171332</td>\n",
       "      <td>-0.035639</td>\n",
       "      <td>0.557654</td>\n",
       "      <td>1.000000</td>\n",
       "      <td>-0.031957</td>\n",
       "    </tr>\n",
       "    <tr>\n",
       "      <th>total_sales</th>\n",
       "      <td>0.928160</td>\n",
       "      <td>0.958157</td>\n",
       "      <td>0.527129</td>\n",
       "      <td>0.998051</td>\n",
       "      <td>0.406568</td>\n",
       "      <td>-0.031957</td>\n",
       "      <td>1.000000</td>\n",
       "    </tr>\n",
       "  </tbody>\n",
       "</table>\n",
       "</div>"
      ],
      "text/plain": [
       "                      na_sales  eu_sales  jp_sales  other_sales  \\\n",
       "na_sales              1.000000  0.785362  0.472981     0.944259   \n",
       "eu_sales              0.785362  1.000000  0.464563     0.944698   \n",
       "jp_sales              0.472981  0.464563  1.000000     0.496467   \n",
       "other_sales           0.944259  0.944698  0.496467     1.000000   \n",
       "critic_score_base_10  0.415008  0.346720  0.322358     0.409191   \n",
       "user_score           -0.020933 -0.048925  0.171332    -0.035639   \n",
       "total_sales           0.928160  0.958157  0.527129     0.998051   \n",
       "\n",
       "                      critic_score_base_10  user_score  total_sales  \n",
       "na_sales                          0.415008   -0.020933     0.928160  \n",
       "eu_sales                          0.346720   -0.048925     0.958157  \n",
       "jp_sales                          0.322358    0.171332     0.527129  \n",
       "other_sales                       0.409191   -0.035639     0.998051  \n",
       "critic_score_base_10              1.000000    0.557654     0.406568  \n",
       "user_score                        0.557654    1.000000    -0.031957  \n",
       "total_sales                       0.406568   -0.031957     1.000000  "
      ]
     },
     "metadata": {},
     "output_type": "display_data"
    }
   ],
   "source": [
    "columns_of_interest = ['na_sales', 'eu_sales', 'jp_sales', 'other_sales', 'critic_score_base_10', 'user_score', 'total_sales']\n",
    "ps4_data = data_selected_ps4[columns_of_interest]\n",
    "\n",
    "display(ps4_data.corr())"
   ]
  },
  {
   "cell_type": "markdown",
   "metadata": {},
   "source": [
    "Con base a lo anterior, revisaremos las ventas que tuvieron los mismos juegos que se vendieron en PS4 pero para otras plataformas."
   ]
  },
  {
   "cell_type": "code",
   "execution_count": 49,
   "metadata": {},
   "outputs": [],
   "source": [
    "selected_games = data_selected_ps4['name'].unique()\n",
    "platforms_selected_games = data_games[data_games['name'].isin(selected_games)]\n",
    "\n",
    "# display(platforms_selected_games)"
   ]
  },
  {
   "cell_type": "code",
   "execution_count": 50,
   "metadata": {},
   "outputs": [
    {
     "data": {
      "image/png": "[encoded data removed]",
      "text/plain": [
       "<Figure size 864x432 with 1 Axes>"
      ]
     },
     "metadata": {
      "needs_background": "light"
     },
     "output_type": "display_data"
    }
   ],
   "source": [
    "plt.figure(figsize=(12, 6))\n",
    "plt.bar(platforms_selected_games['platform'], platforms_selected_games['total_sales'])\n",
    "plt.xlabel('Platforms')\n",
    "plt.ylabel('Total sales (millions)')\n",
    "plt.title('Total Sales by Platform')\n",
    "plt.xticks(rotation=45)\n",
    "\n",
    "plt.show()"
   ]
  },
  {
   "cell_type": "markdown",
   "metadata": {},
   "source": [
    "En el gráfico se observa que, considerando los mismos juegos que fueron analizados en PS4, el volumen de ventas para las diferentes plataformas es considerablemente diferente. Esto quiere decir que los mismos juegos se vendieron más en PS3 que en PS2, o que que X360 vendió más que XOne. Las diferencias de ventas podría estar influenciado por el tiempo, debido a que en el rango de tiempo considerado, una plataforma podría estar por salir de circulación, o bien que requerimiento de los juegos más modernos, ya no pueden ser ejecutados por el hardware de la plataforma más antigua y por ello, tener menor ventas. De igual manera es importante recordar que no todos los juegos se vendian para todas las plataformas, lo que también podría ser una diferencia a la hora de ver la venta total por plataforma."
   ]
  },
  {
   "cell_type": "markdown",
   "metadata": {},
   "source": [
    "Para ver como se comportan algunos juego revisaremos 2 de los más populares en PS4, cuyos datos son:\n",
    "\n",
    "| Game | User Score | Critic Score base 10 |\n",
    "| --- | --- | --- |\n",
    "| Grand Theft Auto V | 8.3 | 9.7 |\n",
    "| Call of Duty: Advanced Warfare | 5.7 | 8.3 |\n",
    "\n",
    "\n",
    "\n"
   ]
  },
  {
   "cell_type": "code",
   "execution_count": 51,
   "metadata": {},
   "outputs": [],
   "source": [
    "gta_v = platforms_selected_games[platforms_selected_games['name'] == 'Grand Theft Auto V']\n",
    "cod_aw = platforms_selected_games[platforms_selected_games['name'] == 'Call of Duty: Advanced Warfare']\n",
    "# display(gta_v)\n",
    "# display(cod_aw)"
   ]
  },
  {
   "cell_type": "code",
   "execution_count": 52,
   "metadata": {},
   "outputs": [
    {
     "data": {
      "image/png": "[encoded data removed]",
      "text/plain": [
       "<Figure size 864x432 with 2 Axes>"
      ]
     },
     "metadata": {
      "needs_background": "light"
     },
     "output_type": "display_data"
    }
   ],
   "source": [
    "plt.figure(figsize=(12, 6))\n",
    "\n",
    "plt.subplot(1, 2, 1)\n",
    "plt.bar(gta_v['platform'], gta_v['total_sales'])\n",
    "plt.title('Sales of Grand Theft Auto V by platform')\n",
    "plt.xlabel('Platform')\n",
    "plt.ylabel('Total Sales (millions)')\n",
    "\n",
    "plt.subplot(1, 2, 2)  \n",
    "plt.bar(cod_aw['platform'], cod_aw['total_sales'])\n",
    "plt.title('Sales Call of Duty: Advanced Warfare by platform')\n",
    "plt.xlabel('Platform')\n",
    "plt.ylabel('Total Sales (millions)')\n",
    "\n",
    "\n",
    "plt.show()"
   ]
  },
  {
   "cell_type": "markdown",
   "metadata": {},
   "source": [
    "Al analizar las ventas del mismo juego para las diferentes plataformas podemos ver lo siguiente:\n",
    "- Grand Theft Auto V: Vemos que la mayores ventas están registadas para PS3 seguido de X360. Posteriormente PS4 y XOne, lo que hace pensar sobre el año de lanzamiento de este juego. Su año de lanzamiento fue en el 2013, año donde efectivamente las plataformas PS3 y X360 ya era plataformas consolidadas y PS4 y XOne serían lanzadas en el año 2014, un año después del lanzamiento del propio juego. Las ventas para PC no son tan altas como lo son para consolas portables.\n",
    "- Call of Duty: Advanced Warfare: Para este juego vemos lo contrario, ventas más altas para PS4 y XOne y más bajas para PS3 y X360. Este juego fue lanzado a finales del año 2014, año de lanzamiento de las plataformas PS4 y XOne, las plataformas PS3 y X360 ya van de salida, y se podría revisar si en el lanzamiento de las plataformas del 2014, venia incluido este juego como una 'promoción' y si esto fue considerado para el número de ventas.\n",
    "\n",
    "Para ambos juegos, vemos que no tuvieron ventas para plataformas en Nintendo, unicamente para Microsoft y para Sony."
   ]
  },
  {
   "cell_type": "markdown",
   "metadata": {},
   "source": [
    "Se revisa la distribución general de los juegos por género. \n",
    "Para ello se revisarán las ventas generales de toda la informacion que nos proporciona nuestro dataframe y también el que hemos filtrado por el periodo de años previamente estudiado (2008-2015)."
   ]
  },
  {
   "cell_type": "code",
   "execution_count": 53,
   "metadata": {},
   "outputs": [],
   "source": [
    "genre_sales = data_games.groupby('genre')['total_sales'].sum()\n",
    "genre_sales = genre_sales.sort_values(ascending=False)\n",
    "\n",
    "genre_sales_period = data_selected.groupby('genre')['total_sales'].sum()\n",
    "genre_sales_period = genre_sales_period.sort_values(ascending=False)"
   ]
  },
  {
   "cell_type": "code",
   "execution_count": 54,
   "metadata": {},
   "outputs": [
    {
     "data": {
      "image/png": "[encoded data removed]",
      "text/plain": [
       "<Figure size 864x432 with 2 Axes>"
      ]
     },
     "metadata": {
      "needs_background": "light"
     },
     "output_type": "display_data"
    }
   ],
   "source": [
    "plt.figure(figsize=(12, 6))\n",
    "\n",
    "plt.subplot(1, 2, 1)\n",
    "genre_sales.plot(kind='bar')\n",
    "plt.title('Total sales by genre General')\n",
    "plt.xlabel('Genre')\n",
    "plt.ylabel('Total Sales (millions)')\n",
    "plt.xticks(rotation=90)\n",
    "\n",
    "\n",
    "plt.subplot(1, 2, 2)\n",
    "genre_sales_period.plot(kind='bar')\n",
    "plt.title('Total sales by genre (2008 - 2015)')\n",
    "plt.xlabel('Genre')\n",
    "plt.ylabel('Total sales (millions)')\n",
    "plt.xticks(rotation=90)\n",
    "\n",
    "plt.show()\n",
    "\n"
   ]
  },
  {
   "cell_type": "markdown",
   "metadata": {},
   "source": [
    "Se observa que tanto en el los datos generales como en los datos filtrados por fecha (2008 - 2015) el rey de las ventas es el genero de acción.\n",
    "Posteriormente se observa que yendo más hacia lo actual, los videojuegos del genero shooter han superado en ventas a los videojuegos de deportes. \n",
    "Podemos considerar dentrop del Top 4 en ambos gráficos a los siguientes generos:\n",
    "- Action\n",
    "- Shooter\n",
    "- Sports\n",
    "- Role Playing\n",
    "\n",
    "Se observa que estos generos no se despegan de los primeros lugares. Valdría la pena, saber el genero de los principales consumidores de videojuegos, puesto que esto podría darnos más detalles sobre cómo manejar la publicidad que se quiere realizar por parte de la tienda.\n",
    "\n",
    "Después del top 4, vemos que el orden de los generos varia, subiendo en ventas el genero de Miscelaneos, Racing, simulation, Adventure y fighting, bajando Platform, strategy y puzzle.\n",
    "\n",
    "Se podría suponer de los generos que están en los últimos lugares, que son menos populares debido a que el usuario podría 'detener' su avence si es que no logra 'pasar' el nivel en el que se encuentra. Lo que podría general frustación. Contrario a los que vemos en los primeros lugares que son más 'abiertos' a las posibilidades. "
   ]
  },
  {
   "cell_type": "markdown",
   "metadata": {},
   "source": [
    "Se analiza a detalle el promedio de ventas por título para cada género del periodo seleccionado (2008-2015)"
   ]
  },
  {
   "cell_type": "code",
   "execution_count": 68,
   "metadata": {},
   "outputs": [
    {
     "data": {
      "image/png": "[encoded data removed]",
      "text/plain": [
       "<Figure size 864x432 with 1 Axes>"
      ]
     },
     "metadata": {
      "needs_background": "light"
     },
     "output_type": "display_data"
    }
   ],
   "source": [
    "genre_grouped = data_selected.groupby('genre')\n",
    "avg_sales_per_title = genre_grouped['total_sales'].mean()\n",
    "\n",
    "plt.figure(figsize=(12, 6))\n",
    "avg_sales_per_title.sort_values(ascending=False).plot(kind='bar')\n",
    "plt.title('Average sales per title for each genre 2008-2015')\n",
    "plt.xlabel('Genre')\n",
    "plt.ylabel('Average sales per title')\n",
    "plt.show()"
   ]
  },
  {
   "cell_type": "markdown",
   "metadata": {},
   "source": [
    "Al revisar el promedio de ventas por género, vemos un cambio significativo en el posicionamiento de los géneros. Colocando en primera posición a los juegos del género Shooter, bajando al genero de Action a la sexta posición. En general al revisar las posiciones, existen varios cambios. Esto sugiere que, se pueden tener generos con una venta muy alta, probablemente porque se tuvo algun juego súper exitoso, pero a la hora de promediar las ventas, el promedio puede ser más bajo que otros géneros, debido a una variabilidad en los niveles de éxito individual de otros juegos. Lo que se tiene que tener presente a la hora de la toma de desiciones. \n"
   ]
  },
  {
   "cell_type": "markdown",
   "metadata": {},
   "source": [
    "# Perfil de usuario por región\n",
    "\n",
    "Se creará un perfil de usuario por región (NA, UE, JP):\n",
    "- NA = Norteamérica\n",
    "- UE = Europa\n",
    "- JP = Japón\n",
    "  \n",
    "Se averiguará cuales son las principales 5 plataformas por región a su vez, se averiguará cuáles son los principales 5 generos por región."
   ]
  },
  {
   "cell_type": "markdown",
   "metadata": {},
   "source": [
    "### Pricipales 5 plataformas por región\n",
    "Para considerar en la notación:\n",
    "- NA = Norteamérica\n",
    "- UE = Europa\n",
    "- JP = Japón"
   ]
  },
  {
   "cell_type": "code",
   "execution_count": 55,
   "metadata": {},
   "outputs": [
    {
     "data": {
      "text/plain": [
       "<Figure size 864x432 with 0 Axes>"
      ]
     },
     "metadata": {},
     "output_type": "display_data"
    },
    {
     "data": {
      "image/png": "[encoded data removed]",
      "text/plain": [
       "<Figure size 432x288 with 1 Axes>"
      ]
     },
     "metadata": {
      "needs_background": "light"
     },
     "output_type": "display_data"
    }
   ],
   "source": [
    "main_platform_na = data_games.groupby('platform')['na_sales'].sum().sort_values(ascending=False).head(5)\n",
    "main_platform_ue = data_games.groupby('platform')['eu_sales'].sum().sort_values(ascending=False).head(5)\n",
    "main_platform_jp = data_games.groupby('platform')['jp_sales'].sum().sort_values(ascending=False).head(5)\n",
    "\n",
    "top_platforms = pd.concat([main_platform_na, main_platform_ue, main_platform_jp], axis=1)\n",
    "top_platforms.columns = ['NA Sales', 'EU Sales', 'JP Sales']\n",
    "\n",
    "plt.figure(figsize=(12,6))\n",
    "top_platforms.plot(kind='bar')\n",
    "plt.title('Main Platforms by region')\n",
    "plt.xlabel('Platform')\n",
    "plt.ylabel('Sales (millions)')\n",
    "plt.xticks(rotation=45)\n",
    "\n",
    "plt.show()"
   ]
  },
  {
   "cell_type": "markdown",
   "metadata": {},
   "source": [
    "Una vez obtenido las principales plataformas por región, podemos observar que las principales ventas se lleva a cabo en la región de Norte América, seguido por Europa y al finalizar por Japón.\n",
    "\n",
    "Esto podría sustentarse que las ventas de japón representan las ventas de un solo país, mientras que Europa y Norte América podrían abarcar más paises y por lo tanto más venta.\n",
    "\n",
    "- Para la región de NA, vemos una preferencia hacia X360, pero seguida muy de cerca del PS2. La precencia de Wii en la región tuvo una buena acogida.\n",
    "- Para la región de EU, hay una clara preferencia por las plataformas de PlayStation(PS), tanto en su versión 1, 2, y 3, seguidos por X360 y Wii.\n",
    "- Para Japón, vemos un comportamiento particular, puesto que vemos en los primeros lugares plataformas de Sony y Nintendo, pero no de Microsoft, esto podría ser influenciado por que el mercado japones es un mercado más nacionalista, que suele preferir consumir lo 'local', y al ser Sony y Nintendo, compañias japonesas y Microsoft una compañia estadounidense, dan preferencia a las plataformas de empresas japonesas. Dentro de esto, las plataformas DS, PS2 y PS están a la cabeza, muy seguidas por las plataformas SNES y 3DS."
   ]
  },
  {
   "cell_type": "markdown",
   "metadata": {},
   "source": [
    "### Pricipales 5 generos por región\n",
    "Para considerar en la notación:\n",
    "- NA = Norteamérica\n",
    "- UE = Europa\n",
    "- JP = Japón"
   ]
  },
  {
   "cell_type": "code",
   "execution_count": 56,
   "metadata": {},
   "outputs": [
    {
     "data": {
      "text/plain": [
       "<Figure size 864x432 with 0 Axes>"
      ]
     },
     "metadata": {},
     "output_type": "display_data"
    },
    {
     "data": {
      "image/png": "[encoded data removed]",
      "text/plain": [
       "<Figure size 432x288 with 1 Axes>"
      ]
     },
     "metadata": {
      "needs_background": "light"
     },
     "output_type": "display_data"
    }
   ],
   "source": [
    "main_genre_na = data_games.groupby('genre')['na_sales'].sum().sort_values(ascending=False).head(5)\n",
    "main_genre_ue = data_games.groupby('genre')['eu_sales'].sum().sort_values(ascending=False).head(5)\n",
    "main_genre_jp = data_games.groupby('genre')['jp_sales'].sum().sort_values(ascending=False).head(5)\n",
    "\n",
    "top_genre = pd.concat([main_genre_na, main_genre_ue, main_genre_jp], axis=1)\n",
    "top_genre.columns = ['NA Sales', 'EU Sales', 'JP Sales']\n",
    "\n",
    "plt.figure(figsize=(12,6))\n",
    "top_genre.plot(kind='bar')\n",
    "plt.title('Main genre by region')\n",
    "plt.xlabel('Genre')\n",
    "plt.ylabel('Sales (millions)')\n",
    "plt.xticks(rotation=45)\n",
    "\n",
    "plt.show()"
   ]
  },
  {
   "cell_type": "markdown",
   "metadata": {},
   "source": [
    "Con base al gráfico que representa los generos más vendidos en cada región, podemos ver lo siguiente:\n",
    "- El género preferido en la region de NA y EU es el genero de acción,seguido de los deportes y los juegos de Shooter.\n",
    "- Po otro lado, el género preferido para la región de japón son los juegos de Role-Playing, que cabe resaltar, se posiciona como favorito con una diferencia significativa del resto de géneros. Puesto que generos de acción, deportes y platform, se encuentrar en un nivel de ventas similar, dejando al final al genero miscelaneo.\n",
    "- El género racing es más popular unicamente en la región de EU\n",
    "- El género de  miscelaneos se posiciona con el lugar 5 para las 3 regiones.\n",
    "- El genero platform es bien recibido en NA y japón, pero no es de mucho interés para la región de EU"
   ]
  },
  {
   "cell_type": "markdown",
   "metadata": {},
   "source": [
    "## Clasificación ESRB\n",
    "\n",
    "Como notación el ESRB (Entertainment Software Rating Board) se encarga de clasificar el contenido de videojuegos y aplicacione con el fin de recomendar la edad y la madurez recomendadas que los jugadores deben tener para saber si es apto o no para la utilización del juego y/o aplicación. \n",
    "\n",
    "- E (Everyone): Apto para todos\n",
    "- E10+ (Everyone 10 and Older): Apto para mayores de 10 años\n",
    "- EC (Early Childhood): Apto para niños pequeños\n",
    "- K-A (Kids to Adults)\n",
    "- T (Teen): Adolescentes\n",
    "- M (Mature): Para adultos\n",
    "- AO (Adults Only): Solo para adultos\n",
    "- RP (Rating Pending): Clasificación pendiente\n",
    "\n",
    "Para saber si las clasificaciones de ESRB afecta a las ventas por regiones individuales, se realizará un gráfico de barras que nos ayude a verificar esto."
   ]
  },
  {
   "cell_type": "code",
   "execution_count": 57,
   "metadata": {},
   "outputs": [
    {
     "data": {
      "text/plain": [
       "<Figure size 864x432 with 0 Axes>"
      ]
     },
     "metadata": {},
     "output_type": "display_data"
    },
    {
     "data": {
      "image/png": "[encoded data removed]",
      "text/plain": [
       "<Figure size 432x288 with 1 Axes>"
      ]
     },
     "metadata": {
      "needs_background": "light"
     },
     "output_type": "display_data"
    }
   ],
   "source": [
    "rating_na = data_games.groupby('rating')['na_sales'].sum()\n",
    "rating_ue = data_games.groupby('rating')['eu_sales'].sum()\n",
    "rating_jp = data_games.groupby('rating')['jp_sales'].sum()\n",
    "\n",
    "rating_by_region = pd.concat([rating_na, rating_ue, rating_jp], axis=1)\n",
    "rating_by_region.columns = ['NA Sales', 'EU Sales', 'JP Sales']\n",
    "\n",
    "plt.figure(figsize=(12,6))\n",
    "rating_by_region.plot(kind='bar')\n",
    "plt.title('Rating and sales by region')\n",
    "plt.xlabel('Rating')\n",
    "plt.ylabel('Sales (millions)')\n",
    "plt.xticks(rotation=45)\n",
    "\n",
    "plt.show()"
   ]
  },
  {
   "cell_type": "markdown",
   "metadata": {},
   "source": [
    "Recordemos la nomenclatura del raiting:\n",
    "\n",
    "- E (Everyone): Apto para todos\n",
    "- E10+ (Everyone 10 and Older): Apto para mayores de 10 años\n",
    "- EC (Early Childhood): Apto para niños pequeños\n",
    "- K-A (Kids to Adults)\n",
    "- T (Teen): Adolescentes\n",
    "- M (Mature): Para adultos\n",
    "- AO (Adults Only): Solo para adultos\n",
    "- RP (Rating Pending): Clasificación pendiente\n",
    "\n",
    "Podemos observar que la clasificación de ESRB con mayor ventas en las 3 regiones es la 'E' apta para todos. Lo que nos indica la preferencia por la compra de videojuegos que toda la familia pueda disfrutar.\n",
    "En segundo lugar tenemos la clasificación 'T', en la región de NA y JP. Mientras que para EU es la clasificación 'M'. Esto nos podría indicar que en la región de europa tenemos compradores más maduros y en NA y JP, los juegos para Adolecentes son más elegidos.\n",
    "En tercer lugar vemos que lo anterior cambia de posición, pues en tercer lugar para NA y JP son los videojuegos clasificados 'M' y para Europa sería los clasificación 'T'\n",
    "En cuarto lugar de las ventas más representativas por clasificacion ESRB sería 'E10+' que son juegos aptos para mayores de 10 años.\n",
    "\n",
    "Con ventas significativamente más bajas encontramos las clasificaciones de:\n",
    "- AO (Adults Only): Solo para adultos\n",
    "- EC (Early Childhood): Apto para niños pequeños\n",
    "- K-A (Kids to Adults)\n",
    "- RP (Rating Pending): Clasificación pendiente\n",
    "\n",
    "Por lo que vemos que la venta de videojuegos para el disfrute de toda la familia es la más popular, seguida por un segmento pensado más en un sector especifico que pueden ser los adolecentes o adultos. Finalmente la categoria de niños mayore de 10 años, sería una opción que logra colarse dentro de lo más popular. \n",
    "\n",
    "Sinedo menos demandados los juegos para solo adultos y aptos para niños pequeños, podríamos decir que los extremos de la clasificación. \n"
   ]
  },
  {
   "cell_type": "markdown",
   "metadata": {},
   "source": [
    "# Prueba de hipótesis"
   ]
  },
  {
   "cell_type": "markdown",
   "metadata": {},
   "source": [
    "Para revisar si las calificaciones promedio de los usuarios para las plataformas Xbox One y PC son las mismas y si las calificaciones promedio de los usuarios para los géneros de Acción y Deportes son diferentes, verificaremos esto por medio de una prueba de hipótesis.\n",
    "\n",
    "Para tener una buena evaluación de T-test, se hace previamente una prueba de igualdad de varianzas utilizando la prueba de Levene. \n",
    "\n",
    "Se declarará el nivel de significancia (alfa) con un valor del 0.05 considerando que el nivel de exactitud es suficiente para este estudio. "
   ]
  },
  {
   "cell_type": "markdown",
   "metadata": {},
   "source": [
    "### Hipótesis de plataformas"
   ]
  },
  {
   "cell_type": "markdown",
   "metadata": {},
   "source": [
    "Hipótesis nula: No hay diferencia significativa entre las calificaciones promedio de los usuarios para las plataformas Xbox One y PC.\n",
    "\n",
    "Hipótesis alternativa: Existe una diferencia significativa entre las calificaciones promedio de los usuarios para las plataformas Xbox One y PC."
   ]
  },
  {
   "cell_type": "code",
   "execution_count": 58,
   "metadata": {},
   "outputs": [
    {
     "name": "stdout",
     "output_type": "stream",
     "text": [
      "No podemos rechazar la hipótesis nula: las varianzas de las calificaciones promedio de los usuarios para ambas plataformas no son significativamente diferentes.\n",
      "\n",
      "Se rechaza la hipótesis nula: hay evidencia suficiente para concluir que existe una diferencia significativa entre las calificaciones promedio de los usuarios para las plataformas Xbox One y PC\n"
     ]
    }
   ],
   "source": [
    "data_xone = data_games[data_games['platform'] == 'XOne']['user_score']\n",
    "data_pc = data_games[data_games['platform'] == 'PC']['user_score']\n",
    "\n",
    "levene_test = st.levene(data_xone, data_pc)\n",
    "\n",
    "alpha = 0.05\n",
    "\n",
    "if (levene_test.pvalue < alpha):\n",
    "    print(\"Rechazamos la hipótesis nula: las varianzas de las calificaciones promedio de los usuarios para ambas plataformas son significativamente diferentes.\")\n",
    "else:\n",
    "    print(\"No podemos rechazar la hipótesis nula: las varianzas de las calificaciones promedio de los usuarios para ambas plataformas no son significativamente diferentes.\")\n",
    "print()\n",
    "\n",
    "results = st.ttest_ind(data_xone, data_pc, equal_var=True)\n",
    "\n",
    "if (results.pvalue < alpha):\n",
    "    print(\"Se acepta la hipótesis nula: No hay diferencia significativa entre las calificaciones promedio de los usuarios para las plataformas Xbox One y PC.\")\n",
    "else:\n",
    "    print(\"Se rechaza la hipótesis nula: hay evidencia suficiente para concluir que existe una diferencia significativa entre las calificaciones promedio de los usuarios para las plataformas Xbox One y PC\")"
   ]
  },
  {
   "cell_type": "markdown",
   "metadata": {},
   "source": [
    "### Hipótesis de géneros"
   ]
  },
  {
   "cell_type": "markdown",
   "metadata": {},
   "source": [
    "Hipótesis nula: No hay diferencia significativa entre las calificaciones promedio de los usuarios para los géneros de Acción y Deportes\n",
    "\n",
    "Hipótesis alternativa: Existe una diferencia significativa entre las calificaciones promedio de los usuarios para los géneros de Acción y Deportes"
   ]
  },
  {
   "cell_type": "code",
   "execution_count": 59,
   "metadata": {},
   "outputs": [
    {
     "name": "stdout",
     "output_type": "stream",
     "text": [
      "No podemos rechazar la hipótesis nula: las varianzas de las calificaciones promedio de los usuarios para ambos géneros no son significativamente diferentes.\n",
      "\n",
      "Se rechaza la hipótesis nula: hay evidencia suficiente para concluir  que existe una diferencia significativa entre las calificaciones promedio de los géneros acción y deportes.\n"
     ]
    }
   ],
   "source": [
    "data_action = data_games[data_games['genre'] == 'Action']['user_score']\n",
    "data_sports = data_games[data_games['genre'] == 'Sports']['user_score']\n",
    "\n",
    "levene_test_genre = st.levene(data_action, data_sports)\n",
    "\n",
    "alpha_genre = 0.05\n",
    "\n",
    "if (levene_test_genre.pvalue < alpha_genre):\n",
    "    print(\"Rechazamos la hipótesis nula: las varianzas de las calificaciones promedio de los usuarios para ambos géneros son significativamente diferentes.\")\n",
    "else:\n",
    "    print(\"No podemos rechazar la hipótesis nula: las varianzas de las calificaciones promedio de los usuarios para ambos géneros no son significativamente diferentes.\")\n",
    "print()\n",
    "\n",
    "results_genre = st.ttest_ind(data_action, data_sports, equal_var=True)\n",
    "\n",
    "if (results_genre.pvalue < alpha_genre):\n",
    "    print(\"Se acepta la hipótesis nula: No hay diferencia significativa entre las calificaciones promedio de los usuarios para los géneros acción y deportes.\")\n",
    "else:\n",
    "    print(\"Se rechaza la hipótesis nula: hay evidencia suficiente para concluir  que existe una diferencia significativa entre las calificaciones promedio de los géneros acción y deportes.\")"
   ]
  },
  {
   "cell_type": "markdown",
   "metadata": {},
   "source": [
    "## Concluciones generales"
   ]
  },
  {
   "cell_type": "markdown",
   "metadata": {},
   "source": [
    "A continuación, se proporciona una conclusión general del presente proyecto:\n",
    "\n",
    "*Carga de datos*\n",
    "Se recibe un dataset que contiene los datos de las reseñas de usuarios y expertos, los géneros, las plataformas y los datos históricos sobre las ventas de juegos están disponibles en fuentes abiertas. Los datos presentan un origen de la fecha 1980 al 2016(A tomar que es posible que los datos de 2016 estén incompletos).\n",
    "Sabiendo esto, cargamos el dataset alojado en un archivo CSV.\n",
    "\n",
    "*Modificación de datos*\n",
    "Se comienza el procesamiento de los datos, con la identificación de las columnas que tienen datos nulos, qué tipo de datos se tienen y el nombre de cada columna del dataset. \n",
    "No se encuentran como tales datos duplicados.\n",
    "Se revisa que tipo de datos únicos tiene cada una de las columnas para considera qué hacer con los datos nulos y se toma la decisión de no sustituir ningún dato nulo, con su respectiva justificación.\n",
    "Se realizan las trasformaciones pertinentes de las columnas que así lo requirieron y se justifica el porqué. \n",
    "\n",
    "*Análisis exploratorio*\n",
    "Comenzamos el exploratorio revisando cuantos videojuegos fueron lanzado cada año, se verifican las ventas históricas por plataforma y conocer la popularidad de estas, cada cuando sale una nueva plataforma y cuanto tarda en desaparecer. \n",
    "Se determina que la gran mayoría de las plataformas que se analizan pertenecen a 3 grandes empresas: Nintendo, Sony y Microsoft. Con esta información, y para tener datos más concisos, se analiza el promedio de tiempo que le toma a cada compañía sacar una nueva plataforma y cuanto tiempo en promedio dura esta plataforma en venta, concluyendo que el mejor periodo para un modelo predictivo para el 2017, tomaría datos de los años 2008 al 2015.\n",
    "Se realiza un análisis con boxplot para identificar el comportamiento de las ventas para las diferentes plataformas, identificación de datos atípicos y ventas promedio. Esto se realiza de forma general al dataset y con los datos especifico del periodo anteriormente determinado. \n",
    "Se elige una de las plataformas para analizar la influencia de las críticas de los usuarios y profesionales en las ventas de la misma. En este caso, se elige PS4.Con ayuda de un gráfico de dispersión y el calculo de la correlación se sugieren ciertas conclusiones. Con base a lo anterior se revisan las ventas que tuvieron los mismos juegos que se vendieron en PS4, pero en otras plataformas. Posteriormente se analiza el comportamiento de 2 de los juegos mas populares en PS4 y sus ventas en otras plataformas.\n",
    "Se revisan las ventas por género, tanto para todos los años que hay en el dataset como en particular en el periodo elegido y se saca conclusiones de lo observado.\n",
    "También se realiza un perfil de usuario por región, recordando que tenemos la región de Norteamérica, Europa y Japón, revisando el comportamiento de las 5 plataformas principales y los 5 principales géneros. \n",
    "Se analiza si la clasificación ESRB afecta a las ventas región.\n",
    "\n",
    "*Generación y comprobación de hipótesis* \n",
    "Se generan 2 pruebas de hipótesis, en las cuales, se pudo verificar que existe una diferencia significativa entre las calificaciones promedio de los usuarios para las plataformas Xbox One y PC. Y que hay evidencia suficiente para concluir que existe una diferencia significativa entre las calificaciones promedio de los géneros acción y deportes.\n",
    "\n",
    "Se ha proporcionado información y sugerencias suficientes para que la tienda ‘ICE’ pueda tomar decisiones de acción sobre inversión en proyectos prometedores y cómo poder planificar mejor sus campañas publicitarias. \n"
   ]
  }
 ],
 "metadata": {
  "kernelspec": {
   "display_name": "Python 3 (ipykernel)",
   "language": "python",
   "name": "python3"
  },
  "language_info": {
   "codemirror_mode": {
    "name": "ipython",
    "version": 3
   },
   "file_extension": ".py",
   "mimetype": "text/x-python",
   "name": "python",
   "nbconvert_exporter": "python",
   "pygments_lexer": "ipython3",
   "version": "3.9.5"
  },
  "toc": {
   "base_numbering": 1,
   "nav_menu": {},
   "number_sections": true,
   "sideBar": true,
   "skip_h1_title": true,
   "title_cell": "Table of Contents",
   "title_sidebar": "Contents",
   "toc_cell": false,
   "toc_position": {},
   "toc_section_display": true,
   "toc_window_display": true
  }
 },
 "nbformat": 4,
 "nbformat_minor": 2
}
